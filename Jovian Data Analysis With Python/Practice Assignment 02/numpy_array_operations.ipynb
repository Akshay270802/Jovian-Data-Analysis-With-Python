{
  "cells": [
    {
      "cell_type": "code",
      "execution_count": 1,
      "metadata": {
        "colab": {
          "base_uri": "https://localhost:8080/"
        },
        "id": "vFwWEOzugE-9",
        "outputId": "b2281962-18af-4dd5-fea2-cca001957cc7"
      },
      "outputs": [
        {
          "output_type": "stream",
          "name": "stdout",
          "text": [
            "\u001b[?25l\r\u001b[K     |████▊                           | 10 kB 24.4 MB/s eta 0:00:01\r\u001b[K     |█████████▌                      | 20 kB 10.3 MB/s eta 0:00:01\r\u001b[K     |██████████████▎                 | 30 kB 6.6 MB/s eta 0:00:01\r\u001b[K     |███████████████████             | 40 kB 6.1 MB/s eta 0:00:01\r\u001b[K     |███████████████████████▉        | 51 kB 2.7 MB/s eta 0:00:01\r\u001b[K     |████████████████████████████▋   | 61 kB 3.3 MB/s eta 0:00:01\r\u001b[K     |████████████████████████████████| 68 kB 2.6 MB/s \n",
            "\u001b[?25h  Building wheel for uuid (setup.py) ... \u001b[?25l\u001b[?25hdone\n"
          ]
        }
      ],
      "source": [
        "# Jovian Commit Essentials\n",
        "# Please retain and execute this cell without modifying the contents for `jovian.commit` to work\n",
        "!pip install jovian --upgrade -q\n",
        "import jovian\n",
        "jovian.set_project('numpy-array-operations-f4abd')\n",
        "jovian.set_colab_id('1slyBUzbiRsCkdx7RizZ-UN6B7ah01ihG')"
      ]
    },
    {
      "cell_type": "markdown",
      "metadata": {
        "id": "ba9oIVJagE_E"
      },
      "source": [
        "> ### **Assignment 2 - Numpy Array Operations** \n",
        ">\n",
        "> This assignment is part of the course [\"Data Analysis with Python: Zero to Pandas\"](http://zerotopandas.com). The objective of this assignment is to develop a solid understanding of Numpy array operations. In this assignment you will:\n",
        "> \n",
        "> 1. Pick 5 interesting Numpy array functions by going through the documentation: https://numpy.org/doc/stable/reference/routines.html \n",
        "> 2. Run and modify this Jupyter notebook to illustrate their usage (some explanation and 3 examples for each function). Use your imagination to come up with interesting and unique examples.\n",
        "> 3. Upload this notebook to your Jovian profile using `jovian.commit` and make a submission here: https://jovian.ml/learn/data-analysis-with-python-zero-to-pandas/assignment/assignment-2-numpy-array-operations\n",
        "> 4. (Optional) Share your notebook online (on Twitter, LinkedIn, Facebook) and on the community forum thread: https://jovian.ml/forum/t/assignment-2-numpy-array-operations-share-your-work/10575 . \n",
        "> 5. (Optional) Check out the notebooks [shared by other participants](https://jovian.ml/forum/t/assignment-2-numpy-array-operations-share-your-work/10575) and give feedback & appreciation.\n",
        ">\n",
        "\n",
        "\n",
        "\n",
        "### Introduction\n",
        "Write a short introduction about Numpy and list the chosen functions. \n",
        "\n",
        "- np.concatenate\n",
        "- np.reshape\n",
        "- np.arange\n",
        "- np.linspace\n",
        "- np.round"
      ]
    },
    {
      "cell_type": "code",
      "execution_count": 2,
      "metadata": {
        "id": "p_ciny8KgE_I"
      },
      "outputs": [],
      "source": [
        "!pip install jovian --upgrade -q"
      ]
    },
    {
      "cell_type": "code",
      "execution_count": 3,
      "metadata": {
        "id": "9G9xBKbtgE_J"
      },
      "outputs": [],
      "source": [
        "import jovian"
      ]
    },
    {
      "cell_type": "code",
      "execution_count": 4,
      "metadata": {
        "colab": {
          "base_uri": "https://localhost:8080/",
          "height": 122
        },
        "id": "N-ptcILIgE_K",
        "outputId": "b0fdde5e-cc15-4584-b39a-16ebc8f6048f"
      },
      "outputs": [
        {
          "output_type": "stream",
          "name": "stdout",
          "text": [
            "[jovian] Detected Colab notebook...\u001b[0m\n",
            "[jovian] Please enter your API key ( from https://jovian.ai/ ):\u001b[0m\n",
            "API KEY: ··········\n",
            "[jovian] Uploading colab notebook to Jovian...\u001b[0m\n",
            "Committed successfully! https://jovian.ai/akshay270802/numpy-array-operations\n"
          ]
        },
        {
          "output_type": "execute_result",
          "data": {
            "application/vnd.google.colaboratory.intrinsic+json": {
              "type": "string"
            },
            "text/plain": [
              "'https://jovian.ai/akshay270802/numpy-array-operations'"
            ]
          },
          "metadata": {},
          "execution_count": 4
        }
      ],
      "source": [
        "jovian.commit(project='numpy-array-operations')"
      ]
    },
    {
      "cell_type": "markdown",
      "metadata": {
        "id": "LPfvNN1ygE_M"
      },
      "source": [
        "Let's begin by importing Numpy and listing out the functions covered in this notebook."
      ]
    },
    {
      "cell_type": "code",
      "execution_count": 5,
      "metadata": {
        "id": "ZfyfJjmJgE_N"
      },
      "outputs": [],
      "source": [
        "import numpy as np"
      ]
    },
    {
      "cell_type": "code",
      "source": [
        "# List of functions explained \n",
        "function1 = np.concatenate  # (change this)\n",
        "function2 = np.reshape\n",
        "function3 = np.arange\n",
        "function4 = np.linspace\n",
        "function5 = np.round"
      ],
      "metadata": {
        "id": "aj9PW0Qrjuxw"
      },
      "execution_count": 16,
      "outputs": []
    },
    {
      "cell_type": "markdown",
      "metadata": {
        "id": "X9prnHLAgE_P"
      },
      "source": [
        "## Function 1 - np.concatenate (change this)\n",
        "\n",
        "Add some explanation about the function in your own words"
      ]
    },
    {
      "cell_type": "code",
      "execution_count": 18,
      "metadata": {
        "colab": {
          "base_uri": "https://localhost:8080/"
        },
        "id": "RCUxgyxXgE_Q",
        "outputId": "45d394b5-0f74-4054-92dc-c608028e5ead"
      },
      "outputs": [
        {
          "output_type": "execute_result",
          "data": {
            "text/plain": [
              "array([[ 1.,  2.,  5.,  6.,  7.],\n",
              "       [ 3.,  4.,  8.,  9., 10.]])"
            ]
          },
          "metadata": {},
          "execution_count": 18
        }
      ],
      "source": [
        "# Example 1 - working (change this)\n",
        "#Concatenation of two 2-dimentaional array of size (arr1=(2,2) & arr2= (2,3))  in arr1 with column-wise.\n",
        "arr1 = [[1, 2], \n",
        "        [3, 4.]]\n",
        "\n",
        "arr2 = [[5, 6, 7], \n",
        "        [8, 9, 10]]\n",
        "\n",
        "np.concatenate((arr1, arr2), axis=1)"
      ]
    },
    {
      "cell_type": "markdown",
      "source": [
        "Concatenation of two 2-dimentaional array of size (arr1=(2,2) & arr2= (2,3))  in arr1 with column-wise.It will execute normally because arr1 and arr2 has same size of row.and their is No make any requiirement of column size must be same.**bold text**"
      ],
      "metadata": {
        "id": "UJyTaz_dkIeI"
      }
    },
    {
      "cell_type": "code",
      "execution_count": 19,
      "metadata": {
        "id": "Mr9h61YWgE_S"
      },
      "outputs": [],
      "source": [
        "# Example 2 - working\n",
        "# Concatenation of two 2-dimentaional array of size (arr1=(2,2) & arr2= (2,3))  in arr1 with row-wise."
      ]
    },
    {
      "cell_type": "markdown",
      "source": [
        "### Concatenation of two 2-dimentaional array of size (arr1=(2,2) & arr2= (2,3))  in arr1 with row-wise.**bold text**"
      ],
      "metadata": {
        "id": "hoF5cF3pkS68"
      }
    },
    {
      "cell_type": "code",
      "execution_count": 20,
      "metadata": {
        "colab": {
          "base_uri": "https://localhost:8080/",
          "height": 234
        },
        "id": "3KqK3GXagE_U",
        "outputId": "52c74601-0787-4e72-e570-14a0cd29e1d7"
      },
      "outputs": [
        {
          "output_type": "error",
          "ename": "ValueError",
          "evalue": "ignored",
          "traceback": [
            "\u001b[0;31m---------------------------------------------------------------------------\u001b[0m",
            "\u001b[0;31mValueError\u001b[0m                                Traceback (most recent call last)",
            "\u001b[0;32m<ipython-input-20-c28921102ef0>\u001b[0m in \u001b[0;36m<module>\u001b[0;34m()\u001b[0m\n\u001b[1;32m      7\u001b[0m         [8, 9, 10]]\n\u001b[1;32m      8\u001b[0m \u001b[0;34m\u001b[0m\u001b[0m\n\u001b[0;32m----> 9\u001b[0;31m \u001b[0mnp\u001b[0m\u001b[0;34m.\u001b[0m\u001b[0mconcatenate\u001b[0m\u001b[0;34m(\u001b[0m\u001b[0;34m(\u001b[0m\u001b[0marr1\u001b[0m\u001b[0;34m,\u001b[0m \u001b[0marr2\u001b[0m\u001b[0;34m)\u001b[0m\u001b[0;34m,\u001b[0m \u001b[0maxis\u001b[0m\u001b[0;34m=\u001b[0m\u001b[0;36m0\u001b[0m\u001b[0;34m)\u001b[0m\u001b[0;34m\u001b[0m\u001b[0;34m\u001b[0m\u001b[0m\n\u001b[0m",
            "\u001b[0;32m<__array_function__ internals>\u001b[0m in \u001b[0;36mconcatenate\u001b[0;34m(*args, **kwargs)\u001b[0m\n",
            "\u001b[0;31mValueError\u001b[0m: all the input array dimensions for the concatenation axis must match exactly, but along dimension 1, the array at index 0 has size 2 and the array at index 1 has size 3"
          ]
        }
      ],
      "source": [
        "# Example 3 - breaking (to illustrate when it breaks)\n",
        "# it will gives valueError.Because different size of column.column size must be same as we try to conatenate arrays in row-wise.arr1 has column size 2 and arr2 has column is 3.we can solve problem this in 2 ways 1.making increase size in row of arr1 or 2.making decrease size in row of arr2\n",
        "arr1 = [[1, 2], \n",
        "        [3, 4.]]\n",
        "\n",
        "arr2 = [[5, 6, 7], \n",
        "        [8, 9, 10]]\n",
        "\n",
        "np.concatenate((arr1, arr2), axis=0)"
      ]
    },
    {
      "cell_type": "markdown",
      "source": [
        "**It gives valueError because different size of column.column size must be same as we try to conatenate arrays in row-wise.arr1 has column size 2 and arr2 has column is 3.we can solve problem this in 2 ways 1.making increase size in row of arr1 or 2.making decrease size in row of arr2.**"
      ],
      "metadata": {
        "id": "4u3kmJ0Vkh5X"
      }
    },
    {
      "cell_type": "markdown",
      "source": [
        "### We can use concatenate function to addition of 2 arrays of different size."
      ],
      "metadata": {
        "id": "WOwIJ7wIkv_G"
      }
    },
    {
      "cell_type": "code",
      "execution_count": 21,
      "metadata": {
        "colab": {
          "base_uri": "https://localhost:8080/",
          "height": 88
        },
        "id": "lyfsay6jgE_V",
        "outputId": "992599ba-af1c-4dd0-8115-7453eae899b9"
      },
      "outputs": [
        {
          "output_type": "stream",
          "name": "stdout",
          "text": [
            "[jovian] Detected Colab notebook...\u001b[0m\n",
            "[jovian] Uploading colab notebook to Jovian...\u001b[0m\n",
            "Committed successfully! https://jovian.ai/akshay270802/numpy-array-operations\n"
          ]
        },
        {
          "output_type": "execute_result",
          "data": {
            "application/vnd.google.colaboratory.intrinsic+json": {
              "type": "string"
            },
            "text/plain": [
              "'https://jovian.ai/akshay270802/numpy-array-operations'"
            ]
          },
          "metadata": {},
          "execution_count": 21
        }
      ],
      "source": [
        "jovian.commit()"
      ]
    },
    {
      "cell_type": "markdown",
      "metadata": {
        "id": "wk3dAi21gE_W"
      },
      "source": [
        "##Function 2 - np.reshape\n"
      ]
    },
    {
      "cell_type": "markdown",
      "source": [
        "1.Matrix multiplication of two arrays of size 1-Dimentaional and 2-Diamentional and then concatenation followed by reshaping array in column-wise added in a and perform mean operation on a also attached in columnwise."
      ],
      "metadata": {
        "id": "NL1Tu7C6lF_n"
      }
    },
    {
      "cell_type": "code",
      "execution_count": 22,
      "metadata": {
        "colab": {
          "base_uri": "https://localhost:8080/"
        },
        "id": "_RulD_sjgE_W",
        "outputId": "8e6fb3ca-7aa1-4095-8755-5b87bc3952b2"
      },
      "outputs": [
        {
          "output_type": "stream",
          "name": "stdout",
          "text": [
            "[[  1.5      2.5      3.5     54.75    15.5625]\n",
            " [  4.5      5.6      7.8    134.18    38.02  ]\n",
            " [  7.9      8.9      4.6    159.44    45.21  ]]\n"
          ]
        }
      ],
      "source": [
        "# Example 1 - working\n",
        "a = np.array([[1.5,2.5,3.5],[4.5,5.6,7.8],[7.9,8.9,4.6]])\n",
        "b = np.array([10.4,4.6,7.9])\n",
        "c = a @ b\n",
        "d= np.concatenate((a,c.reshape(3,1)),axis=1)\n",
        "final= np.mean(((d)),axis=1)\n",
        "print(np.concatenate((a,c.reshape(3,1),final.reshape(3,1)),axis =1))"
      ]
    },
    {
      "cell_type": "markdown",
      "metadata": {
        "id": "WIH5qcD1gE_W"
      },
      "source": [
        "Take two arrays of size 1-diam. and 2-diam.array size(1,3) and (3,3).Perform matrix mutiplication.Then array a and c concatenated with reshape of c size=(3,1) and in array a add in column-wise.then find mean of array d with column-wise.finally we have concatenate array a, c and final in column-wise."
      ]
    },
    {
      "cell_type": "code",
      "execution_count": 23,
      "metadata": {
        "colab": {
          "base_uri": "https://localhost:8080/"
        },
        "id": "57y0KiFTgE_X",
        "outputId": "76ff1c24-71aa-42e6-fa76-c32ea145641a"
      },
      "outputs": [
        {
          "output_type": "stream",
          "name": "stdout",
          "text": [
            "[[   10    20    30 14000 14060]\n",
            " [   40    50    60 32000 32150]\n",
            " [   70    80    90 50000 50240]]\n"
          ]
        }
      ],
      "source": [
        "# Example 2 - working\n",
        "a=np.array([[10,20,30],[40,50,60],[70,80,90]])\n",
        "b= np.array([100,200,300])\n",
        "c=np.matmul(a,b)\n",
        "d= np.concatenate((a,c.reshape(3,1)),axis=1)\n",
        "final= np.sum(((d)),axis=1)\n",
        "print(np.concatenate((a,c.reshape(3,1),final.reshape(3,1)),axis =1))"
      ]
    },
    {
      "cell_type": "markdown",
      "metadata": {
        "id": "R_1xXX8jgE_X"
      },
      "source": [
        "Take two arrays of size 1-diam. and 2-diam.array size(1,3) and (3,3).Perform matrix mutiplication.Then array a and c concatenated with reshape of c size=(3,1) and in array a add in column-wise.then find sum of array d with column-wise.finally we have concatenate array a, c and final in column-wise."
      ]
    },
    {
      "cell_type": "code",
      "execution_count": 24,
      "metadata": {
        "colab": {
          "base_uri": "https://localhost:8080/",
          "height": 234
        },
        "id": "KV7aBzTNgE_X",
        "outputId": "42782a2a-3476-479d-bcf4-b033fa0809d1"
      },
      "outputs": [
        {
          "output_type": "error",
          "ename": "ValueError",
          "evalue": "ignored",
          "traceback": [
            "\u001b[0;31m---------------------------------------------------------------------------\u001b[0m",
            "\u001b[0;31mValueError\u001b[0m                                Traceback (most recent call last)",
            "\u001b[0;32m<ipython-input-24-9882fa4d5f3e>\u001b[0m in \u001b[0;36m<module>\u001b[0;34m()\u001b[0m\n\u001b[1;32m      3\u001b[0m \u001b[0mb\u001b[0m \u001b[0;34m=\u001b[0m \u001b[0mnp\u001b[0m\u001b[0;34m.\u001b[0m\u001b[0mround\u001b[0m\u001b[0;34m(\u001b[0m\u001b[0;34m[\u001b[0m\u001b[0;36m10.4\u001b[0m\u001b[0;34m,\u001b[0m\u001b[0;36m4.6\u001b[0m\u001b[0;34m,\u001b[0m\u001b[0;36m7.9\u001b[0m\u001b[0;34m]\u001b[0m\u001b[0;34m)\u001b[0m\u001b[0;34m\u001b[0m\u001b[0;34m\u001b[0m\u001b[0m\n\u001b[1;32m      4\u001b[0m \u001b[0mc\u001b[0m \u001b[0;34m=\u001b[0m \u001b[0ma\u001b[0m \u001b[0;34m@\u001b[0m \u001b[0mb\u001b[0m\u001b[0;34m\u001b[0m\u001b[0;34m\u001b[0m\u001b[0m\n\u001b[0;32m----> 5\u001b[0;31m \u001b[0mprint\u001b[0m\u001b[0;34m(\u001b[0m\u001b[0mnp\u001b[0m\u001b[0;34m.\u001b[0m\u001b[0mconcatenate\u001b[0m\u001b[0;34m(\u001b[0m\u001b[0;34m(\u001b[0m\u001b[0ma\u001b[0m\u001b[0;34m,\u001b[0m\u001b[0mc\u001b[0m\u001b[0;34m)\u001b[0m\u001b[0;34m,\u001b[0m\u001b[0maxis\u001b[0m\u001b[0;34m=\u001b[0m\u001b[0;36m1\u001b[0m\u001b[0;34m)\u001b[0m\u001b[0;34m)\u001b[0m\u001b[0;34m\u001b[0m\u001b[0;34m\u001b[0m\u001b[0m\n\u001b[0m",
            "\u001b[0;32m<__array_function__ internals>\u001b[0m in \u001b[0;36mconcatenate\u001b[0;34m(*args, **kwargs)\u001b[0m\n",
            "\u001b[0;31mValueError\u001b[0m: all the input arrays must have same number of dimensions, but the array at index 0 has 2 dimension(s) and the array at index 1 has 1 dimension(s)"
          ]
        }
      ],
      "source": [
        "# Example 3 - breaking (to illustrate when it breaks)\n",
        "a = np.round([[1.5,2.5,3.5],[4.5,5.6,7.8],[7.9,8.9,4.6]])\n",
        "b = np.round([10.4,4.6,7.9])\n",
        "c = a @ b\n",
        "print(np.concatenate((a,c),axis=1))"
      ]
    },
    {
      "cell_type": "markdown",
      "metadata": {
        "id": "F4rSkl1ugE_Y"
      },
      "source": [
        "Explanation about example (why it breaks and how to fix it): <br>\n",
        "Take two arrays of size 1-diam. and 2-diam.array size(1,3) and (3,3) of float datatype.Perform matrix mutiplication.Then array a and c concatenated with reshape as default,get valueError.we can fix it by reshape(3,1) of c array then we can perform concatenation in column-wise."
      ]
    },
    {
      "cell_type": "markdown",
      "metadata": {
        "id": "IAkLhVENgE_Y"
      },
      "source": [
        "Some closing comments about when to use this function: <br>\n",
        "We can use reshape function to adjust an array in such way that we can perform concatenation on it."
      ]
    },
    {
      "cell_type": "code",
      "execution_count": 25,
      "metadata": {
        "colab": {
          "base_uri": "https://localhost:8080/",
          "height": 88
        },
        "id": "hMJY6rYlgE_Z",
        "outputId": "f94d8c0e-cad0-444b-83fa-1d5196c6d690"
      },
      "outputs": [
        {
          "output_type": "stream",
          "name": "stdout",
          "text": [
            "[jovian] Detected Colab notebook...\u001b[0m\n",
            "[jovian] Uploading colab notebook to Jovian...\u001b[0m\n",
            "Committed successfully! https://jovian.ai/akshay270802/numpy-array-operations\n"
          ]
        },
        {
          "output_type": "execute_result",
          "data": {
            "application/vnd.google.colaboratory.intrinsic+json": {
              "type": "string"
            },
            "text/plain": [
              "'https://jovian.ai/akshay270802/numpy-array-operations'"
            ]
          },
          "metadata": {},
          "execution_count": 25
        }
      ],
      "source": [
        "jovian.commit()"
      ]
    },
    {
      "cell_type": "markdown",
      "metadata": {
        "id": "R5LFgJKggE_Z"
      },
      "source": [
        "## ## Function 3 - np.reshape\n",
        "\n",
        "\n",
        "Find range values between 2 and 23 with gap of 4 values and perform reshape operation on a array to get size (2,3)."
      ]
    },
    {
      "cell_type": "code",
      "execution_count": 26,
      "metadata": {
        "colab": {
          "base_uri": "https://localhost:8080/"
        },
        "id": "M5LL9tjEgE_Z",
        "outputId": "5868739e-a16e-46c6-fe80-f457d266659a"
      },
      "outputs": [
        {
          "output_type": "stream",
          "name": "stdout",
          "text": [
            "[[ 2  6 10]\n",
            " [14 18 22]]\n"
          ]
        }
      ],
      "source": [
        "# Example 1 - working\n",
        "a= np.arange(2,23,4).reshape(2,3)\n",
        "print(a)"
      ]
    },
    {
      "cell_type": "markdown",
      "metadata": {
        "id": "lkZMMCnMgE_a"
      },
      "source": [
        "Finding range of 4 values between 2 and 20 values and then perform reshape operation on a array to get size (2,2)."
      ]
    },
    {
      "cell_type": "code",
      "execution_count": 27,
      "metadata": {
        "colab": {
          "base_uri": "https://localhost:8080/"
        },
        "id": "ADIxWP8ngE_a",
        "outputId": "37cbbc8a-1784-4152-ae21-b9f4761abf4f"
      },
      "outputs": [
        {
          "output_type": "stream",
          "name": "stdout",
          "text": [
            "[[ 2.  8.]\n",
            " [14. 20.]]\n"
          ]
        }
      ],
      "source": [
        "# Example 2 - working\n",
        "b= np.linspace(2,20,4).reshape(2,2)\n",
        "print(b)"
      ]
    },
    {
      "cell_type": "code",
      "execution_count": null,
      "metadata": {
        "id": "h0gZuwMqgE_a"
      },
      "outputs": [],
      "source": [
        "# Example 3 - breaking (to illustrate when it breaks)\n",
        "c= np.arange(16).reshape(4,3)\n",
        "d=np.transpose(c)\n",
        "print(d)"
      ]
    },
    {
      "cell_type": "markdown",
      "metadata": {
        "id": "fOjoIU9zgE_b"
      },
      "source": [
        "Explanation about example (why it breaks and how to fix it): <br>\n",
        "A range of numbers from o to 15 and perfrom reshape operation to get proper array. but because of size(4,3).we get valueError.we can solve this problem by using size(4,4)."
      ]
    },
    {
      "cell_type": "code",
      "execution_count": 28,
      "metadata": {
        "colab": {
          "base_uri": "https://localhost:8080/",
          "height": 88
        },
        "id": "LTkuME6fgE_b",
        "outputId": "af95013c-9628-462e-8c7c-f18af2fea743"
      },
      "outputs": [
        {
          "output_type": "stream",
          "name": "stdout",
          "text": [
            "[jovian] Detected Colab notebook...\u001b[0m\n",
            "[jovian] Uploading colab notebook to Jovian...\u001b[0m\n",
            "Committed successfully! https://jovian.ai/akshay270802/numpy-array-operations\n"
          ]
        },
        {
          "output_type": "execute_result",
          "data": {
            "application/vnd.google.colaboratory.intrinsic+json": {
              "type": "string"
            },
            "text/plain": [
              "'https://jovian.ai/akshay270802/numpy-array-operations'"
            ]
          },
          "metadata": {},
          "execution_count": 28
        }
      ],
      "source": [
        "jovian.commit()"
      ]
    },
    {
      "cell_type": "markdown",
      "metadata": {
        "id": "CUt3ulqagE_b"
      },
      "source": [
        "##Function 3 - np.arange\n",
        "\n",
        "Find range of values from 0 to 24 and split in 4 rows and perform operation in column-wise.then perfom conactenation."
      ]
    },
    {
      "cell_type": "code",
      "execution_count": 29,
      "metadata": {
        "colab": {
          "base_uri": "https://localhost:8080/"
        },
        "id": "gRpyBw6SgE_c",
        "outputId": "fe837158-589d-4987-e637-2e609a41c186"
      },
      "outputs": [
        {
          "output_type": "stream",
          "name": "stdout",
          "text": [
            "[[  0   1   2   3   4   5  15]\n",
            " [  6   7   8   9  10  11  51]\n",
            " [ 12  13  14  15  16  17  87]\n",
            " [ 18  19  20  21  22  23 123]]\n"
          ]
        }
      ],
      "source": [
        "# Example 1 - working\n",
        "a= np.arange(24)\n",
        "b= np.split(a,4)\n",
        "c= np.sum((b),axis=1)\n",
        "print(np.concatenate((b,c.reshape(4,1)),axis=1))"
      ]
    },
    {
      "cell_type": "markdown",
      "metadata": {
        "id": "XUdmbmn7gE_c"
      },
      "source": [
        "Taking range of 24 values then split in 4 rows and then perform sum operation in column-wise. Finally concatenate sum values and range of 24 values in column-wise."
      ]
    },
    {
      "cell_type": "code",
      "execution_count": 30,
      "metadata": {
        "colab": {
          "base_uri": "https://localhost:8080/"
        },
        "id": "jJZu75WygE_c",
        "outputId": "08ce15fc-7bd1-4ff7-dbc1-ce9c47cfb1dd"
      },
      "outputs": [
        {
          "output_type": "stream",
          "name": "stdout",
          "text": [
            "[[ 0.   4.   8.  12. ]\n",
            " [ 1.   5.   9.  13. ]\n",
            " [ 2.   6.  10.  14. ]\n",
            " [ 3.   7.  11.  15. ]\n",
            " [ 1.5  5.5  9.5 13.5]]\n"
          ]
        }
      ],
      "source": [
        "# Example 2 - working\n",
        "a= np.arange(16).reshape(4,4)\n",
        "b=np.transpose(a)\n",
        "c = np.mean((b),axis=0)\n",
        "d= np.concatenate((b,c.reshape(1,4)),axis=0)\n",
        "print(d)"
      ]
    },
    {
      "cell_type": "code",
      "execution_count": 31,
      "metadata": {
        "colab": {
          "base_uri": "https://localhost:8080/",
          "height": 234
        },
        "id": "NQh42HPmgE_d",
        "outputId": "ee407302-690f-4d22-dd95-f72530d238cb"
      },
      "outputs": [
        {
          "output_type": "error",
          "ename": "ValueError",
          "evalue": "ignored",
          "traceback": [
            "\u001b[0;31m---------------------------------------------------------------------------\u001b[0m",
            "\u001b[0;31mValueError\u001b[0m                                Traceback (most recent call last)",
            "\u001b[0;32m<ipython-input-31-9f3c59505a4d>\u001b[0m in \u001b[0;36m<module>\u001b[0;34m()\u001b[0m\n\u001b[1;32m      1\u001b[0m \u001b[0;31m# Example 3 - breaking (to illustrate when it breaks)\u001b[0m\u001b[0;34m\u001b[0m\u001b[0;34m\u001b[0m\u001b[0;34m\u001b[0m\u001b[0m\n\u001b[0;32m----> 2\u001b[0;31m \u001b[0ma\u001b[0m \u001b[0;34m=\u001b[0m \u001b[0mnp\u001b[0m\u001b[0;34m.\u001b[0m\u001b[0marange\u001b[0m\u001b[0;34m(\u001b[0m\u001b[0;36m2\u001b[0m\u001b[0;34m,\u001b[0m\u001b[0;36m36\u001b[0m\u001b[0;34m)\u001b[0m\u001b[0;34m.\u001b[0m\u001b[0mreshape\u001b[0m\u001b[0;34m(\u001b[0m\u001b[0;36m4\u001b[0m\u001b[0;34m,\u001b[0m\u001b[0;36m3\u001b[0m\u001b[0;34m)\u001b[0m\u001b[0;34m\u001b[0m\u001b[0;34m\u001b[0m\u001b[0m\n\u001b[0m\u001b[1;32m      3\u001b[0m \u001b[0mb\u001b[0m \u001b[0;34m=\u001b[0m \u001b[0mnp\u001b[0m\u001b[0;34m.\u001b[0m\u001b[0msum\u001b[0m\u001b[0;34m(\u001b[0m\u001b[0;34m(\u001b[0m\u001b[0ma\u001b[0m\u001b[0;34m)\u001b[0m\u001b[0;34m,\u001b[0m\u001b[0maxis\u001b[0m\u001b[0;34m=\u001b[0m\u001b[0;36m1\u001b[0m\u001b[0;34m)\u001b[0m\u001b[0;34m\u001b[0m\u001b[0;34m\u001b[0m\u001b[0m\n\u001b[1;32m      4\u001b[0m \u001b[0mc\u001b[0m\u001b[0;34m=\u001b[0m \u001b[0mnp\u001b[0m\u001b[0;34m.\u001b[0m\u001b[0mconcatenate\u001b[0m\u001b[0;34m(\u001b[0m\u001b[0;34m(\u001b[0m\u001b[0ma\u001b[0m\u001b[0;34m,\u001b[0m\u001b[0mb\u001b[0m\u001b[0;34m.\u001b[0m\u001b[0mreshape\u001b[0m\u001b[0;34m(\u001b[0m\u001b[0;36m4\u001b[0m\u001b[0;34m,\u001b[0m\u001b[0;36m1\u001b[0m\u001b[0;34m)\u001b[0m\u001b[0;34m)\u001b[0m\u001b[0;34m,\u001b[0m\u001b[0maxis\u001b[0m\u001b[0;34m=\u001b[0m\u001b[0;36m1\u001b[0m\u001b[0;34m)\u001b[0m\u001b[0;34m\u001b[0m\u001b[0;34m\u001b[0m\u001b[0m\n\u001b[1;32m      5\u001b[0m \u001b[0mprint\u001b[0m\u001b[0;34m(\u001b[0m\u001b[0mc\u001b[0m\u001b[0;34m)\u001b[0m\u001b[0;34m\u001b[0m\u001b[0;34m\u001b[0m\u001b[0m\n",
            "\u001b[0;31mValueError\u001b[0m: cannot reshape array of size 34 into shape (4,3)"
          ]
        }
      ],
      "source": [
        "# Example 3 - breaking (to illustrate when it breaks)\n",
        "a = np.arange(2,36).reshape(4,3)\n",
        "b = np.sum((a),axis=1)\n",
        "c= np.concatenate((a,b.reshape(4,1)),axis=1)\n",
        "print(c)"
      ]
    },
    {
      "cell_type": "markdown",
      "metadata": {
        "id": "NJLutr4ugE_d"
      },
      "source": [
        "Explanation about example (why it breaks and how to fix it): <br>\n",
        "In arange function we must have to specify 3 parameters  as minimum value, maximum value and gap in between values if we forgot to specify any values we get ValueError. It can be eliminated by specifying 3 parameters."
      ]
    },
    {
      "cell_type": "code",
      "execution_count": 32,
      "metadata": {
        "colab": {
          "base_uri": "https://localhost:8080/",
          "height": 88
        },
        "id": "Aou8YLzqgE_e",
        "outputId": "f34feef4-278b-4c29-f213-1d49124521a2"
      },
      "outputs": [
        {
          "output_type": "stream",
          "name": "stdout",
          "text": [
            "[jovian] Detected Colab notebook...\u001b[0m\n",
            "[jovian] Uploading colab notebook to Jovian...\u001b[0m\n",
            "Committed successfully! https://jovian.ai/akshay270802/numpy-array-operations\n"
          ]
        },
        {
          "output_type": "execute_result",
          "data": {
            "application/vnd.google.colaboratory.intrinsic+json": {
              "type": "string"
            },
            "text/plain": [
              "'https://jovian.ai/akshay270802/numpy-array-operations'"
            ]
          },
          "metadata": {},
          "execution_count": 32
        }
      ],
      "source": [
        "jovian.commit()"
      ]
    },
    {
      "cell_type": "markdown",
      "metadata": {
        "id": "7jPpBklSgE_e"
      },
      "source": [
        "## Function 5 - np.linspace\n",
        "\n",
        "Linspace is use to find values as per given range"
      ]
    },
    {
      "cell_type": "code",
      "execution_count": null,
      "metadata": {
        "id": "_Vb-PRKOgE_e"
      },
      "outputs": [],
      "source": [
        "# Example 1 - working\n",
        "a = np.linspace(0,40,12).reshape(4,3)\n",
        "b= np.max((a),axis=0)\n",
        "print(np.concatenate((a,b.reshape(1,3)),axis= 0))"
      ]
    },
    {
      "cell_type": "markdown",
      "metadata": {
        "id": "qqrH1OSFgE_f"
      },
      "source": [
        "Explanation about example"
      ]
    },
    {
      "cell_type": "code",
      "execution_count": 33,
      "metadata": {
        "colab": {
          "base_uri": "https://localhost:8080/"
        },
        "id": "roRzI5sugE_f",
        "outputId": "170384cb-4a40-4777-da40-8dc9dc560c88"
      },
      "outputs": [
        {
          "output_type": "stream",
          "name": "stdout",
          "text": [
            "[[ 0.          4.54545455  9.09090909  0.        ]\n",
            " [13.63636364 18.18181818 22.72727273 13.63636364]\n",
            " [27.27272727 31.81818182 36.36363636 27.27272727]\n",
            " [40.90909091 45.45454545 50.         40.90909091]]\n"
          ]
        }
      ],
      "source": [
        "# Example 2 - working\n",
        "a=np.linspace(0,50,12).reshape(4,3)\n",
        "b= np.min((a),axis =1)\n",
        "c= np.concatenate((a,b.reshape(4,1)),axis=1)\n",
        "print(c)"
      ]
    },
    {
      "cell_type": "code",
      "execution_count": 34,
      "metadata": {
        "colab": {
          "base_uri": "https://localhost:8080/",
          "height": 234
        },
        "id": "tHlBwz8ygE_f",
        "outputId": "bdf1cc2e-bfd1-46b4-aa58-94788a9503fb"
      },
      "outputs": [
        {
          "output_type": "error",
          "ename": "ValueError",
          "evalue": "ignored",
          "traceback": [
            "\u001b[0;31m---------------------------------------------------------------------------\u001b[0m",
            "\u001b[0;31mValueError\u001b[0m                                Traceback (most recent call last)",
            "\u001b[0;32m<ipython-input-34-9fdb747b95bb>\u001b[0m in \u001b[0;36m<module>\u001b[0;34m()\u001b[0m\n\u001b[1;32m      1\u001b[0m \u001b[0;31m# Example 3 - breaking (to illustrate when it breaks)\u001b[0m\u001b[0;34m\u001b[0m\u001b[0;34m\u001b[0m\u001b[0;34m\u001b[0m\u001b[0m\n\u001b[0;32m----> 2\u001b[0;31m \u001b[0ma\u001b[0m\u001b[0;34m=\u001b[0m \u001b[0mnp\u001b[0m\u001b[0;34m.\u001b[0m\u001b[0mlinspace\u001b[0m\u001b[0;34m(\u001b[0m\u001b[0;36m0\u001b[0m\u001b[0;34m,\u001b[0m\u001b[0;36m100\u001b[0m\u001b[0;34m,\u001b[0m\u001b[0;36m10\u001b[0m\u001b[0;34m)\u001b[0m\u001b[0;34m.\u001b[0m\u001b[0mreshape\u001b[0m\u001b[0;34m(\u001b[0m\u001b[0;36m4\u001b[0m\u001b[0;34m,\u001b[0m\u001b[0;36m3\u001b[0m\u001b[0;34m)\u001b[0m\u001b[0;34m\u001b[0m\u001b[0;34m\u001b[0m\u001b[0m\n\u001b[0m\u001b[1;32m      3\u001b[0m \u001b[0mb\u001b[0m\u001b[0;34m=\u001b[0m \u001b[0mnp\u001b[0m\u001b[0;34m.\u001b[0m\u001b[0mstd\u001b[0m\u001b[0;34m(\u001b[0m\u001b[0;34m(\u001b[0m\u001b[0ma\u001b[0m\u001b[0;34m)\u001b[0m\u001b[0;34m,\u001b[0m\u001b[0maxis\u001b[0m \u001b[0;34m=\u001b[0m\u001b[0;36m1\u001b[0m\u001b[0;34m)\u001b[0m\u001b[0;34m\u001b[0m\u001b[0;34m\u001b[0m\u001b[0m\n\u001b[1;32m      4\u001b[0m \u001b[0mc\u001b[0m\u001b[0;34m=\u001b[0m \u001b[0mnp\u001b[0m\u001b[0;34m.\u001b[0m\u001b[0mconcatenate\u001b[0m\u001b[0;34m(\u001b[0m\u001b[0;34m(\u001b[0m\u001b[0ma\u001b[0m\u001b[0;34m,\u001b[0m\u001b[0mb\u001b[0m\u001b[0;34m.\u001b[0m\u001b[0mreshape\u001b[0m\u001b[0;34m(\u001b[0m\u001b[0;36m4\u001b[0m\u001b[0;34m,\u001b[0m\u001b[0;36m1\u001b[0m\u001b[0;34m)\u001b[0m\u001b[0;34m)\u001b[0m\u001b[0;34m,\u001b[0m\u001b[0maxis\u001b[0m\u001b[0;34m=\u001b[0m\u001b[0;36m1\u001b[0m\u001b[0;34m)\u001b[0m\u001b[0;34m\u001b[0m\u001b[0;34m\u001b[0m\u001b[0m\n\u001b[1;32m      5\u001b[0m \u001b[0mprint\u001b[0m\u001b[0;34m(\u001b[0m\u001b[0mc\u001b[0m\u001b[0;34m)\u001b[0m\u001b[0;34m\u001b[0m\u001b[0;34m\u001b[0m\u001b[0m\n",
            "\u001b[0;31mValueError\u001b[0m: cannot reshape array of size 10 into shape (4,3)"
          ]
        }
      ],
      "source": [
        "# Example 3 - breaking (to illustrate when it breaks)\n",
        "a= np.linspace(0,100,10).reshape(4,3)\n",
        "b= np.std((a),axis =1)\n",
        "c= np.concatenate((a,b.reshape(4,1)),axis=1)\n",
        "print(c)"
      ]
    },
    {
      "cell_type": "markdown",
      "metadata": {
        "id": "W2oXVCzkgE_f"
      },
      "source": [
        "Explanation about example (why it breaks and how to fix it): <br>\n",
        "In linespace function, we get an valueErrorbecause as we put improper linespace and reshape size.To solve this problem  we must put proper parameters in linespace and it must match with reshape size."
      ]
    },
    {
      "cell_type": "code",
      "execution_count": 35,
      "metadata": {
        "colab": {
          "base_uri": "https://localhost:8080/",
          "height": 88
        },
        "id": "euxiES_ugE_g",
        "outputId": "f9e2aebd-9721-424c-aafc-7422be2948b1"
      },
      "outputs": [
        {
          "output_type": "stream",
          "name": "stdout",
          "text": [
            "[jovian] Detected Colab notebook...\u001b[0m\n",
            "[jovian] Uploading colab notebook to Jovian...\u001b[0m\n",
            "Committed successfully! https://jovian.ai/akshay270802/numpy-array-operations\n"
          ]
        },
        {
          "output_type": "execute_result",
          "data": {
            "application/vnd.google.colaboratory.intrinsic+json": {
              "type": "string"
            },
            "text/plain": [
              "'https://jovian.ai/akshay270802/numpy-array-operations'"
            ]
          },
          "metadata": {},
          "execution_count": 35
        }
      ],
      "source": [
        "jovian.commit()"
      ]
    },
    {
      "cell_type": "code",
      "execution_count": 36,
      "metadata": {
        "colab": {
          "base_uri": "https://localhost:8080/",
          "height": 88
        },
        "id": "koKpK2zkgE_h",
        "outputId": "80cd442c-4bf1-4e9f-d13e-f8ad11d88262"
      },
      "outputs": [
        {
          "output_type": "stream",
          "name": "stdout",
          "text": [
            "[jovian] Detected Colab notebook...\u001b[0m\n",
            "[jovian] Uploading colab notebook to Jovian...\u001b[0m\n",
            "Committed successfully! https://jovian.ai/akshay270802/numpy-array-operations\n"
          ]
        },
        {
          "output_type": "execute_result",
          "data": {
            "application/vnd.google.colaboratory.intrinsic+json": {
              "type": "string"
            },
            "text/plain": [
              "'https://jovian.ai/akshay270802/numpy-array-operations'"
            ]
          },
          "metadata": {},
          "execution_count": 36
        }
      ],
      "source": [
        "jovian.commit()"
      ]
    }
  ],
  "metadata": {
    "kernelspec": {
      "display_name": "Python 3",
      "language": "python",
      "name": "python3"
    },
    "language_info": {
      "codemirror_mode": {
        "name": "ipython",
        "version": 3
      },
      "file_extension": ".py",
      "mimetype": "text/x-python",
      "name": "python",
      "nbconvert_exporter": "python",
      "pygments_lexer": "ipython3",
      "version": "3.8.6"
    },
    "colab": {
      "name": "numpy-array-operations.ipynb",
      "provenance": []
    }
  },
  "nbformat": 4,
  "nbformat_minor": 0
}