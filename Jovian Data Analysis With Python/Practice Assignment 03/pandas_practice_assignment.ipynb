{
  "cells": [
    {
      "cell_type": "code",
      "execution_count": 1,
      "metadata": {
        "colab": {
          "base_uri": "https://localhost:8080/"
        },
        "id": "qUXoGBiM1UUD",
        "outputId": "5cac8db5-e380-4fa7-dc4d-2ea975c599b0"
      },
      "outputs": [
        {
          "output_type": "stream",
          "name": "stdout",
          "text": [
            "\u001b[?25l\r\u001b[K     |████▊                           | 10 kB 22.2 MB/s eta 0:00:01\r\u001b[K     |█████████▌                      | 20 kB 27.1 MB/s eta 0:00:01\r\u001b[K     |██████████████▎                 | 30 kB 21.4 MB/s eta 0:00:01\r\u001b[K     |███████████████████             | 40 kB 12.7 MB/s eta 0:00:01\r\u001b[K     |███████████████████████▉        | 51 kB 5.5 MB/s eta 0:00:01\r\u001b[K     |████████████████████████████▋   | 61 kB 6.5 MB/s eta 0:00:01\r\u001b[K     |████████████████████████████████| 68 kB 3.5 MB/s \n",
            "\u001b[?25h  Building wheel for uuid (setup.py) ... \u001b[?25l\u001b[?25hdone\n"
          ]
        }
      ],
      "source": [
        "# Jovian Commit Essentials\n",
        "# Please retain and execute this cell without modifying the contents for `jovian.commit` to work\n",
        "!pip install jovian --upgrade -q\n",
        "import jovian\n",
        "jovian.set_project('pandas-practice-assignment')\n",
        "jovian.set_colab_id('1UB_hHjH3LFYBCjSmQO1suDp-q6GiFwb9')"
      ]
    },
    {
      "cell_type": "markdown",
      "metadata": {
        "id": "1hXcg11QwzuX"
      },
      "source": [
        "# Assignment 3 - Pandas Data Analysis Practice\n",
        "\n",
        "*This assignment is a part of the course [\"Data Analysis with Python: Zero to Pandas\"](https://jovian.ai/learn/data-analysis-with-python-zero-to-pandas)*\n",
        "\n",
        "In this assignment, you'll get to practice some of the concepts and skills covered in this tutorial: https://jovian.ai/aakashns/python-pandas-data-analysis\n",
        "\n",
        "As you go through this notebook, you will find a **???** in certain places. To complete this assignment, you must replace all the **???** with appropriate values, expressions or statements to ensure that the notebook runs properly end-to-end. \n",
        "\n",
        "Some things to keep in mind:\n",
        "\n",
        "* Make sure to run all the code cells, otherwise you may get errors like `NameError` for undefined variables.\n",
        "* Do not change variable names, delete cells or disturb other existing code. It may cause problems during evaluation.\n",
        "* In some cases, you may need to add some code cells or new statements before or after the line of code containing the **???**. \n",
        "* Since you'll be using a temporary online service for code execution, save your work by running `jovian.commit` at regular intervals.\n",
        "* Questions marked **(Optional)** will not be considered for evaluation, and can be skipped. They are for your learning.\n",
        "\n",
        "You can make submissions on this page: https://jovian.ai/learn/data-analysis-with-python-zero-to-pandas/assignment/assignment-3-pandas-practice\n",
        "\n",
        "If you are stuck, you can ask for help on the community forum: https://jovian.ai/forum/t/assignment-3-pandas-practice/11225/3. You can get help with errors or ask for hints, describe your approach in simple words, link to documentation, but **please don't ask for or share the full working answer code** on the forum.\n",
        "\n",
        "\n",
        "## How to run the code and save your work\n",
        "\n",
        "The recommended way to run this notebook is to click the \"Run\" button at the top of this page, and select \"Run on Binder\". This will run the notebook on [mybinder.org](https://mybinder.org), a free online service for running Jupyter notebooks. \n",
        "\n",
        "Before starting the assignment, let's save a snapshot of the assignment to your Jovian.ai profile, so that you can access it later, and continue your work."
      ]
    },
    {
      "cell_type": "code",
      "execution_count": 2,
      "metadata": {
        "id": "5Tgyr1CHwzuc"
      },
      "outputs": [],
      "source": [
        "import jovian"
      ]
    },
    {
      "cell_type": "code",
      "execution_count": 3,
      "metadata": {
        "colab": {
          "base_uri": "https://localhost:8080/",
          "height": 122
        },
        "id": "wPudxnL6wzud",
        "outputId": "ca8fe088-c48b-4343-e1b8-40a077f4b64c"
      },
      "outputs": [
        {
          "output_type": "stream",
          "name": "stdout",
          "text": [
            "[jovian] Detected Colab notebook...\u001b[0m\n",
            "[jovian] Please enter your API key ( from https://jovian.ai/ ):\u001b[0m\n",
            "API KEY: ··········\n",
            "[jovian] Uploading colab notebook to Jovian...\u001b[0m\n",
            "Committed successfully! https://jovian.ai/akshay270802/pandas-practice-assignment\n"
          ]
        },
        {
          "output_type": "execute_result",
          "data": {
            "application/vnd.google.colaboratory.intrinsic+json": {
              "type": "string"
            },
            "text/plain": [
              "'https://jovian.ai/akshay270802/pandas-practice-assignment'"
            ]
          },
          "metadata": {},
          "execution_count": 3
        }
      ],
      "source": [
        "jovian.commit(project='pandas-practice-assignment', environment=None)"
      ]
    },
    {
      "cell_type": "code",
      "execution_count": 4,
      "metadata": {
        "colab": {
          "base_uri": "https://localhost:8080/"
        },
        "id": "POvsUAYbwzuf",
        "outputId": "362a0771-5181-45e4-c7ce-03a06807af70"
      },
      "outputs": [
        {
          "output_type": "stream",
          "name": "stdout",
          "text": [
            "Requirement already satisfied: pandas in /usr/local/lib/python3.7/dist-packages (1.3.5)\n",
            "Requirement already satisfied: numpy>=1.17.3 in /usr/local/lib/python3.7/dist-packages (from pandas) (1.21.5)\n",
            "Requirement already satisfied: python-dateutil>=2.7.3 in /usr/local/lib/python3.7/dist-packages (from pandas) (2.8.2)\n",
            "Requirement already satisfied: pytz>=2017.3 in /usr/local/lib/python3.7/dist-packages (from pandas) (2018.9)\n",
            "Requirement already satisfied: six>=1.5 in /usr/local/lib/python3.7/dist-packages (from python-dateutil>=2.7.3->pandas) (1.15.0)\n"
          ]
        }
      ],
      "source": [
        "# Run the next line to install Pandas\n",
        "!pip install pandas --upgrade"
      ]
    },
    {
      "cell_type": "code",
      "execution_count": 5,
      "metadata": {
        "id": "BquggSjtwzug"
      },
      "outputs": [],
      "source": [
        "import pandas as pd"
      ]
    },
    {
      "cell_type": "markdown",
      "metadata": {
        "id": "ZOFRrZREwzuh"
      },
      "source": [
        "In this assignment, we're going to analyze an operate on data from a CSV file. Let's begin by downloading the CSV file."
      ]
    },
    {
      "cell_type": "code",
      "execution_count": 6,
      "metadata": {
        "colab": {
          "base_uri": "https://localhost:8080/"
        },
        "id": "JyXeNTcZwzuj",
        "outputId": "84884758-f01b-406d-b9c9-48ec172784e3"
      },
      "outputs": [
        {
          "output_type": "execute_result",
          "data": {
            "text/plain": [
              "('countries.csv', <http.client.HTTPMessage at 0x7f99a1923e50>)"
            ]
          },
          "metadata": {},
          "execution_count": 6
        }
      ],
      "source": [
        "from urllib.request import urlretrieve\n",
        "\n",
        "urlretrieve('https://gist.githubusercontent.com/aakashns/28b2e504b3350afd9bdb157893f9725c/raw/994b65665757f4f8887db1c85986a897abb23d84/countries.csv', \n",
        "            'countries.csv')"
      ]
    },
    {
      "cell_type": "markdown",
      "metadata": {
        "id": "mQxDPf0Ewzul"
      },
      "source": [
        "Let's load the data from the CSV file into a Pandas data frame."
      ]
    },
    {
      "cell_type": "code",
      "execution_count": 7,
      "metadata": {
        "id": "KMXbEf6Rwzum"
      },
      "outputs": [],
      "source": [
        "countries_df = pd.read_csv('countries.csv')"
      ]
    },
    {
      "cell_type": "code",
      "execution_count": 8,
      "metadata": {
        "colab": {
          "base_uri": "https://localhost:8080/",
          "height": 423
        },
        "id": "SVh042mgwzun",
        "outputId": "85af756e-8ba1-4380-dd4d-e6b604681b2e"
      },
      "outputs": [
        {
          "output_type": "execute_result",
          "data": {
            "text/html": [
              "\n",
              "  <div id=\"df-c434740e-187e-4a6e-8f30-f2cefd96ed1f\">\n",
              "    <div class=\"colab-df-container\">\n",
              "      <div>\n",
              "<style scoped>\n",
              "    .dataframe tbody tr th:only-of-type {\n",
              "        vertical-align: middle;\n",
              "    }\n",
              "\n",
              "    .dataframe tbody tr th {\n",
              "        vertical-align: top;\n",
              "    }\n",
              "\n",
              "    .dataframe thead th {\n",
              "        text-align: right;\n",
              "    }\n",
              "</style>\n",
              "<table border=\"1\" class=\"dataframe\">\n",
              "  <thead>\n",
              "    <tr style=\"text-align: right;\">\n",
              "      <th></th>\n",
              "      <th>location</th>\n",
              "      <th>continent</th>\n",
              "      <th>population</th>\n",
              "      <th>life_expectancy</th>\n",
              "      <th>hospital_beds_per_thousand</th>\n",
              "      <th>gdp_per_capita</th>\n",
              "    </tr>\n",
              "  </thead>\n",
              "  <tbody>\n",
              "    <tr>\n",
              "      <th>0</th>\n",
              "      <td>Afghanistan</td>\n",
              "      <td>Asia</td>\n",
              "      <td>38928341.0</td>\n",
              "      <td>64.83</td>\n",
              "      <td>0.50</td>\n",
              "      <td>1803.987</td>\n",
              "    </tr>\n",
              "    <tr>\n",
              "      <th>1</th>\n",
              "      <td>Albania</td>\n",
              "      <td>Europe</td>\n",
              "      <td>2877800.0</td>\n",
              "      <td>78.57</td>\n",
              "      <td>2.89</td>\n",
              "      <td>11803.431</td>\n",
              "    </tr>\n",
              "    <tr>\n",
              "      <th>2</th>\n",
              "      <td>Algeria</td>\n",
              "      <td>Africa</td>\n",
              "      <td>43851043.0</td>\n",
              "      <td>76.88</td>\n",
              "      <td>1.90</td>\n",
              "      <td>13913.839</td>\n",
              "    </tr>\n",
              "    <tr>\n",
              "      <th>3</th>\n",
              "      <td>Andorra</td>\n",
              "      <td>Europe</td>\n",
              "      <td>77265.0</td>\n",
              "      <td>83.73</td>\n",
              "      <td>NaN</td>\n",
              "      <td>NaN</td>\n",
              "    </tr>\n",
              "    <tr>\n",
              "      <th>4</th>\n",
              "      <td>Angola</td>\n",
              "      <td>Africa</td>\n",
              "      <td>32866268.0</td>\n",
              "      <td>61.15</td>\n",
              "      <td>NaN</td>\n",
              "      <td>5819.495</td>\n",
              "    </tr>\n",
              "    <tr>\n",
              "      <th>...</th>\n",
              "      <td>...</td>\n",
              "      <td>...</td>\n",
              "      <td>...</td>\n",
              "      <td>...</td>\n",
              "      <td>...</td>\n",
              "      <td>...</td>\n",
              "    </tr>\n",
              "    <tr>\n",
              "      <th>205</th>\n",
              "      <td>Vietnam</td>\n",
              "      <td>Asia</td>\n",
              "      <td>97338583.0</td>\n",
              "      <td>75.40</td>\n",
              "      <td>2.60</td>\n",
              "      <td>6171.884</td>\n",
              "    </tr>\n",
              "    <tr>\n",
              "      <th>206</th>\n",
              "      <td>Western Sahara</td>\n",
              "      <td>Africa</td>\n",
              "      <td>597330.0</td>\n",
              "      <td>70.26</td>\n",
              "      <td>NaN</td>\n",
              "      <td>NaN</td>\n",
              "    </tr>\n",
              "    <tr>\n",
              "      <th>207</th>\n",
              "      <td>Yemen</td>\n",
              "      <td>Asia</td>\n",
              "      <td>29825968.0</td>\n",
              "      <td>66.12</td>\n",
              "      <td>0.70</td>\n",
              "      <td>1479.147</td>\n",
              "    </tr>\n",
              "    <tr>\n",
              "      <th>208</th>\n",
              "      <td>Zambia</td>\n",
              "      <td>Africa</td>\n",
              "      <td>18383956.0</td>\n",
              "      <td>63.89</td>\n",
              "      <td>2.00</td>\n",
              "      <td>3689.251</td>\n",
              "    </tr>\n",
              "    <tr>\n",
              "      <th>209</th>\n",
              "      <td>Zimbabwe</td>\n",
              "      <td>Africa</td>\n",
              "      <td>14862927.0</td>\n",
              "      <td>61.49</td>\n",
              "      <td>1.70</td>\n",
              "      <td>1899.775</td>\n",
              "    </tr>\n",
              "  </tbody>\n",
              "</table>\n",
              "<p>210 rows × 6 columns</p>\n",
              "</div>\n",
              "      <button class=\"colab-df-convert\" onclick=\"convertToInteractive('df-c434740e-187e-4a6e-8f30-f2cefd96ed1f')\"\n",
              "              title=\"Convert this dataframe to an interactive table.\"\n",
              "              style=\"display:none;\">\n",
              "        \n",
              "  <svg xmlns=\"http://www.w3.org/2000/svg\" height=\"24px\"viewBox=\"0 0 24 24\"\n",
              "       width=\"24px\">\n",
              "    <path d=\"M0 0h24v24H0V0z\" fill=\"none\"/>\n",
              "    <path d=\"M18.56 5.44l.94 2.06.94-2.06 2.06-.94-2.06-.94-.94-2.06-.94 2.06-2.06.94zm-11 1L8.5 8.5l.94-2.06 2.06-.94-2.06-.94L8.5 2.5l-.94 2.06-2.06.94zm10 10l.94 2.06.94-2.06 2.06-.94-2.06-.94-.94-2.06-.94 2.06-2.06.94z\"/><path d=\"M17.41 7.96l-1.37-1.37c-.4-.4-.92-.59-1.43-.59-.52 0-1.04.2-1.43.59L10.3 9.45l-7.72 7.72c-.78.78-.78 2.05 0 2.83L4 21.41c.39.39.9.59 1.41.59.51 0 1.02-.2 1.41-.59l7.78-7.78 2.81-2.81c.8-.78.8-2.07 0-2.86zM5.41 20L4 18.59l7.72-7.72 1.47 1.35L5.41 20z\"/>\n",
              "  </svg>\n",
              "      </button>\n",
              "      \n",
              "  <style>\n",
              "    .colab-df-container {\n",
              "      display:flex;\n",
              "      flex-wrap:wrap;\n",
              "      gap: 12px;\n",
              "    }\n",
              "\n",
              "    .colab-df-convert {\n",
              "      background-color: #E8F0FE;\n",
              "      border: none;\n",
              "      border-radius: 50%;\n",
              "      cursor: pointer;\n",
              "      display: none;\n",
              "      fill: #1967D2;\n",
              "      height: 32px;\n",
              "      padding: 0 0 0 0;\n",
              "      width: 32px;\n",
              "    }\n",
              "\n",
              "    .colab-df-convert:hover {\n",
              "      background-color: #E2EBFA;\n",
              "      box-shadow: 0px 1px 2px rgba(60, 64, 67, 0.3), 0px 1px 3px 1px rgba(60, 64, 67, 0.15);\n",
              "      fill: #174EA6;\n",
              "    }\n",
              "\n",
              "    [theme=dark] .colab-df-convert {\n",
              "      background-color: #3B4455;\n",
              "      fill: #D2E3FC;\n",
              "    }\n",
              "\n",
              "    [theme=dark] .colab-df-convert:hover {\n",
              "      background-color: #434B5C;\n",
              "      box-shadow: 0px 1px 3px 1px rgba(0, 0, 0, 0.15);\n",
              "      filter: drop-shadow(0px 1px 2px rgba(0, 0, 0, 0.3));\n",
              "      fill: #FFFFFF;\n",
              "    }\n",
              "  </style>\n",
              "\n",
              "      <script>\n",
              "        const buttonEl =\n",
              "          document.querySelector('#df-c434740e-187e-4a6e-8f30-f2cefd96ed1f button.colab-df-convert');\n",
              "        buttonEl.style.display =\n",
              "          google.colab.kernel.accessAllowed ? 'block' : 'none';\n",
              "\n",
              "        async function convertToInteractive(key) {\n",
              "          const element = document.querySelector('#df-c434740e-187e-4a6e-8f30-f2cefd96ed1f');\n",
              "          const dataTable =\n",
              "            await google.colab.kernel.invokeFunction('convertToInteractive',\n",
              "                                                     [key], {});\n",
              "          if (!dataTable) return;\n",
              "\n",
              "          const docLinkHtml = 'Like what you see? Visit the ' +\n",
              "            '<a target=\"_blank\" href=https://colab.research.google.com/notebooks/data_table.ipynb>data table notebook</a>'\n",
              "            + ' to learn more about interactive tables.';\n",
              "          element.innerHTML = '';\n",
              "          dataTable['output_type'] = 'display_data';\n",
              "          await google.colab.output.renderOutput(dataTable, element);\n",
              "          const docLink = document.createElement('div');\n",
              "          docLink.innerHTML = docLinkHtml;\n",
              "          element.appendChild(docLink);\n",
              "        }\n",
              "      </script>\n",
              "    </div>\n",
              "  </div>\n",
              "  "
            ],
            "text/plain": [
              "           location continent  ...  hospital_beds_per_thousand  gdp_per_capita\n",
              "0       Afghanistan      Asia  ...                        0.50        1803.987\n",
              "1           Albania    Europe  ...                        2.89       11803.431\n",
              "2           Algeria    Africa  ...                        1.90       13913.839\n",
              "3           Andorra    Europe  ...                         NaN             NaN\n",
              "4            Angola    Africa  ...                         NaN        5819.495\n",
              "..              ...       ...  ...                         ...             ...\n",
              "205         Vietnam      Asia  ...                        2.60        6171.884\n",
              "206  Western Sahara    Africa  ...                         NaN             NaN\n",
              "207           Yemen      Asia  ...                        0.70        1479.147\n",
              "208          Zambia    Africa  ...                        2.00        3689.251\n",
              "209        Zimbabwe    Africa  ...                        1.70        1899.775\n",
              "\n",
              "[210 rows x 6 columns]"
            ]
          },
          "metadata": {},
          "execution_count": 8
        }
      ],
      "source": [
        "countries_df"
      ]
    },
    {
      "cell_type": "markdown",
      "metadata": {
        "id": "eESlChk2wzun"
      },
      "source": [
        "**Q1: How many countries does the dataframe contain?**\n",
        "\n",
        "Hint: Use the `.shape` method."
      ]
    },
    {
      "cell_type": "code",
      "execution_count": 9,
      "metadata": {
        "id": "n5NiN2JMwzuo"
      },
      "outputs": [],
      "source": [
        "num_countries = countries_df.shape[0]"
      ]
    },
    {
      "cell_type": "code",
      "execution_count": 10,
      "metadata": {
        "colab": {
          "base_uri": "https://localhost:8080/"
        },
        "id": "akwmHbqHwzup",
        "outputId": "a6138201-3fe8-4cee-900e-b98ece98b54b"
      },
      "outputs": [
        {
          "output_type": "stream",
          "name": "stdout",
          "text": [
            "There are 210 countries in the dataset\n"
          ]
        }
      ],
      "source": [
        "print('There are {} countries in the dataset'.format(num_countries))"
      ]
    },
    {
      "cell_type": "code",
      "execution_count": 11,
      "metadata": {
        "colab": {
          "base_uri": "https://localhost:8080/",
          "height": 88
        },
        "id": "xxQn01x2wzuq",
        "outputId": "2eb326b7-1d2e-49c0-ed6d-ea05e430888b"
      },
      "outputs": [
        {
          "output_type": "stream",
          "name": "stdout",
          "text": [
            "[jovian] Detected Colab notebook...\u001b[0m\n",
            "[jovian] Uploading colab notebook to Jovian...\u001b[0m\n",
            "Committed successfully! https://jovian.ai/akshay270802/pandas-practice-assignment\n"
          ]
        },
        {
          "output_type": "execute_result",
          "data": {
            "application/vnd.google.colaboratory.intrinsic+json": {
              "type": "string"
            },
            "text/plain": [
              "'https://jovian.ai/akshay270802/pandas-practice-assignment'"
            ]
          },
          "metadata": {},
          "execution_count": 11
        }
      ],
      "source": [
        "jovian.commit(project='pandas-practice-assignment', environment=None)"
      ]
    },
    {
      "cell_type": "markdown",
      "metadata": {
        "id": "gjcL7G1Ewzuq"
      },
      "source": [
        "**Q2: Retrieve a list of continents from the dataframe?**\n",
        "\n",
        "*Hint: Use the `.unique` method of a series.*"
      ]
    },
    {
      "cell_type": "code",
      "execution_count": 12,
      "metadata": {
        "id": "vcjPMr1Lwzur"
      },
      "outputs": [],
      "source": [
        "continents = pd.unique(countries_df.continent)"
      ]
    },
    {
      "cell_type": "code",
      "execution_count": 13,
      "metadata": {
        "colab": {
          "base_uri": "https://localhost:8080/"
        },
        "id": "YEn8mjdGwzur",
        "outputId": "8df0e2c3-8c7e-4a49-a94a-e369f15f5405"
      },
      "outputs": [
        {
          "output_type": "execute_result",
          "data": {
            "text/plain": [
              "array(['Asia', 'Europe', 'Africa', 'North America', 'South America',\n",
              "       'Oceania'], dtype=object)"
            ]
          },
          "metadata": {},
          "execution_count": 13
        }
      ],
      "source": [
        "continents"
      ]
    },
    {
      "cell_type": "code",
      "execution_count": 14,
      "metadata": {
        "colab": {
          "base_uri": "https://localhost:8080/",
          "height": 88
        },
        "id": "kGW6do24wzus",
        "outputId": "86e607e4-f821-4135-addb-6b9585ee84ac"
      },
      "outputs": [
        {
          "output_type": "stream",
          "name": "stdout",
          "text": [
            "[jovian] Detected Colab notebook...\u001b[0m\n",
            "[jovian] Uploading colab notebook to Jovian...\u001b[0m\n",
            "Committed successfully! https://jovian.ai/akshay270802/pandas-practice-assignment\n"
          ]
        },
        {
          "output_type": "execute_result",
          "data": {
            "application/vnd.google.colaboratory.intrinsic+json": {
              "type": "string"
            },
            "text/plain": [
              "'https://jovian.ai/akshay270802/pandas-practice-assignment'"
            ]
          },
          "metadata": {},
          "execution_count": 14
        }
      ],
      "source": [
        "jovian.commit(project='pandas-practice-assignment', environment=None)"
      ]
    },
    {
      "cell_type": "markdown",
      "metadata": {
        "id": "Y5eYZcgzwzut"
      },
      "source": [
        "**Q3: What is the total population of all the countries listed in this dataset?**"
      ]
    },
    {
      "cell_type": "code",
      "execution_count": 15,
      "metadata": {
        "id": "DYwwzcB1wzut"
      },
      "outputs": [],
      "source": [
        "total_population = countries_df.population.sum()"
      ]
    },
    {
      "cell_type": "code",
      "execution_count": 16,
      "metadata": {
        "colab": {
          "base_uri": "https://localhost:8080/"
        },
        "id": "yRp5FFdSwzuu",
        "outputId": "f6072287-67bc-4fff-d025-2af35e5ac4ab"
      },
      "outputs": [
        {
          "output_type": "stream",
          "name": "stdout",
          "text": [
            "The total population is 7757980095.\n"
          ]
        }
      ],
      "source": [
        "print('The total population is {}.'.format(int(total_population)))"
      ]
    },
    {
      "cell_type": "code",
      "execution_count": 17,
      "metadata": {
        "colab": {
          "base_uri": "https://localhost:8080/",
          "height": 88
        },
        "id": "1e-IiynJwzuu",
        "outputId": "4282c62e-6cc0-4d1e-ea47-1cce5d4462ca"
      },
      "outputs": [
        {
          "output_type": "stream",
          "name": "stdout",
          "text": [
            "[jovian] Detected Colab notebook...\u001b[0m\n",
            "[jovian] Uploading colab notebook to Jovian...\u001b[0m\n",
            "Committed successfully! https://jovian.ai/akshay270802/pandas-practice-assignment\n"
          ]
        },
        {
          "output_type": "execute_result",
          "data": {
            "application/vnd.google.colaboratory.intrinsic+json": {
              "type": "string"
            },
            "text/plain": [
              "'https://jovian.ai/akshay270802/pandas-practice-assignment'"
            ]
          },
          "metadata": {},
          "execution_count": 17
        }
      ],
      "source": [
        "jovian.commit(project='pandas-practice-assignment', environment=None)"
      ]
    },
    {
      "cell_type": "markdown",
      "metadata": {
        "id": "0KuXWDwmwzuv"
      },
      "source": [
        "**Q: (Optional) What is the overall life expectancy across in the world?**\n",
        "\n",
        "*Hint: You'll need to take a weighted average of life expectancy using populations as weights.*"
      ]
    },
    {
      "cell_type": "code",
      "execution_count": 18,
      "metadata": {
        "id": "uOPx5HgAwzux"
      },
      "outputs": [],
      "source": [
        "countries_df['overall_life'] = countries_df.life_expectancy*countries_df.population"
      ]
    },
    {
      "cell_type": "code",
      "execution_count": 19,
      "metadata": {
        "colab": {
          "base_uri": "https://localhost:8080/"
        },
        "id": "hZPa3zQwwzux",
        "outputId": "4d7efa10-6bc6-4f5c-9852-bda0fb0c9640"
      },
      "outputs": [
        {
          "output_type": "stream",
          "name": "stdout",
          "text": [
            "72.72165193409664\n"
          ]
        }
      ],
      "source": [
        "print(countries_df.overall_life.sum()/total_population)"
      ]
    },
    {
      "cell_type": "code",
      "execution_count": 20,
      "metadata": {
        "colab": {
          "base_uri": "https://localhost:8080/",
          "height": 88
        },
        "id": "wcl0zxJHwzuy",
        "outputId": "4e1a46ac-8b3c-4011-f7c1-6e7c519abf0b"
      },
      "outputs": [
        {
          "output_type": "stream",
          "name": "stdout",
          "text": [
            "[jovian] Detected Colab notebook...\u001b[0m\n",
            "[jovian] Uploading colab notebook to Jovian...\u001b[0m\n",
            "Committed successfully! https://jovian.ai/akshay270802/pandas-practice-assignment\n"
          ]
        },
        {
          "output_type": "execute_result",
          "data": {
            "application/vnd.google.colaboratory.intrinsic+json": {
              "type": "string"
            },
            "text/plain": [
              "'https://jovian.ai/akshay270802/pandas-practice-assignment'"
            ]
          },
          "metadata": {},
          "execution_count": 20
        }
      ],
      "source": [
        "jovian.commit(project='pandas-practice-assignment', environment=None)"
      ]
    },
    {
      "cell_type": "markdown",
      "metadata": {
        "id": "a6my2xPFwzuz"
      },
      "source": [
        "**Q4: Create a dataframe containing 10 countries with the highest population.**\n",
        "\n",
        "*Hint: Chain the `sort_values` and `head` methods.*"
      ]
    },
    {
      "cell_type": "code",
      "execution_count": 21,
      "metadata": {
        "id": "Mq5RmjTlwzuz"
      },
      "outputs": [],
      "source": [
        "most_populous_df = countries_df.sort_values('population',ascending=False).head(10)"
      ]
    },
    {
      "cell_type": "code",
      "execution_count": 22,
      "metadata": {
        "colab": {
          "base_uri": "https://localhost:8080/",
          "height": 363
        },
        "id": "IhnENoqIwzu0",
        "outputId": "1f96843f-d81b-4fff-ecf2-ed83db8a4636"
      },
      "outputs": [
        {
          "output_type": "execute_result",
          "data": {
            "text/html": [
              "\n",
              "  <div id=\"df-7c8496a3-f0bf-448e-9e97-94623b7cd5bf\">\n",
              "    <div class=\"colab-df-container\">\n",
              "      <div>\n",
              "<style scoped>\n",
              "    .dataframe tbody tr th:only-of-type {\n",
              "        vertical-align: middle;\n",
              "    }\n",
              "\n",
              "    .dataframe tbody tr th {\n",
              "        vertical-align: top;\n",
              "    }\n",
              "\n",
              "    .dataframe thead th {\n",
              "        text-align: right;\n",
              "    }\n",
              "</style>\n",
              "<table border=\"1\" class=\"dataframe\">\n",
              "  <thead>\n",
              "    <tr style=\"text-align: right;\">\n",
              "      <th></th>\n",
              "      <th>location</th>\n",
              "      <th>continent</th>\n",
              "      <th>population</th>\n",
              "      <th>life_expectancy</th>\n",
              "      <th>hospital_beds_per_thousand</th>\n",
              "      <th>gdp_per_capita</th>\n",
              "      <th>overall_life</th>\n",
              "    </tr>\n",
              "  </thead>\n",
              "  <tbody>\n",
              "    <tr>\n",
              "      <th>41</th>\n",
              "      <td>China</td>\n",
              "      <td>Asia</td>\n",
              "      <td>1.439324e+09</td>\n",
              "      <td>76.91</td>\n",
              "      <td>4.34</td>\n",
              "      <td>15308.712</td>\n",
              "      <td>1.106984e+11</td>\n",
              "    </tr>\n",
              "    <tr>\n",
              "      <th>90</th>\n",
              "      <td>India</td>\n",
              "      <td>Asia</td>\n",
              "      <td>1.380004e+09</td>\n",
              "      <td>69.66</td>\n",
              "      <td>0.53</td>\n",
              "      <td>6426.674</td>\n",
              "      <td>9.613111e+10</td>\n",
              "    </tr>\n",
              "    <tr>\n",
              "      <th>199</th>\n",
              "      <td>United States</td>\n",
              "      <td>North America</td>\n",
              "      <td>3.310026e+08</td>\n",
              "      <td>78.86</td>\n",
              "      <td>2.77</td>\n",
              "      <td>54225.446</td>\n",
              "      <td>2.610287e+10</td>\n",
              "    </tr>\n",
              "    <tr>\n",
              "      <th>91</th>\n",
              "      <td>Indonesia</td>\n",
              "      <td>Asia</td>\n",
              "      <td>2.735236e+08</td>\n",
              "      <td>71.72</td>\n",
              "      <td>1.04</td>\n",
              "      <td>11188.744</td>\n",
              "      <td>1.961711e+10</td>\n",
              "    </tr>\n",
              "    <tr>\n",
              "      <th>145</th>\n",
              "      <td>Pakistan</td>\n",
              "      <td>Asia</td>\n",
              "      <td>2.208923e+08</td>\n",
              "      <td>67.27</td>\n",
              "      <td>0.60</td>\n",
              "      <td>5034.708</td>\n",
              "      <td>1.485943e+10</td>\n",
              "    </tr>\n",
              "    <tr>\n",
              "      <th>27</th>\n",
              "      <td>Brazil</td>\n",
              "      <td>South America</td>\n",
              "      <td>2.125594e+08</td>\n",
              "      <td>75.88</td>\n",
              "      <td>2.20</td>\n",
              "      <td>14103.452</td>\n",
              "      <td>1.612901e+10</td>\n",
              "    </tr>\n",
              "    <tr>\n",
              "      <th>141</th>\n",
              "      <td>Nigeria</td>\n",
              "      <td>Africa</td>\n",
              "      <td>2.061396e+08</td>\n",
              "      <td>54.69</td>\n",
              "      <td>NaN</td>\n",
              "      <td>5338.454</td>\n",
              "      <td>1.127377e+10</td>\n",
              "    </tr>\n",
              "    <tr>\n",
              "      <th>15</th>\n",
              "      <td>Bangladesh</td>\n",
              "      <td>Asia</td>\n",
              "      <td>1.646894e+08</td>\n",
              "      <td>72.59</td>\n",
              "      <td>0.80</td>\n",
              "      <td>3523.984</td>\n",
              "      <td>1.195480e+10</td>\n",
              "    </tr>\n",
              "    <tr>\n",
              "      <th>157</th>\n",
              "      <td>Russia</td>\n",
              "      <td>Europe</td>\n",
              "      <td>1.459345e+08</td>\n",
              "      <td>72.58</td>\n",
              "      <td>8.05</td>\n",
              "      <td>24765.954</td>\n",
              "      <td>1.059192e+10</td>\n",
              "    </tr>\n",
              "    <tr>\n",
              "      <th>125</th>\n",
              "      <td>Mexico</td>\n",
              "      <td>North America</td>\n",
              "      <td>1.289328e+08</td>\n",
              "      <td>75.05</td>\n",
              "      <td>1.38</td>\n",
              "      <td>17336.469</td>\n",
              "      <td>9.676403e+09</td>\n",
              "    </tr>\n",
              "  </tbody>\n",
              "</table>\n",
              "</div>\n",
              "      <button class=\"colab-df-convert\" onclick=\"convertToInteractive('df-7c8496a3-f0bf-448e-9e97-94623b7cd5bf')\"\n",
              "              title=\"Convert this dataframe to an interactive table.\"\n",
              "              style=\"display:none;\">\n",
              "        \n",
              "  <svg xmlns=\"http://www.w3.org/2000/svg\" height=\"24px\"viewBox=\"0 0 24 24\"\n",
              "       width=\"24px\">\n",
              "    <path d=\"M0 0h24v24H0V0z\" fill=\"none\"/>\n",
              "    <path d=\"M18.56 5.44l.94 2.06.94-2.06 2.06-.94-2.06-.94-.94-2.06-.94 2.06-2.06.94zm-11 1L8.5 8.5l.94-2.06 2.06-.94-2.06-.94L8.5 2.5l-.94 2.06-2.06.94zm10 10l.94 2.06.94-2.06 2.06-.94-2.06-.94-.94-2.06-.94 2.06-2.06.94z\"/><path d=\"M17.41 7.96l-1.37-1.37c-.4-.4-.92-.59-1.43-.59-.52 0-1.04.2-1.43.59L10.3 9.45l-7.72 7.72c-.78.78-.78 2.05 0 2.83L4 21.41c.39.39.9.59 1.41.59.51 0 1.02-.2 1.41-.59l7.78-7.78 2.81-2.81c.8-.78.8-2.07 0-2.86zM5.41 20L4 18.59l7.72-7.72 1.47 1.35L5.41 20z\"/>\n",
              "  </svg>\n",
              "      </button>\n",
              "      \n",
              "  <style>\n",
              "    .colab-df-container {\n",
              "      display:flex;\n",
              "      flex-wrap:wrap;\n",
              "      gap: 12px;\n",
              "    }\n",
              "\n",
              "    .colab-df-convert {\n",
              "      background-color: #E8F0FE;\n",
              "      border: none;\n",
              "      border-radius: 50%;\n",
              "      cursor: pointer;\n",
              "      display: none;\n",
              "      fill: #1967D2;\n",
              "      height: 32px;\n",
              "      padding: 0 0 0 0;\n",
              "      width: 32px;\n",
              "    }\n",
              "\n",
              "    .colab-df-convert:hover {\n",
              "      background-color: #E2EBFA;\n",
              "      box-shadow: 0px 1px 2px rgba(60, 64, 67, 0.3), 0px 1px 3px 1px rgba(60, 64, 67, 0.15);\n",
              "      fill: #174EA6;\n",
              "    }\n",
              "\n",
              "    [theme=dark] .colab-df-convert {\n",
              "      background-color: #3B4455;\n",
              "      fill: #D2E3FC;\n",
              "    }\n",
              "\n",
              "    [theme=dark] .colab-df-convert:hover {\n",
              "      background-color: #434B5C;\n",
              "      box-shadow: 0px 1px 3px 1px rgba(0, 0, 0, 0.15);\n",
              "      filter: drop-shadow(0px 1px 2px rgba(0, 0, 0, 0.3));\n",
              "      fill: #FFFFFF;\n",
              "    }\n",
              "  </style>\n",
              "\n",
              "      <script>\n",
              "        const buttonEl =\n",
              "          document.querySelector('#df-7c8496a3-f0bf-448e-9e97-94623b7cd5bf button.colab-df-convert');\n",
              "        buttonEl.style.display =\n",
              "          google.colab.kernel.accessAllowed ? 'block' : 'none';\n",
              "\n",
              "        async function convertToInteractive(key) {\n",
              "          const element = document.querySelector('#df-7c8496a3-f0bf-448e-9e97-94623b7cd5bf');\n",
              "          const dataTable =\n",
              "            await google.colab.kernel.invokeFunction('convertToInteractive',\n",
              "                                                     [key], {});\n",
              "          if (!dataTable) return;\n",
              "\n",
              "          const docLinkHtml = 'Like what you see? Visit the ' +\n",
              "            '<a target=\"_blank\" href=https://colab.research.google.com/notebooks/data_table.ipynb>data table notebook</a>'\n",
              "            + ' to learn more about interactive tables.';\n",
              "          element.innerHTML = '';\n",
              "          dataTable['output_type'] = 'display_data';\n",
              "          await google.colab.output.renderOutput(dataTable, element);\n",
              "          const docLink = document.createElement('div');\n",
              "          docLink.innerHTML = docLinkHtml;\n",
              "          element.appendChild(docLink);\n",
              "        }\n",
              "      </script>\n",
              "    </div>\n",
              "  </div>\n",
              "  "
            ],
            "text/plain": [
              "          location      continent  ...  gdp_per_capita  overall_life\n",
              "41           China           Asia  ...       15308.712  1.106984e+11\n",
              "90           India           Asia  ...        6426.674  9.613111e+10\n",
              "199  United States  North America  ...       54225.446  2.610287e+10\n",
              "91       Indonesia           Asia  ...       11188.744  1.961711e+10\n",
              "145       Pakistan           Asia  ...        5034.708  1.485943e+10\n",
              "27          Brazil  South America  ...       14103.452  1.612901e+10\n",
              "141        Nigeria         Africa  ...        5338.454  1.127377e+10\n",
              "15      Bangladesh           Asia  ...        3523.984  1.195480e+10\n",
              "157         Russia         Europe  ...       24765.954  1.059192e+10\n",
              "125         Mexico  North America  ...       17336.469  9.676403e+09\n",
              "\n",
              "[10 rows x 7 columns]"
            ]
          },
          "metadata": {},
          "execution_count": 22
        }
      ],
      "source": [
        "most_populous_df"
      ]
    },
    {
      "cell_type": "code",
      "execution_count": 23,
      "metadata": {
        "colab": {
          "base_uri": "https://localhost:8080/",
          "height": 88
        },
        "id": "dw-zGhYOwzu1",
        "outputId": "3cb79593-e10b-4017-86cb-c2ee546012fd"
      },
      "outputs": [
        {
          "output_type": "stream",
          "name": "stdout",
          "text": [
            "[jovian] Detected Colab notebook...\u001b[0m\n",
            "[jovian] Uploading colab notebook to Jovian...\u001b[0m\n",
            "Committed successfully! https://jovian.ai/akshay270802/pandas-practice-assignment\n"
          ]
        },
        {
          "output_type": "execute_result",
          "data": {
            "application/vnd.google.colaboratory.intrinsic+json": {
              "type": "string"
            },
            "text/plain": [
              "'https://jovian.ai/akshay270802/pandas-practice-assignment'"
            ]
          },
          "metadata": {},
          "execution_count": 23
        }
      ],
      "source": [
        "jovian.commit(project='pandas-practice-assignment', environment=None)"
      ]
    },
    {
      "cell_type": "markdown",
      "metadata": {
        "id": "icpRm1qJwzu1"
      },
      "source": [
        "**Q5: Add a new column in `countries_df` to record the overall GDP per country (product of population & per capita GDP).**\n",
        "\n"
      ]
    },
    {
      "cell_type": "code",
      "execution_count": 24,
      "metadata": {
        "colab": {
          "base_uri": "https://localhost:8080/"
        },
        "id": "HBkk79fbwzu2",
        "outputId": "74021376-3ca0-4305-a9b1-4c836631acff"
      },
      "outputs": [
        {
          "output_type": "stream",
          "name": "stderr",
          "text": [
            "/usr/local/lib/python3.7/dist-packages/ipykernel_launcher.py:2: FutureWarning: In a future version of pandas all arguments of DataFrame.drop except for the argument 'labels' will be keyword-only\n",
            "  \n"
          ]
        }
      ],
      "source": [
        "countries_df['gdp'] = countries_df.gdp_per_capita*countries_df.population\n",
        "countries_df.drop(['overall_life'],1,inplace=True)"
      ]
    },
    {
      "cell_type": "code",
      "execution_count": 25,
      "metadata": {
        "colab": {
          "base_uri": "https://localhost:8080/",
          "height": 423
        },
        "id": "FF8HcZnEwzu2",
        "outputId": "95463ca9-3beb-411c-bf1c-140e56c99082"
      },
      "outputs": [
        {
          "output_type": "execute_result",
          "data": {
            "text/html": [
              "\n",
              "  <div id=\"df-7e9a0ba8-14f0-4f2b-a6bc-af00b44cf9f8\">\n",
              "    <div class=\"colab-df-container\">\n",
              "      <div>\n",
              "<style scoped>\n",
              "    .dataframe tbody tr th:only-of-type {\n",
              "        vertical-align: middle;\n",
              "    }\n",
              "\n",
              "    .dataframe tbody tr th {\n",
              "        vertical-align: top;\n",
              "    }\n",
              "\n",
              "    .dataframe thead th {\n",
              "        text-align: right;\n",
              "    }\n",
              "</style>\n",
              "<table border=\"1\" class=\"dataframe\">\n",
              "  <thead>\n",
              "    <tr style=\"text-align: right;\">\n",
              "      <th></th>\n",
              "      <th>location</th>\n",
              "      <th>continent</th>\n",
              "      <th>population</th>\n",
              "      <th>life_expectancy</th>\n",
              "      <th>hospital_beds_per_thousand</th>\n",
              "      <th>gdp_per_capita</th>\n",
              "      <th>gdp</th>\n",
              "    </tr>\n",
              "  </thead>\n",
              "  <tbody>\n",
              "    <tr>\n",
              "      <th>0</th>\n",
              "      <td>Afghanistan</td>\n",
              "      <td>Asia</td>\n",
              "      <td>38928341.0</td>\n",
              "      <td>64.83</td>\n",
              "      <td>0.50</td>\n",
              "      <td>1803.987</td>\n",
              "      <td>7.022622e+10</td>\n",
              "    </tr>\n",
              "    <tr>\n",
              "      <th>1</th>\n",
              "      <td>Albania</td>\n",
              "      <td>Europe</td>\n",
              "      <td>2877800.0</td>\n",
              "      <td>78.57</td>\n",
              "      <td>2.89</td>\n",
              "      <td>11803.431</td>\n",
              "      <td>3.396791e+10</td>\n",
              "    </tr>\n",
              "    <tr>\n",
              "      <th>2</th>\n",
              "      <td>Algeria</td>\n",
              "      <td>Africa</td>\n",
              "      <td>43851043.0</td>\n",
              "      <td>76.88</td>\n",
              "      <td>1.90</td>\n",
              "      <td>13913.839</td>\n",
              "      <td>6.101364e+11</td>\n",
              "    </tr>\n",
              "    <tr>\n",
              "      <th>3</th>\n",
              "      <td>Andorra</td>\n",
              "      <td>Europe</td>\n",
              "      <td>77265.0</td>\n",
              "      <td>83.73</td>\n",
              "      <td>NaN</td>\n",
              "      <td>NaN</td>\n",
              "      <td>NaN</td>\n",
              "    </tr>\n",
              "    <tr>\n",
              "      <th>4</th>\n",
              "      <td>Angola</td>\n",
              "      <td>Africa</td>\n",
              "      <td>32866268.0</td>\n",
              "      <td>61.15</td>\n",
              "      <td>NaN</td>\n",
              "      <td>5819.495</td>\n",
              "      <td>1.912651e+11</td>\n",
              "    </tr>\n",
              "    <tr>\n",
              "      <th>...</th>\n",
              "      <td>...</td>\n",
              "      <td>...</td>\n",
              "      <td>...</td>\n",
              "      <td>...</td>\n",
              "      <td>...</td>\n",
              "      <td>...</td>\n",
              "      <td>...</td>\n",
              "    </tr>\n",
              "    <tr>\n",
              "      <th>205</th>\n",
              "      <td>Vietnam</td>\n",
              "      <td>Asia</td>\n",
              "      <td>97338583.0</td>\n",
              "      <td>75.40</td>\n",
              "      <td>2.60</td>\n",
              "      <td>6171.884</td>\n",
              "      <td>6.007624e+11</td>\n",
              "    </tr>\n",
              "    <tr>\n",
              "      <th>206</th>\n",
              "      <td>Western Sahara</td>\n",
              "      <td>Africa</td>\n",
              "      <td>597330.0</td>\n",
              "      <td>70.26</td>\n",
              "      <td>NaN</td>\n",
              "      <td>NaN</td>\n",
              "      <td>NaN</td>\n",
              "    </tr>\n",
              "    <tr>\n",
              "      <th>207</th>\n",
              "      <td>Yemen</td>\n",
              "      <td>Asia</td>\n",
              "      <td>29825968.0</td>\n",
              "      <td>66.12</td>\n",
              "      <td>0.70</td>\n",
              "      <td>1479.147</td>\n",
              "      <td>4.411699e+10</td>\n",
              "    </tr>\n",
              "    <tr>\n",
              "      <th>208</th>\n",
              "      <td>Zambia</td>\n",
              "      <td>Africa</td>\n",
              "      <td>18383956.0</td>\n",
              "      <td>63.89</td>\n",
              "      <td>2.00</td>\n",
              "      <td>3689.251</td>\n",
              "      <td>6.782303e+10</td>\n",
              "    </tr>\n",
              "    <tr>\n",
              "      <th>209</th>\n",
              "      <td>Zimbabwe</td>\n",
              "      <td>Africa</td>\n",
              "      <td>14862927.0</td>\n",
              "      <td>61.49</td>\n",
              "      <td>1.70</td>\n",
              "      <td>1899.775</td>\n",
              "      <td>2.823622e+10</td>\n",
              "    </tr>\n",
              "  </tbody>\n",
              "</table>\n",
              "<p>210 rows × 7 columns</p>\n",
              "</div>\n",
              "      <button class=\"colab-df-convert\" onclick=\"convertToInteractive('df-7e9a0ba8-14f0-4f2b-a6bc-af00b44cf9f8')\"\n",
              "              title=\"Convert this dataframe to an interactive table.\"\n",
              "              style=\"display:none;\">\n",
              "        \n",
              "  <svg xmlns=\"http://www.w3.org/2000/svg\" height=\"24px\"viewBox=\"0 0 24 24\"\n",
              "       width=\"24px\">\n",
              "    <path d=\"M0 0h24v24H0V0z\" fill=\"none\"/>\n",
              "    <path d=\"M18.56 5.44l.94 2.06.94-2.06 2.06-.94-2.06-.94-.94-2.06-.94 2.06-2.06.94zm-11 1L8.5 8.5l.94-2.06 2.06-.94-2.06-.94L8.5 2.5l-.94 2.06-2.06.94zm10 10l.94 2.06.94-2.06 2.06-.94-2.06-.94-.94-2.06-.94 2.06-2.06.94z\"/><path d=\"M17.41 7.96l-1.37-1.37c-.4-.4-.92-.59-1.43-.59-.52 0-1.04.2-1.43.59L10.3 9.45l-7.72 7.72c-.78.78-.78 2.05 0 2.83L4 21.41c.39.39.9.59 1.41.59.51 0 1.02-.2 1.41-.59l7.78-7.78 2.81-2.81c.8-.78.8-2.07 0-2.86zM5.41 20L4 18.59l7.72-7.72 1.47 1.35L5.41 20z\"/>\n",
              "  </svg>\n",
              "      </button>\n",
              "      \n",
              "  <style>\n",
              "    .colab-df-container {\n",
              "      display:flex;\n",
              "      flex-wrap:wrap;\n",
              "      gap: 12px;\n",
              "    }\n",
              "\n",
              "    .colab-df-convert {\n",
              "      background-color: #E8F0FE;\n",
              "      border: none;\n",
              "      border-radius: 50%;\n",
              "      cursor: pointer;\n",
              "      display: none;\n",
              "      fill: #1967D2;\n",
              "      height: 32px;\n",
              "      padding: 0 0 0 0;\n",
              "      width: 32px;\n",
              "    }\n",
              "\n",
              "    .colab-df-convert:hover {\n",
              "      background-color: #E2EBFA;\n",
              "      box-shadow: 0px 1px 2px rgba(60, 64, 67, 0.3), 0px 1px 3px 1px rgba(60, 64, 67, 0.15);\n",
              "      fill: #174EA6;\n",
              "    }\n",
              "\n",
              "    [theme=dark] .colab-df-convert {\n",
              "      background-color: #3B4455;\n",
              "      fill: #D2E3FC;\n",
              "    }\n",
              "\n",
              "    [theme=dark] .colab-df-convert:hover {\n",
              "      background-color: #434B5C;\n",
              "      box-shadow: 0px 1px 3px 1px rgba(0, 0, 0, 0.15);\n",
              "      filter: drop-shadow(0px 1px 2px rgba(0, 0, 0, 0.3));\n",
              "      fill: #FFFFFF;\n",
              "    }\n",
              "  </style>\n",
              "\n",
              "      <script>\n",
              "        const buttonEl =\n",
              "          document.querySelector('#df-7e9a0ba8-14f0-4f2b-a6bc-af00b44cf9f8 button.colab-df-convert');\n",
              "        buttonEl.style.display =\n",
              "          google.colab.kernel.accessAllowed ? 'block' : 'none';\n",
              "\n",
              "        async function convertToInteractive(key) {\n",
              "          const element = document.querySelector('#df-7e9a0ba8-14f0-4f2b-a6bc-af00b44cf9f8');\n",
              "          const dataTable =\n",
              "            await google.colab.kernel.invokeFunction('convertToInteractive',\n",
              "                                                     [key], {});\n",
              "          if (!dataTable) return;\n",
              "\n",
              "          const docLinkHtml = 'Like what you see? Visit the ' +\n",
              "            '<a target=\"_blank\" href=https://colab.research.google.com/notebooks/data_table.ipynb>data table notebook</a>'\n",
              "            + ' to learn more about interactive tables.';\n",
              "          element.innerHTML = '';\n",
              "          dataTable['output_type'] = 'display_data';\n",
              "          await google.colab.output.renderOutput(dataTable, element);\n",
              "          const docLink = document.createElement('div');\n",
              "          docLink.innerHTML = docLinkHtml;\n",
              "          element.appendChild(docLink);\n",
              "        }\n",
              "      </script>\n",
              "    </div>\n",
              "  </div>\n",
              "  "
            ],
            "text/plain": [
              "           location continent  ...  gdp_per_capita           gdp\n",
              "0       Afghanistan      Asia  ...        1803.987  7.022622e+10\n",
              "1           Albania    Europe  ...       11803.431  3.396791e+10\n",
              "2           Algeria    Africa  ...       13913.839  6.101364e+11\n",
              "3           Andorra    Europe  ...             NaN           NaN\n",
              "4            Angola    Africa  ...        5819.495  1.912651e+11\n",
              "..              ...       ...  ...             ...           ...\n",
              "205         Vietnam      Asia  ...        6171.884  6.007624e+11\n",
              "206  Western Sahara    Africa  ...             NaN           NaN\n",
              "207           Yemen      Asia  ...        1479.147  4.411699e+10\n",
              "208          Zambia    Africa  ...        3689.251  6.782303e+10\n",
              "209        Zimbabwe    Africa  ...        1899.775  2.823622e+10\n",
              "\n",
              "[210 rows x 7 columns]"
            ]
          },
          "metadata": {},
          "execution_count": 25
        }
      ],
      "source": [
        "countries_df"
      ]
    },
    {
      "cell_type": "code",
      "execution_count": 26,
      "metadata": {
        "colab": {
          "base_uri": "https://localhost:8080/",
          "height": 88
        },
        "id": "rkdNpDsowzu3",
        "outputId": "a79e8def-3386-4f30-f31e-500fe1639d46"
      },
      "outputs": [
        {
          "output_type": "stream",
          "name": "stdout",
          "text": [
            "[jovian] Detected Colab notebook...\u001b[0m\n",
            "[jovian] Uploading colab notebook to Jovian...\u001b[0m\n",
            "Committed successfully! https://jovian.ai/akshay270802/pandas-practice-assignment\n"
          ]
        },
        {
          "output_type": "execute_result",
          "data": {
            "application/vnd.google.colaboratory.intrinsic+json": {
              "type": "string"
            },
            "text/plain": [
              "'https://jovian.ai/akshay270802/pandas-practice-assignment'"
            ]
          },
          "metadata": {},
          "execution_count": 26
        }
      ],
      "source": [
        "jovian.commit(project='pandas-practice-assignment', environment=None)"
      ]
    },
    {
      "cell_type": "markdown",
      "metadata": {
        "id": "-zO5LNvKwzu3"
      },
      "source": [
        "**Q: (Optional) Create a dataframe containing 10 countries with the lowest GDP per capita, among the counties with population greater than 100 million.**"
      ]
    },
    {
      "cell_type": "code",
      "execution_count": 27,
      "metadata": {
        "id": "v19rpDv4wzu4"
      },
      "outputs": [],
      "source": [
        "gdp_low = countries_df.sort_values('gdp',ascending=True)\n",
        "gdp_low_100m = gdp_low[gdp_low.population > 100000000].head(10)"
      ]
    },
    {
      "cell_type": "code",
      "execution_count": 28,
      "metadata": {
        "colab": {
          "base_uri": "https://localhost:8080/",
          "height": 363
        },
        "id": "NTZ2_Taqwzu4",
        "outputId": "dd070656-feb0-4bd2-b79c-f414f1ccae40"
      },
      "outputs": [
        {
          "output_type": "execute_result",
          "data": {
            "text/html": [
              "\n",
              "  <div id=\"df-17ca03c5-47c2-426d-b308-131bfa700637\">\n",
              "    <div class=\"colab-df-container\">\n",
              "      <div>\n",
              "<style scoped>\n",
              "    .dataframe tbody tr th:only-of-type {\n",
              "        vertical-align: middle;\n",
              "    }\n",
              "\n",
              "    .dataframe tbody tr th {\n",
              "        vertical-align: top;\n",
              "    }\n",
              "\n",
              "    .dataframe thead th {\n",
              "        text-align: right;\n",
              "    }\n",
              "</style>\n",
              "<table border=\"1\" class=\"dataframe\">\n",
              "  <thead>\n",
              "    <tr style=\"text-align: right;\">\n",
              "      <th></th>\n",
              "      <th>location</th>\n",
              "      <th>continent</th>\n",
              "      <th>population</th>\n",
              "      <th>life_expectancy</th>\n",
              "      <th>hospital_beds_per_thousand</th>\n",
              "      <th>gdp_per_capita</th>\n",
              "      <th>gdp</th>\n",
              "    </tr>\n",
              "  </thead>\n",
              "  <tbody>\n",
              "    <tr>\n",
              "      <th>63</th>\n",
              "      <td>Ethiopia</td>\n",
              "      <td>Africa</td>\n",
              "      <td>114963583.0</td>\n",
              "      <td>66.60</td>\n",
              "      <td>0.30</td>\n",
              "      <td>1729.927</td>\n",
              "      <td>1.988786e+11</td>\n",
              "    </tr>\n",
              "    <tr>\n",
              "      <th>15</th>\n",
              "      <td>Bangladesh</td>\n",
              "      <td>Asia</td>\n",
              "      <td>164689383.0</td>\n",
              "      <td>72.59</td>\n",
              "      <td>0.80</td>\n",
              "      <td>3523.984</td>\n",
              "      <td>5.803628e+11</td>\n",
              "    </tr>\n",
              "    <tr>\n",
              "      <th>151</th>\n",
              "      <td>Philippines</td>\n",
              "      <td>Asia</td>\n",
              "      <td>109581085.0</td>\n",
              "      <td>71.23</td>\n",
              "      <td>1.00</td>\n",
              "      <td>7599.188</td>\n",
              "      <td>8.327273e+11</td>\n",
              "    </tr>\n",
              "    <tr>\n",
              "      <th>58</th>\n",
              "      <td>Egypt</td>\n",
              "      <td>Africa</td>\n",
              "      <td>102334403.0</td>\n",
              "      <td>71.99</td>\n",
              "      <td>1.60</td>\n",
              "      <td>10550.206</td>\n",
              "      <td>1.079649e+12</td>\n",
              "    </tr>\n",
              "    <tr>\n",
              "      <th>141</th>\n",
              "      <td>Nigeria</td>\n",
              "      <td>Africa</td>\n",
              "      <td>206139587.0</td>\n",
              "      <td>54.69</td>\n",
              "      <td>NaN</td>\n",
              "      <td>5338.454</td>\n",
              "      <td>1.100467e+12</td>\n",
              "    </tr>\n",
              "    <tr>\n",
              "      <th>145</th>\n",
              "      <td>Pakistan</td>\n",
              "      <td>Asia</td>\n",
              "      <td>220892331.0</td>\n",
              "      <td>67.27</td>\n",
              "      <td>0.60</td>\n",
              "      <td>5034.708</td>\n",
              "      <td>1.112128e+12</td>\n",
              "    </tr>\n",
              "    <tr>\n",
              "      <th>125</th>\n",
              "      <td>Mexico</td>\n",
              "      <td>North America</td>\n",
              "      <td>128932753.0</td>\n",
              "      <td>75.05</td>\n",
              "      <td>1.38</td>\n",
              "      <td>17336.469</td>\n",
              "      <td>2.235239e+12</td>\n",
              "    </tr>\n",
              "    <tr>\n",
              "      <th>27</th>\n",
              "      <td>Brazil</td>\n",
              "      <td>South America</td>\n",
              "      <td>212559409.0</td>\n",
              "      <td>75.88</td>\n",
              "      <td>2.20</td>\n",
              "      <td>14103.452</td>\n",
              "      <td>2.997821e+12</td>\n",
              "    </tr>\n",
              "    <tr>\n",
              "      <th>91</th>\n",
              "      <td>Indonesia</td>\n",
              "      <td>Asia</td>\n",
              "      <td>273523621.0</td>\n",
              "      <td>71.72</td>\n",
              "      <td>1.04</td>\n",
              "      <td>11188.744</td>\n",
              "      <td>3.060386e+12</td>\n",
              "    </tr>\n",
              "    <tr>\n",
              "      <th>157</th>\n",
              "      <td>Russia</td>\n",
              "      <td>Europe</td>\n",
              "      <td>145934460.0</td>\n",
              "      <td>72.58</td>\n",
              "      <td>8.05</td>\n",
              "      <td>24765.954</td>\n",
              "      <td>3.614206e+12</td>\n",
              "    </tr>\n",
              "  </tbody>\n",
              "</table>\n",
              "</div>\n",
              "      <button class=\"colab-df-convert\" onclick=\"convertToInteractive('df-17ca03c5-47c2-426d-b308-131bfa700637')\"\n",
              "              title=\"Convert this dataframe to an interactive table.\"\n",
              "              style=\"display:none;\">\n",
              "        \n",
              "  <svg xmlns=\"http://www.w3.org/2000/svg\" height=\"24px\"viewBox=\"0 0 24 24\"\n",
              "       width=\"24px\">\n",
              "    <path d=\"M0 0h24v24H0V0z\" fill=\"none\"/>\n",
              "    <path d=\"M18.56 5.44l.94 2.06.94-2.06 2.06-.94-2.06-.94-.94-2.06-.94 2.06-2.06.94zm-11 1L8.5 8.5l.94-2.06 2.06-.94-2.06-.94L8.5 2.5l-.94 2.06-2.06.94zm10 10l.94 2.06.94-2.06 2.06-.94-2.06-.94-.94-2.06-.94 2.06-2.06.94z\"/><path d=\"M17.41 7.96l-1.37-1.37c-.4-.4-.92-.59-1.43-.59-.52 0-1.04.2-1.43.59L10.3 9.45l-7.72 7.72c-.78.78-.78 2.05 0 2.83L4 21.41c.39.39.9.59 1.41.59.51 0 1.02-.2 1.41-.59l7.78-7.78 2.81-2.81c.8-.78.8-2.07 0-2.86zM5.41 20L4 18.59l7.72-7.72 1.47 1.35L5.41 20z\"/>\n",
              "  </svg>\n",
              "      </button>\n",
              "      \n",
              "  <style>\n",
              "    .colab-df-container {\n",
              "      display:flex;\n",
              "      flex-wrap:wrap;\n",
              "      gap: 12px;\n",
              "    }\n",
              "\n",
              "    .colab-df-convert {\n",
              "      background-color: #E8F0FE;\n",
              "      border: none;\n",
              "      border-radius: 50%;\n",
              "      cursor: pointer;\n",
              "      display: none;\n",
              "      fill: #1967D2;\n",
              "      height: 32px;\n",
              "      padding: 0 0 0 0;\n",
              "      width: 32px;\n",
              "    }\n",
              "\n",
              "    .colab-df-convert:hover {\n",
              "      background-color: #E2EBFA;\n",
              "      box-shadow: 0px 1px 2px rgba(60, 64, 67, 0.3), 0px 1px 3px 1px rgba(60, 64, 67, 0.15);\n",
              "      fill: #174EA6;\n",
              "    }\n",
              "\n",
              "    [theme=dark] .colab-df-convert {\n",
              "      background-color: #3B4455;\n",
              "      fill: #D2E3FC;\n",
              "    }\n",
              "\n",
              "    [theme=dark] .colab-df-convert:hover {\n",
              "      background-color: #434B5C;\n",
              "      box-shadow: 0px 1px 3px 1px rgba(0, 0, 0, 0.15);\n",
              "      filter: drop-shadow(0px 1px 2px rgba(0, 0, 0, 0.3));\n",
              "      fill: #FFFFFF;\n",
              "    }\n",
              "  </style>\n",
              "\n",
              "      <script>\n",
              "        const buttonEl =\n",
              "          document.querySelector('#df-17ca03c5-47c2-426d-b308-131bfa700637 button.colab-df-convert');\n",
              "        buttonEl.style.display =\n",
              "          google.colab.kernel.accessAllowed ? 'block' : 'none';\n",
              "\n",
              "        async function convertToInteractive(key) {\n",
              "          const element = document.querySelector('#df-17ca03c5-47c2-426d-b308-131bfa700637');\n",
              "          const dataTable =\n",
              "            await google.colab.kernel.invokeFunction('convertToInteractive',\n",
              "                                                     [key], {});\n",
              "          if (!dataTable) return;\n",
              "\n",
              "          const docLinkHtml = 'Like what you see? Visit the ' +\n",
              "            '<a target=\"_blank\" href=https://colab.research.google.com/notebooks/data_table.ipynb>data table notebook</a>'\n",
              "            + ' to learn more about interactive tables.';\n",
              "          element.innerHTML = '';\n",
              "          dataTable['output_type'] = 'display_data';\n",
              "          await google.colab.output.renderOutput(dataTable, element);\n",
              "          const docLink = document.createElement('div');\n",
              "          docLink.innerHTML = docLinkHtml;\n",
              "          element.appendChild(docLink);\n",
              "        }\n",
              "      </script>\n",
              "    </div>\n",
              "  </div>\n",
              "  "
            ],
            "text/plain": [
              "        location      continent  ...  gdp_per_capita           gdp\n",
              "63      Ethiopia         Africa  ...        1729.927  1.988786e+11\n",
              "15    Bangladesh           Asia  ...        3523.984  5.803628e+11\n",
              "151  Philippines           Asia  ...        7599.188  8.327273e+11\n",
              "58         Egypt         Africa  ...       10550.206  1.079649e+12\n",
              "141      Nigeria         Africa  ...        5338.454  1.100467e+12\n",
              "145     Pakistan           Asia  ...        5034.708  1.112128e+12\n",
              "125       Mexico  North America  ...       17336.469  2.235239e+12\n",
              "27        Brazil  South America  ...       14103.452  2.997821e+12\n",
              "91     Indonesia           Asia  ...       11188.744  3.060386e+12\n",
              "157       Russia         Europe  ...       24765.954  3.614206e+12\n",
              "\n",
              "[10 rows x 7 columns]"
            ]
          },
          "metadata": {},
          "execution_count": 28
        }
      ],
      "source": [
        "gdp_low_100m"
      ]
    },
    {
      "cell_type": "code",
      "execution_count": 29,
      "metadata": {
        "colab": {
          "base_uri": "https://localhost:8080/",
          "height": 88
        },
        "id": "SzEexYsLwzu4",
        "outputId": "e0a55c63-9271-4381-dc3c-4d8a4cf8ded3"
      },
      "outputs": [
        {
          "output_type": "stream",
          "name": "stdout",
          "text": [
            "[jovian] Detected Colab notebook...\u001b[0m\n",
            "[jovian] Uploading colab notebook to Jovian...\u001b[0m\n",
            "Committed successfully! https://jovian.ai/akshay270802/pandas-practice-assignment\n"
          ]
        },
        {
          "output_type": "execute_result",
          "data": {
            "application/vnd.google.colaboratory.intrinsic+json": {
              "type": "string"
            },
            "text/plain": [
              "'https://jovian.ai/akshay270802/pandas-practice-assignment'"
            ]
          },
          "metadata": {},
          "execution_count": 29
        }
      ],
      "source": [
        "jovian.commit(project='pandas-practice-assignment', environment=None)"
      ]
    },
    {
      "cell_type": "markdown",
      "metadata": {
        "id": "JyYnl_vkwzu5"
      },
      "source": [
        "**Q6: Create a data frame that counts the number countries in each continent?**\n",
        "\n",
        "*Hint: Use `groupby`, select the `location` column and aggregate using `count`.*"
      ]
    },
    {
      "cell_type": "code",
      "execution_count": 30,
      "metadata": {
        "id": "8Ej6mcwzwzu5"
      },
      "outputs": [],
      "source": [
        "country_counts_df = countries_df.groupby('continent')['location'].count()"
      ]
    },
    {
      "cell_type": "code",
      "execution_count": 31,
      "metadata": {
        "colab": {
          "base_uri": "https://localhost:8080/"
        },
        "id": "jnF4ua5Mwzu5",
        "outputId": "91a8977f-3a63-4272-960b-2ae3fd2e3235"
      },
      "outputs": [
        {
          "output_type": "execute_result",
          "data": {
            "text/plain": [
              "continent\n",
              "Africa           55\n",
              "Asia             47\n",
              "Europe           51\n",
              "North America    36\n",
              "Oceania           8\n",
              "South America    13\n",
              "Name: location, dtype: int64"
            ]
          },
          "metadata": {},
          "execution_count": 31
        }
      ],
      "source": [
        "country_counts_df"
      ]
    },
    {
      "cell_type": "code",
      "execution_count": 32,
      "metadata": {
        "colab": {
          "base_uri": "https://localhost:8080/",
          "height": 88
        },
        "id": "tlUlI1Y9wzu6",
        "outputId": "c88cad93-a3de-4a00-bac3-f03cfe33371a"
      },
      "outputs": [
        {
          "output_type": "stream",
          "name": "stdout",
          "text": [
            "[jovian] Detected Colab notebook...\u001b[0m\n",
            "[jovian] Uploading colab notebook to Jovian...\u001b[0m\n",
            "Committed successfully! https://jovian.ai/akshay270802/pandas-practice-assignment\n"
          ]
        },
        {
          "output_type": "execute_result",
          "data": {
            "application/vnd.google.colaboratory.intrinsic+json": {
              "type": "string"
            },
            "text/plain": [
              "'https://jovian.ai/akshay270802/pandas-practice-assignment'"
            ]
          },
          "metadata": {},
          "execution_count": 32
        }
      ],
      "source": [
        "jovian.commit(project='pandas-practice-assignment', environment=None)"
      ]
    },
    {
      "cell_type": "markdown",
      "metadata": {
        "id": "u5DLCdjUwzu6"
      },
      "source": [
        "**Q7: Create a data frame showing the total population of each continent.**\n",
        "\n",
        "*Hint: Use `groupby`, select the population column and aggregate using `sum`.*"
      ]
    },
    {
      "cell_type": "code",
      "execution_count": 33,
      "metadata": {
        "id": "21G1vgrrwzu7"
      },
      "outputs": [],
      "source": [
        "continent_populations_df = countries_df.groupby('continent').sum().population"
      ]
    },
    {
      "cell_type": "code",
      "execution_count": 34,
      "metadata": {
        "colab": {
          "base_uri": "https://localhost:8080/"
        },
        "id": "jba2Y5Chwzu7",
        "outputId": "9d1b07d6-9928-4946-f17b-44050ccf4340"
      },
      "outputs": [
        {
          "output_type": "execute_result",
          "data": {
            "text/plain": [
              "continent\n",
              "Africa           1.339424e+09\n",
              "Asia             4.607388e+09\n",
              "Europe           7.485062e+08\n",
              "North America    5.912425e+08\n",
              "Oceania          4.095832e+07\n",
              "South America    4.304611e+08\n",
              "Name: population, dtype: float64"
            ]
          },
          "metadata": {},
          "execution_count": 34
        }
      ],
      "source": [
        "continent_populations_df"
      ]
    },
    {
      "cell_type": "code",
      "execution_count": 35,
      "metadata": {
        "colab": {
          "base_uri": "https://localhost:8080/",
          "height": 88
        },
        "id": "jYDgPIUowzu7",
        "outputId": "874846cb-814e-4f6a-d3c8-dc8a97a31b30"
      },
      "outputs": [
        {
          "output_type": "stream",
          "name": "stdout",
          "text": [
            "[jovian] Detected Colab notebook...\u001b[0m\n",
            "[jovian] Uploading colab notebook to Jovian...\u001b[0m\n",
            "Committed successfully! https://jovian.ai/akshay270802/pandas-practice-assignment\n"
          ]
        },
        {
          "output_type": "execute_result",
          "data": {
            "application/vnd.google.colaboratory.intrinsic+json": {
              "type": "string"
            },
            "text/plain": [
              "'https://jovian.ai/akshay270802/pandas-practice-assignment'"
            ]
          },
          "metadata": {},
          "execution_count": 35
        }
      ],
      "source": [
        "jovian.commit(project='pandas-practice-assignment', environment=None)"
      ]
    },
    {
      "cell_type": "markdown",
      "metadata": {
        "id": "RdjWp7Hwwzu8"
      },
      "source": [
        "Let's download another CSV file containing overall Covid-19 stats for various countires, and read the data into another Pandas data frame."
      ]
    },
    {
      "cell_type": "code",
      "execution_count": 36,
      "metadata": {
        "colab": {
          "base_uri": "https://localhost:8080/"
        },
        "id": "upUnWcKEwzu8",
        "outputId": "2eadb635-6ca0-48bf-9e06-ef0f10ca0c1a"
      },
      "outputs": [
        {
          "output_type": "execute_result",
          "data": {
            "text/plain": [
              "('covid-countries-data.csv', <http.client.HTTPMessage at 0x7f99a14351d0>)"
            ]
          },
          "metadata": {},
          "execution_count": 36
        }
      ],
      "source": [
        "urlretrieve('https://gist.githubusercontent.com/aakashns/b2a968a6cfd9fbbb0ff3d6bd0f26262b/raw/b115ed1dfa17f10fc88bf966236cd4d9032f1df8/covid-countries-data.csv', \n",
        "            'covid-countries-data.csv')"
      ]
    },
    {
      "cell_type": "code",
      "execution_count": 37,
      "metadata": {
        "id": "pNYtsNPRwzu8"
      },
      "outputs": [],
      "source": [
        "covid_data_df = pd.read_csv('covid-countries-data.csv')"
      ]
    },
    {
      "cell_type": "code",
      "execution_count": 38,
      "metadata": {
        "colab": {
          "base_uri": "https://localhost:8080/",
          "height": 423
        },
        "id": "imrKqCWKwzu9",
        "outputId": "9d5d3e70-bc0d-4d38-bc65-ec14fa1d8fb8",
        "scrolled": true
      },
      "outputs": [
        {
          "output_type": "execute_result",
          "data": {
            "text/html": [
              "\n",
              "  <div id=\"df-47c7f206-99d3-49b1-9992-84d11c07ebb1\">\n",
              "    <div class=\"colab-df-container\">\n",
              "      <div>\n",
              "<style scoped>\n",
              "    .dataframe tbody tr th:only-of-type {\n",
              "        vertical-align: middle;\n",
              "    }\n",
              "\n",
              "    .dataframe tbody tr th {\n",
              "        vertical-align: top;\n",
              "    }\n",
              "\n",
              "    .dataframe thead th {\n",
              "        text-align: right;\n",
              "    }\n",
              "</style>\n",
              "<table border=\"1\" class=\"dataframe\">\n",
              "  <thead>\n",
              "    <tr style=\"text-align: right;\">\n",
              "      <th></th>\n",
              "      <th>location</th>\n",
              "      <th>total_cases</th>\n",
              "      <th>total_deaths</th>\n",
              "      <th>total_tests</th>\n",
              "    </tr>\n",
              "  </thead>\n",
              "  <tbody>\n",
              "    <tr>\n",
              "      <th>0</th>\n",
              "      <td>Afghanistan</td>\n",
              "      <td>38243.0</td>\n",
              "      <td>1409.0</td>\n",
              "      <td>NaN</td>\n",
              "    </tr>\n",
              "    <tr>\n",
              "      <th>1</th>\n",
              "      <td>Albania</td>\n",
              "      <td>9728.0</td>\n",
              "      <td>296.0</td>\n",
              "      <td>NaN</td>\n",
              "    </tr>\n",
              "    <tr>\n",
              "      <th>2</th>\n",
              "      <td>Algeria</td>\n",
              "      <td>45158.0</td>\n",
              "      <td>1525.0</td>\n",
              "      <td>NaN</td>\n",
              "    </tr>\n",
              "    <tr>\n",
              "      <th>3</th>\n",
              "      <td>Andorra</td>\n",
              "      <td>1199.0</td>\n",
              "      <td>53.0</td>\n",
              "      <td>NaN</td>\n",
              "    </tr>\n",
              "    <tr>\n",
              "      <th>4</th>\n",
              "      <td>Angola</td>\n",
              "      <td>2729.0</td>\n",
              "      <td>109.0</td>\n",
              "      <td>NaN</td>\n",
              "    </tr>\n",
              "    <tr>\n",
              "      <th>...</th>\n",
              "      <td>...</td>\n",
              "      <td>...</td>\n",
              "      <td>...</td>\n",
              "      <td>...</td>\n",
              "    </tr>\n",
              "    <tr>\n",
              "      <th>207</th>\n",
              "      <td>Western Sahara</td>\n",
              "      <td>766.0</td>\n",
              "      <td>1.0</td>\n",
              "      <td>NaN</td>\n",
              "    </tr>\n",
              "    <tr>\n",
              "      <th>208</th>\n",
              "      <td>World</td>\n",
              "      <td>26059065.0</td>\n",
              "      <td>863535.0</td>\n",
              "      <td>NaN</td>\n",
              "    </tr>\n",
              "    <tr>\n",
              "      <th>209</th>\n",
              "      <td>Yemen</td>\n",
              "      <td>1976.0</td>\n",
              "      <td>571.0</td>\n",
              "      <td>NaN</td>\n",
              "    </tr>\n",
              "    <tr>\n",
              "      <th>210</th>\n",
              "      <td>Zambia</td>\n",
              "      <td>12415.0</td>\n",
              "      <td>292.0</td>\n",
              "      <td>NaN</td>\n",
              "    </tr>\n",
              "    <tr>\n",
              "      <th>211</th>\n",
              "      <td>Zimbabwe</td>\n",
              "      <td>6638.0</td>\n",
              "      <td>206.0</td>\n",
              "      <td>97272.0</td>\n",
              "    </tr>\n",
              "  </tbody>\n",
              "</table>\n",
              "<p>212 rows × 4 columns</p>\n",
              "</div>\n",
              "      <button class=\"colab-df-convert\" onclick=\"convertToInteractive('df-47c7f206-99d3-49b1-9992-84d11c07ebb1')\"\n",
              "              title=\"Convert this dataframe to an interactive table.\"\n",
              "              style=\"display:none;\">\n",
              "        \n",
              "  <svg xmlns=\"http://www.w3.org/2000/svg\" height=\"24px\"viewBox=\"0 0 24 24\"\n",
              "       width=\"24px\">\n",
              "    <path d=\"M0 0h24v24H0V0z\" fill=\"none\"/>\n",
              "    <path d=\"M18.56 5.44l.94 2.06.94-2.06 2.06-.94-2.06-.94-.94-2.06-.94 2.06-2.06.94zm-11 1L8.5 8.5l.94-2.06 2.06-.94-2.06-.94L8.5 2.5l-.94 2.06-2.06.94zm10 10l.94 2.06.94-2.06 2.06-.94-2.06-.94-.94-2.06-.94 2.06-2.06.94z\"/><path d=\"M17.41 7.96l-1.37-1.37c-.4-.4-.92-.59-1.43-.59-.52 0-1.04.2-1.43.59L10.3 9.45l-7.72 7.72c-.78.78-.78 2.05 0 2.83L4 21.41c.39.39.9.59 1.41.59.51 0 1.02-.2 1.41-.59l7.78-7.78 2.81-2.81c.8-.78.8-2.07 0-2.86zM5.41 20L4 18.59l7.72-7.72 1.47 1.35L5.41 20z\"/>\n",
              "  </svg>\n",
              "      </button>\n",
              "      \n",
              "  <style>\n",
              "    .colab-df-container {\n",
              "      display:flex;\n",
              "      flex-wrap:wrap;\n",
              "      gap: 12px;\n",
              "    }\n",
              "\n",
              "    .colab-df-convert {\n",
              "      background-color: #E8F0FE;\n",
              "      border: none;\n",
              "      border-radius: 50%;\n",
              "      cursor: pointer;\n",
              "      display: none;\n",
              "      fill: #1967D2;\n",
              "      height: 32px;\n",
              "      padding: 0 0 0 0;\n",
              "      width: 32px;\n",
              "    }\n",
              "\n",
              "    .colab-df-convert:hover {\n",
              "      background-color: #E2EBFA;\n",
              "      box-shadow: 0px 1px 2px rgba(60, 64, 67, 0.3), 0px 1px 3px 1px rgba(60, 64, 67, 0.15);\n",
              "      fill: #174EA6;\n",
              "    }\n",
              "\n",
              "    [theme=dark] .colab-df-convert {\n",
              "      background-color: #3B4455;\n",
              "      fill: #D2E3FC;\n",
              "    }\n",
              "\n",
              "    [theme=dark] .colab-df-convert:hover {\n",
              "      background-color: #434B5C;\n",
              "      box-shadow: 0px 1px 3px 1px rgba(0, 0, 0, 0.15);\n",
              "      filter: drop-shadow(0px 1px 2px rgba(0, 0, 0, 0.3));\n",
              "      fill: #FFFFFF;\n",
              "    }\n",
              "  </style>\n",
              "\n",
              "      <script>\n",
              "        const buttonEl =\n",
              "          document.querySelector('#df-47c7f206-99d3-49b1-9992-84d11c07ebb1 button.colab-df-convert');\n",
              "        buttonEl.style.display =\n",
              "          google.colab.kernel.accessAllowed ? 'block' : 'none';\n",
              "\n",
              "        async function convertToInteractive(key) {\n",
              "          const element = document.querySelector('#df-47c7f206-99d3-49b1-9992-84d11c07ebb1');\n",
              "          const dataTable =\n",
              "            await google.colab.kernel.invokeFunction('convertToInteractive',\n",
              "                                                     [key], {});\n",
              "          if (!dataTable) return;\n",
              "\n",
              "          const docLinkHtml = 'Like what you see? Visit the ' +\n",
              "            '<a target=\"_blank\" href=https://colab.research.google.com/notebooks/data_table.ipynb>data table notebook</a>'\n",
              "            + ' to learn more about interactive tables.';\n",
              "          element.innerHTML = '';\n",
              "          dataTable['output_type'] = 'display_data';\n",
              "          await google.colab.output.renderOutput(dataTable, element);\n",
              "          const docLink = document.createElement('div');\n",
              "          docLink.innerHTML = docLinkHtml;\n",
              "          element.appendChild(docLink);\n",
              "        }\n",
              "      </script>\n",
              "    </div>\n",
              "  </div>\n",
              "  "
            ],
            "text/plain": [
              "           location  total_cases  total_deaths  total_tests\n",
              "0       Afghanistan      38243.0        1409.0          NaN\n",
              "1           Albania       9728.0         296.0          NaN\n",
              "2           Algeria      45158.0        1525.0          NaN\n",
              "3           Andorra       1199.0          53.0          NaN\n",
              "4            Angola       2729.0         109.0          NaN\n",
              "..              ...          ...           ...          ...\n",
              "207  Western Sahara        766.0           1.0          NaN\n",
              "208           World   26059065.0      863535.0          NaN\n",
              "209           Yemen       1976.0         571.0          NaN\n",
              "210          Zambia      12415.0         292.0          NaN\n",
              "211        Zimbabwe       6638.0         206.0      97272.0\n",
              "\n",
              "[212 rows x 4 columns]"
            ]
          },
          "metadata": {},
          "execution_count": 38
        }
      ],
      "source": [
        "covid_data_df"
      ]
    },
    {
      "cell_type": "markdown",
      "metadata": {
        "id": "fMhNKKvswzu9"
      },
      "source": [
        "**Q8: Count the number of countries for which the `total_tests` data is missing.**\n",
        "\n",
        "*Hint: Use the `.isna` method.*"
      ]
    },
    {
      "cell_type": "code",
      "execution_count": 39,
      "metadata": {
        "id": "Oje2hxAHwzu9"
      },
      "outputs": [],
      "source": [
        "total_tests_missing = covid_data_df[covid_data_df.total_tests.isna() ==True].shape[0]"
      ]
    },
    {
      "cell_type": "code",
      "execution_count": 40,
      "metadata": {
        "colab": {
          "base_uri": "https://localhost:8080/"
        },
        "id": "crLphob_wzu-",
        "outputId": "33b62bd4-5ed5-4a33-bbd7-884ee2833959"
      },
      "outputs": [
        {
          "output_type": "stream",
          "name": "stdout",
          "text": [
            "The data for total tests is missing for 122 countries.\n"
          ]
        }
      ],
      "source": [
        "print(\"The data for total tests is missing for {} countries.\".format(int(total_tests_missing)))"
      ]
    },
    {
      "cell_type": "code",
      "execution_count": 41,
      "metadata": {
        "colab": {
          "base_uri": "https://localhost:8080/",
          "height": 88
        },
        "id": "_eRgyT1Cwzu-",
        "outputId": "3ac11046-5e00-4f01-f2d7-dee837a08ff3"
      },
      "outputs": [
        {
          "output_type": "stream",
          "name": "stdout",
          "text": [
            "[jovian] Detected Colab notebook...\u001b[0m\n",
            "[jovian] Uploading colab notebook to Jovian...\u001b[0m\n",
            "Committed successfully! https://jovian.ai/akshay270802/pandas-practice-assignment\n"
          ]
        },
        {
          "output_type": "execute_result",
          "data": {
            "application/vnd.google.colaboratory.intrinsic+json": {
              "type": "string"
            },
            "text/plain": [
              "'https://jovian.ai/akshay270802/pandas-practice-assignment'"
            ]
          },
          "metadata": {},
          "execution_count": 41
        }
      ],
      "source": [
        "jovian.commit(project='pandas-practice-assignment', environment=None)"
      ]
    },
    {
      "cell_type": "markdown",
      "metadata": {
        "id": "8-Eyuos3wzu-"
      },
      "source": [
        "Let's merge the two data frames, and compute some more metrics.\n",
        "\n",
        "**Q9: Merge `countries_df` with `covid_data_df` on the `location` column.**\n",
        "\n",
        "*Hint: Use the `.merge` method on `countries_df`."
      ]
    },
    {
      "cell_type": "code",
      "execution_count": 42,
      "metadata": {
        "id": "w1gM4mZ7wzu_"
      },
      "outputs": [],
      "source": [
        "combined_df = countries_df.merge(covid_data_df,on='location')"
      ]
    },
    {
      "cell_type": "code",
      "execution_count": 43,
      "metadata": {
        "colab": {
          "base_uri": "https://localhost:8080/",
          "height": 423
        },
        "id": "VTbmNXkNwzu_",
        "outputId": "bf0ba4f2-d9fd-4826-b89a-cfb7e65e803d"
      },
      "outputs": [
        {
          "output_type": "execute_result",
          "data": {
            "text/html": [
              "\n",
              "  <div id=\"df-395a680b-65fc-495f-a276-aa511b205e19\">\n",
              "    <div class=\"colab-df-container\">\n",
              "      <div>\n",
              "<style scoped>\n",
              "    .dataframe tbody tr th:only-of-type {\n",
              "        vertical-align: middle;\n",
              "    }\n",
              "\n",
              "    .dataframe tbody tr th {\n",
              "        vertical-align: top;\n",
              "    }\n",
              "\n",
              "    .dataframe thead th {\n",
              "        text-align: right;\n",
              "    }\n",
              "</style>\n",
              "<table border=\"1\" class=\"dataframe\">\n",
              "  <thead>\n",
              "    <tr style=\"text-align: right;\">\n",
              "      <th></th>\n",
              "      <th>location</th>\n",
              "      <th>continent</th>\n",
              "      <th>population</th>\n",
              "      <th>life_expectancy</th>\n",
              "      <th>hospital_beds_per_thousand</th>\n",
              "      <th>gdp_per_capita</th>\n",
              "      <th>gdp</th>\n",
              "      <th>total_cases</th>\n",
              "      <th>total_deaths</th>\n",
              "      <th>total_tests</th>\n",
              "    </tr>\n",
              "  </thead>\n",
              "  <tbody>\n",
              "    <tr>\n",
              "      <th>0</th>\n",
              "      <td>Afghanistan</td>\n",
              "      <td>Asia</td>\n",
              "      <td>38928341.0</td>\n",
              "      <td>64.83</td>\n",
              "      <td>0.50</td>\n",
              "      <td>1803.987</td>\n",
              "      <td>7.022622e+10</td>\n",
              "      <td>38243.0</td>\n",
              "      <td>1409.0</td>\n",
              "      <td>NaN</td>\n",
              "    </tr>\n",
              "    <tr>\n",
              "      <th>1</th>\n",
              "      <td>Albania</td>\n",
              "      <td>Europe</td>\n",
              "      <td>2877800.0</td>\n",
              "      <td>78.57</td>\n",
              "      <td>2.89</td>\n",
              "      <td>11803.431</td>\n",
              "      <td>3.396791e+10</td>\n",
              "      <td>9728.0</td>\n",
              "      <td>296.0</td>\n",
              "      <td>NaN</td>\n",
              "    </tr>\n",
              "    <tr>\n",
              "      <th>2</th>\n",
              "      <td>Algeria</td>\n",
              "      <td>Africa</td>\n",
              "      <td>43851043.0</td>\n",
              "      <td>76.88</td>\n",
              "      <td>1.90</td>\n",
              "      <td>13913.839</td>\n",
              "      <td>6.101364e+11</td>\n",
              "      <td>45158.0</td>\n",
              "      <td>1525.0</td>\n",
              "      <td>NaN</td>\n",
              "    </tr>\n",
              "    <tr>\n",
              "      <th>3</th>\n",
              "      <td>Andorra</td>\n",
              "      <td>Europe</td>\n",
              "      <td>77265.0</td>\n",
              "      <td>83.73</td>\n",
              "      <td>NaN</td>\n",
              "      <td>NaN</td>\n",
              "      <td>NaN</td>\n",
              "      <td>1199.0</td>\n",
              "      <td>53.0</td>\n",
              "      <td>NaN</td>\n",
              "    </tr>\n",
              "    <tr>\n",
              "      <th>4</th>\n",
              "      <td>Angola</td>\n",
              "      <td>Africa</td>\n",
              "      <td>32866268.0</td>\n",
              "      <td>61.15</td>\n",
              "      <td>NaN</td>\n",
              "      <td>5819.495</td>\n",
              "      <td>1.912651e+11</td>\n",
              "      <td>2729.0</td>\n",
              "      <td>109.0</td>\n",
              "      <td>NaN</td>\n",
              "    </tr>\n",
              "    <tr>\n",
              "      <th>...</th>\n",
              "      <td>...</td>\n",
              "      <td>...</td>\n",
              "      <td>...</td>\n",
              "      <td>...</td>\n",
              "      <td>...</td>\n",
              "      <td>...</td>\n",
              "      <td>...</td>\n",
              "      <td>...</td>\n",
              "      <td>...</td>\n",
              "      <td>...</td>\n",
              "    </tr>\n",
              "    <tr>\n",
              "      <th>205</th>\n",
              "      <td>Vietnam</td>\n",
              "      <td>Asia</td>\n",
              "      <td>97338583.0</td>\n",
              "      <td>75.40</td>\n",
              "      <td>2.60</td>\n",
              "      <td>6171.884</td>\n",
              "      <td>6.007624e+11</td>\n",
              "      <td>1046.0</td>\n",
              "      <td>35.0</td>\n",
              "      <td>261004.0</td>\n",
              "    </tr>\n",
              "    <tr>\n",
              "      <th>206</th>\n",
              "      <td>Western Sahara</td>\n",
              "      <td>Africa</td>\n",
              "      <td>597330.0</td>\n",
              "      <td>70.26</td>\n",
              "      <td>NaN</td>\n",
              "      <td>NaN</td>\n",
              "      <td>NaN</td>\n",
              "      <td>766.0</td>\n",
              "      <td>1.0</td>\n",
              "      <td>NaN</td>\n",
              "    </tr>\n",
              "    <tr>\n",
              "      <th>207</th>\n",
              "      <td>Yemen</td>\n",
              "      <td>Asia</td>\n",
              "      <td>29825968.0</td>\n",
              "      <td>66.12</td>\n",
              "      <td>0.70</td>\n",
              "      <td>1479.147</td>\n",
              "      <td>4.411699e+10</td>\n",
              "      <td>1976.0</td>\n",
              "      <td>571.0</td>\n",
              "      <td>NaN</td>\n",
              "    </tr>\n",
              "    <tr>\n",
              "      <th>208</th>\n",
              "      <td>Zambia</td>\n",
              "      <td>Africa</td>\n",
              "      <td>18383956.0</td>\n",
              "      <td>63.89</td>\n",
              "      <td>2.00</td>\n",
              "      <td>3689.251</td>\n",
              "      <td>6.782303e+10</td>\n",
              "      <td>12415.0</td>\n",
              "      <td>292.0</td>\n",
              "      <td>NaN</td>\n",
              "    </tr>\n",
              "    <tr>\n",
              "      <th>209</th>\n",
              "      <td>Zimbabwe</td>\n",
              "      <td>Africa</td>\n",
              "      <td>14862927.0</td>\n",
              "      <td>61.49</td>\n",
              "      <td>1.70</td>\n",
              "      <td>1899.775</td>\n",
              "      <td>2.823622e+10</td>\n",
              "      <td>6638.0</td>\n",
              "      <td>206.0</td>\n",
              "      <td>97272.0</td>\n",
              "    </tr>\n",
              "  </tbody>\n",
              "</table>\n",
              "<p>210 rows × 10 columns</p>\n",
              "</div>\n",
              "      <button class=\"colab-df-convert\" onclick=\"convertToInteractive('df-395a680b-65fc-495f-a276-aa511b205e19')\"\n",
              "              title=\"Convert this dataframe to an interactive table.\"\n",
              "              style=\"display:none;\">\n",
              "        \n",
              "  <svg xmlns=\"http://www.w3.org/2000/svg\" height=\"24px\"viewBox=\"0 0 24 24\"\n",
              "       width=\"24px\">\n",
              "    <path d=\"M0 0h24v24H0V0z\" fill=\"none\"/>\n",
              "    <path d=\"M18.56 5.44l.94 2.06.94-2.06 2.06-.94-2.06-.94-.94-2.06-.94 2.06-2.06.94zm-11 1L8.5 8.5l.94-2.06 2.06-.94-2.06-.94L8.5 2.5l-.94 2.06-2.06.94zm10 10l.94 2.06.94-2.06 2.06-.94-2.06-.94-.94-2.06-.94 2.06-2.06.94z\"/><path d=\"M17.41 7.96l-1.37-1.37c-.4-.4-.92-.59-1.43-.59-.52 0-1.04.2-1.43.59L10.3 9.45l-7.72 7.72c-.78.78-.78 2.05 0 2.83L4 21.41c.39.39.9.59 1.41.59.51 0 1.02-.2 1.41-.59l7.78-7.78 2.81-2.81c.8-.78.8-2.07 0-2.86zM5.41 20L4 18.59l7.72-7.72 1.47 1.35L5.41 20z\"/>\n",
              "  </svg>\n",
              "      </button>\n",
              "      \n",
              "  <style>\n",
              "    .colab-df-container {\n",
              "      display:flex;\n",
              "      flex-wrap:wrap;\n",
              "      gap: 12px;\n",
              "    }\n",
              "\n",
              "    .colab-df-convert {\n",
              "      background-color: #E8F0FE;\n",
              "      border: none;\n",
              "      border-radius: 50%;\n",
              "      cursor: pointer;\n",
              "      display: none;\n",
              "      fill: #1967D2;\n",
              "      height: 32px;\n",
              "      padding: 0 0 0 0;\n",
              "      width: 32px;\n",
              "    }\n",
              "\n",
              "    .colab-df-convert:hover {\n",
              "      background-color: #E2EBFA;\n",
              "      box-shadow: 0px 1px 2px rgba(60, 64, 67, 0.3), 0px 1px 3px 1px rgba(60, 64, 67, 0.15);\n",
              "      fill: #174EA6;\n",
              "    }\n",
              "\n",
              "    [theme=dark] .colab-df-convert {\n",
              "      background-color: #3B4455;\n",
              "      fill: #D2E3FC;\n",
              "    }\n",
              "\n",
              "    [theme=dark] .colab-df-convert:hover {\n",
              "      background-color: #434B5C;\n",
              "      box-shadow: 0px 1px 3px 1px rgba(0, 0, 0, 0.15);\n",
              "      filter: drop-shadow(0px 1px 2px rgba(0, 0, 0, 0.3));\n",
              "      fill: #FFFFFF;\n",
              "    }\n",
              "  </style>\n",
              "\n",
              "      <script>\n",
              "        const buttonEl =\n",
              "          document.querySelector('#df-395a680b-65fc-495f-a276-aa511b205e19 button.colab-df-convert');\n",
              "        buttonEl.style.display =\n",
              "          google.colab.kernel.accessAllowed ? 'block' : 'none';\n",
              "\n",
              "        async function convertToInteractive(key) {\n",
              "          const element = document.querySelector('#df-395a680b-65fc-495f-a276-aa511b205e19');\n",
              "          const dataTable =\n",
              "            await google.colab.kernel.invokeFunction('convertToInteractive',\n",
              "                                                     [key], {});\n",
              "          if (!dataTable) return;\n",
              "\n",
              "          const docLinkHtml = 'Like what you see? Visit the ' +\n",
              "            '<a target=\"_blank\" href=https://colab.research.google.com/notebooks/data_table.ipynb>data table notebook</a>'\n",
              "            + ' to learn more about interactive tables.';\n",
              "          element.innerHTML = '';\n",
              "          dataTable['output_type'] = 'display_data';\n",
              "          await google.colab.output.renderOutput(dataTable, element);\n",
              "          const docLink = document.createElement('div');\n",
              "          docLink.innerHTML = docLinkHtml;\n",
              "          element.appendChild(docLink);\n",
              "        }\n",
              "      </script>\n",
              "    </div>\n",
              "  </div>\n",
              "  "
            ],
            "text/plain": [
              "           location continent  ...  total_deaths  total_tests\n",
              "0       Afghanistan      Asia  ...        1409.0          NaN\n",
              "1           Albania    Europe  ...         296.0          NaN\n",
              "2           Algeria    Africa  ...        1525.0          NaN\n",
              "3           Andorra    Europe  ...          53.0          NaN\n",
              "4            Angola    Africa  ...         109.0          NaN\n",
              "..              ...       ...  ...           ...          ...\n",
              "205         Vietnam      Asia  ...          35.0     261004.0\n",
              "206  Western Sahara    Africa  ...           1.0          NaN\n",
              "207           Yemen      Asia  ...         571.0          NaN\n",
              "208          Zambia    Africa  ...         292.0          NaN\n",
              "209        Zimbabwe    Africa  ...         206.0      97272.0\n",
              "\n",
              "[210 rows x 10 columns]"
            ]
          },
          "metadata": {},
          "execution_count": 43
        }
      ],
      "source": [
        "combined_df"
      ]
    },
    {
      "cell_type": "code",
      "execution_count": 44,
      "metadata": {
        "colab": {
          "base_uri": "https://localhost:8080/",
          "height": 88
        },
        "id": "zeRXKHkjwzu_",
        "outputId": "c664baaf-4882-4c14-9778-79709c96fe67"
      },
      "outputs": [
        {
          "output_type": "stream",
          "name": "stdout",
          "text": [
            "[jovian] Detected Colab notebook...\u001b[0m\n",
            "[jovian] Uploading colab notebook to Jovian...\u001b[0m\n",
            "Committed successfully! https://jovian.ai/akshay270802/pandas-practice-assignment\n"
          ]
        },
        {
          "output_type": "execute_result",
          "data": {
            "application/vnd.google.colaboratory.intrinsic+json": {
              "type": "string"
            },
            "text/plain": [
              "'https://jovian.ai/akshay270802/pandas-practice-assignment'"
            ]
          },
          "metadata": {},
          "execution_count": 44
        }
      ],
      "source": [
        "jovian.commit(project='pandas-practice-assignment', environment=None)"
      ]
    },
    {
      "cell_type": "markdown",
      "metadata": {
        "id": "LNQ-ndvawzvA"
      },
      "source": [
        "**Q10: Add columns `tests_per_million`, `cases_per_million` and `deaths_per_million` into `combined_df`.**"
      ]
    },
    {
      "cell_type": "code",
      "execution_count": 45,
      "metadata": {
        "id": "vf-KfarjwzvA"
      },
      "outputs": [],
      "source": [
        "combined_df['tests_per_million'] = combined_df['total_tests'] * 1e6 / combined_df['population']"
      ]
    },
    {
      "cell_type": "code",
      "execution_count": 46,
      "metadata": {
        "id": "0XhNklPzwzvB"
      },
      "outputs": [],
      "source": [
        "combined_df['cases_per_million'] = combined_df['total_cases'] * 1e6 / combined_df['population']"
      ]
    },
    {
      "cell_type": "code",
      "execution_count": 47,
      "metadata": {
        "id": "LK5qHwxVwzvB"
      },
      "outputs": [],
      "source": [
        "combined_df['deaths_per_million'] = combined_df['total_deaths'] * 1e6 / combined_df['population']"
      ]
    },
    {
      "cell_type": "code",
      "execution_count": 48,
      "metadata": {
        "colab": {
          "base_uri": "https://localhost:8080/",
          "height": 505
        },
        "id": "95n-PBlgwzvB",
        "outputId": "6e2cc9bb-3830-447a-b103-cf91db67ef58"
      },
      "outputs": [
        {
          "output_type": "execute_result",
          "data": {
            "text/html": [
              "\n",
              "  <div id=\"df-4e5efe64-801b-46d3-afa4-f462180ed7bb\">\n",
              "    <div class=\"colab-df-container\">\n",
              "      <div>\n",
              "<style scoped>\n",
              "    .dataframe tbody tr th:only-of-type {\n",
              "        vertical-align: middle;\n",
              "    }\n",
              "\n",
              "    .dataframe tbody tr th {\n",
              "        vertical-align: top;\n",
              "    }\n",
              "\n",
              "    .dataframe thead th {\n",
              "        text-align: right;\n",
              "    }\n",
              "</style>\n",
              "<table border=\"1\" class=\"dataframe\">\n",
              "  <thead>\n",
              "    <tr style=\"text-align: right;\">\n",
              "      <th></th>\n",
              "      <th>location</th>\n",
              "      <th>continent</th>\n",
              "      <th>population</th>\n",
              "      <th>life_expectancy</th>\n",
              "      <th>hospital_beds_per_thousand</th>\n",
              "      <th>gdp_per_capita</th>\n",
              "      <th>gdp</th>\n",
              "      <th>total_cases</th>\n",
              "      <th>total_deaths</th>\n",
              "      <th>total_tests</th>\n",
              "      <th>tests_per_million</th>\n",
              "      <th>cases_per_million</th>\n",
              "      <th>deaths_per_million</th>\n",
              "    </tr>\n",
              "  </thead>\n",
              "  <tbody>\n",
              "    <tr>\n",
              "      <th>0</th>\n",
              "      <td>Afghanistan</td>\n",
              "      <td>Asia</td>\n",
              "      <td>38928341.0</td>\n",
              "      <td>64.83</td>\n",
              "      <td>0.50</td>\n",
              "      <td>1803.987</td>\n",
              "      <td>7.022622e+10</td>\n",
              "      <td>38243.0</td>\n",
              "      <td>1409.0</td>\n",
              "      <td>NaN</td>\n",
              "      <td>NaN</td>\n",
              "      <td>982.394806</td>\n",
              "      <td>36.194710</td>\n",
              "    </tr>\n",
              "    <tr>\n",
              "      <th>1</th>\n",
              "      <td>Albania</td>\n",
              "      <td>Europe</td>\n",
              "      <td>2877800.0</td>\n",
              "      <td>78.57</td>\n",
              "      <td>2.89</td>\n",
              "      <td>11803.431</td>\n",
              "      <td>3.396791e+10</td>\n",
              "      <td>9728.0</td>\n",
              "      <td>296.0</td>\n",
              "      <td>NaN</td>\n",
              "      <td>NaN</td>\n",
              "      <td>3380.359997</td>\n",
              "      <td>102.856349</td>\n",
              "    </tr>\n",
              "    <tr>\n",
              "      <th>2</th>\n",
              "      <td>Algeria</td>\n",
              "      <td>Africa</td>\n",
              "      <td>43851043.0</td>\n",
              "      <td>76.88</td>\n",
              "      <td>1.90</td>\n",
              "      <td>13913.839</td>\n",
              "      <td>6.101364e+11</td>\n",
              "      <td>45158.0</td>\n",
              "      <td>1525.0</td>\n",
              "      <td>NaN</td>\n",
              "      <td>NaN</td>\n",
              "      <td>1029.804468</td>\n",
              "      <td>34.776824</td>\n",
              "    </tr>\n",
              "    <tr>\n",
              "      <th>3</th>\n",
              "      <td>Andorra</td>\n",
              "      <td>Europe</td>\n",
              "      <td>77265.0</td>\n",
              "      <td>83.73</td>\n",
              "      <td>NaN</td>\n",
              "      <td>NaN</td>\n",
              "      <td>NaN</td>\n",
              "      <td>1199.0</td>\n",
              "      <td>53.0</td>\n",
              "      <td>NaN</td>\n",
              "      <td>NaN</td>\n",
              "      <td>15518.022390</td>\n",
              "      <td>685.950948</td>\n",
              "    </tr>\n",
              "    <tr>\n",
              "      <th>4</th>\n",
              "      <td>Angola</td>\n",
              "      <td>Africa</td>\n",
              "      <td>32866268.0</td>\n",
              "      <td>61.15</td>\n",
              "      <td>NaN</td>\n",
              "      <td>5819.495</td>\n",
              "      <td>1.912651e+11</td>\n",
              "      <td>2729.0</td>\n",
              "      <td>109.0</td>\n",
              "      <td>NaN</td>\n",
              "      <td>NaN</td>\n",
              "      <td>83.033462</td>\n",
              "      <td>3.316470</td>\n",
              "    </tr>\n",
              "    <tr>\n",
              "      <th>...</th>\n",
              "      <td>...</td>\n",
              "      <td>...</td>\n",
              "      <td>...</td>\n",
              "      <td>...</td>\n",
              "      <td>...</td>\n",
              "      <td>...</td>\n",
              "      <td>...</td>\n",
              "      <td>...</td>\n",
              "      <td>...</td>\n",
              "      <td>...</td>\n",
              "      <td>...</td>\n",
              "      <td>...</td>\n",
              "      <td>...</td>\n",
              "    </tr>\n",
              "    <tr>\n",
              "      <th>205</th>\n",
              "      <td>Vietnam</td>\n",
              "      <td>Asia</td>\n",
              "      <td>97338583.0</td>\n",
              "      <td>75.40</td>\n",
              "      <td>2.60</td>\n",
              "      <td>6171.884</td>\n",
              "      <td>6.007624e+11</td>\n",
              "      <td>1046.0</td>\n",
              "      <td>35.0</td>\n",
              "      <td>261004.0</td>\n",
              "      <td>2681.403324</td>\n",
              "      <td>10.745996</td>\n",
              "      <td>0.359570</td>\n",
              "    </tr>\n",
              "    <tr>\n",
              "      <th>206</th>\n",
              "      <td>Western Sahara</td>\n",
              "      <td>Africa</td>\n",
              "      <td>597330.0</td>\n",
              "      <td>70.26</td>\n",
              "      <td>NaN</td>\n",
              "      <td>NaN</td>\n",
              "      <td>NaN</td>\n",
              "      <td>766.0</td>\n",
              "      <td>1.0</td>\n",
              "      <td>NaN</td>\n",
              "      <td>NaN</td>\n",
              "      <td>1282.373228</td>\n",
              "      <td>1.674116</td>\n",
              "    </tr>\n",
              "    <tr>\n",
              "      <th>207</th>\n",
              "      <td>Yemen</td>\n",
              "      <td>Asia</td>\n",
              "      <td>29825968.0</td>\n",
              "      <td>66.12</td>\n",
              "      <td>0.70</td>\n",
              "      <td>1479.147</td>\n",
              "      <td>4.411699e+10</td>\n",
              "      <td>1976.0</td>\n",
              "      <td>571.0</td>\n",
              "      <td>NaN</td>\n",
              "      <td>NaN</td>\n",
              "      <td>66.250993</td>\n",
              "      <td>19.144391</td>\n",
              "    </tr>\n",
              "    <tr>\n",
              "      <th>208</th>\n",
              "      <td>Zambia</td>\n",
              "      <td>Africa</td>\n",
              "      <td>18383956.0</td>\n",
              "      <td>63.89</td>\n",
              "      <td>2.00</td>\n",
              "      <td>3689.251</td>\n",
              "      <td>6.782303e+10</td>\n",
              "      <td>12415.0</td>\n",
              "      <td>292.0</td>\n",
              "      <td>NaN</td>\n",
              "      <td>NaN</td>\n",
              "      <td>675.317108</td>\n",
              "      <td>15.883415</td>\n",
              "    </tr>\n",
              "    <tr>\n",
              "      <th>209</th>\n",
              "      <td>Zimbabwe</td>\n",
              "      <td>Africa</td>\n",
              "      <td>14862927.0</td>\n",
              "      <td>61.49</td>\n",
              "      <td>1.70</td>\n",
              "      <td>1899.775</td>\n",
              "      <td>2.823622e+10</td>\n",
              "      <td>6638.0</td>\n",
              "      <td>206.0</td>\n",
              "      <td>97272.0</td>\n",
              "      <td>6544.605918</td>\n",
              "      <td>446.614587</td>\n",
              "      <td>13.859989</td>\n",
              "    </tr>\n",
              "  </tbody>\n",
              "</table>\n",
              "<p>210 rows × 13 columns</p>\n",
              "</div>\n",
              "      <button class=\"colab-df-convert\" onclick=\"convertToInteractive('df-4e5efe64-801b-46d3-afa4-f462180ed7bb')\"\n",
              "              title=\"Convert this dataframe to an interactive table.\"\n",
              "              style=\"display:none;\">\n",
              "        \n",
              "  <svg xmlns=\"http://www.w3.org/2000/svg\" height=\"24px\"viewBox=\"0 0 24 24\"\n",
              "       width=\"24px\">\n",
              "    <path d=\"M0 0h24v24H0V0z\" fill=\"none\"/>\n",
              "    <path d=\"M18.56 5.44l.94 2.06.94-2.06 2.06-.94-2.06-.94-.94-2.06-.94 2.06-2.06.94zm-11 1L8.5 8.5l.94-2.06 2.06-.94-2.06-.94L8.5 2.5l-.94 2.06-2.06.94zm10 10l.94 2.06.94-2.06 2.06-.94-2.06-.94-.94-2.06-.94 2.06-2.06.94z\"/><path d=\"M17.41 7.96l-1.37-1.37c-.4-.4-.92-.59-1.43-.59-.52 0-1.04.2-1.43.59L10.3 9.45l-7.72 7.72c-.78.78-.78 2.05 0 2.83L4 21.41c.39.39.9.59 1.41.59.51 0 1.02-.2 1.41-.59l7.78-7.78 2.81-2.81c.8-.78.8-2.07 0-2.86zM5.41 20L4 18.59l7.72-7.72 1.47 1.35L5.41 20z\"/>\n",
              "  </svg>\n",
              "      </button>\n",
              "      \n",
              "  <style>\n",
              "    .colab-df-container {\n",
              "      display:flex;\n",
              "      flex-wrap:wrap;\n",
              "      gap: 12px;\n",
              "    }\n",
              "\n",
              "    .colab-df-convert {\n",
              "      background-color: #E8F0FE;\n",
              "      border: none;\n",
              "      border-radius: 50%;\n",
              "      cursor: pointer;\n",
              "      display: none;\n",
              "      fill: #1967D2;\n",
              "      height: 32px;\n",
              "      padding: 0 0 0 0;\n",
              "      width: 32px;\n",
              "    }\n",
              "\n",
              "    .colab-df-convert:hover {\n",
              "      background-color: #E2EBFA;\n",
              "      box-shadow: 0px 1px 2px rgba(60, 64, 67, 0.3), 0px 1px 3px 1px rgba(60, 64, 67, 0.15);\n",
              "      fill: #174EA6;\n",
              "    }\n",
              "\n",
              "    [theme=dark] .colab-df-convert {\n",
              "      background-color: #3B4455;\n",
              "      fill: #D2E3FC;\n",
              "    }\n",
              "\n",
              "    [theme=dark] .colab-df-convert:hover {\n",
              "      background-color: #434B5C;\n",
              "      box-shadow: 0px 1px 3px 1px rgba(0, 0, 0, 0.15);\n",
              "      filter: drop-shadow(0px 1px 2px rgba(0, 0, 0, 0.3));\n",
              "      fill: #FFFFFF;\n",
              "    }\n",
              "  </style>\n",
              "\n",
              "      <script>\n",
              "        const buttonEl =\n",
              "          document.querySelector('#df-4e5efe64-801b-46d3-afa4-f462180ed7bb button.colab-df-convert');\n",
              "        buttonEl.style.display =\n",
              "          google.colab.kernel.accessAllowed ? 'block' : 'none';\n",
              "\n",
              "        async function convertToInteractive(key) {\n",
              "          const element = document.querySelector('#df-4e5efe64-801b-46d3-afa4-f462180ed7bb');\n",
              "          const dataTable =\n",
              "            await google.colab.kernel.invokeFunction('convertToInteractive',\n",
              "                                                     [key], {});\n",
              "          if (!dataTable) return;\n",
              "\n",
              "          const docLinkHtml = 'Like what you see? Visit the ' +\n",
              "            '<a target=\"_blank\" href=https://colab.research.google.com/notebooks/data_table.ipynb>data table notebook</a>'\n",
              "            + ' to learn more about interactive tables.';\n",
              "          element.innerHTML = '';\n",
              "          dataTable['output_type'] = 'display_data';\n",
              "          await google.colab.output.renderOutput(dataTable, element);\n",
              "          const docLink = document.createElement('div');\n",
              "          docLink.innerHTML = docLinkHtml;\n",
              "          element.appendChild(docLink);\n",
              "        }\n",
              "      </script>\n",
              "    </div>\n",
              "  </div>\n",
              "  "
            ],
            "text/plain": [
              "           location continent  ...  cases_per_million  deaths_per_million\n",
              "0       Afghanistan      Asia  ...         982.394806           36.194710\n",
              "1           Albania    Europe  ...        3380.359997          102.856349\n",
              "2           Algeria    Africa  ...        1029.804468           34.776824\n",
              "3           Andorra    Europe  ...       15518.022390          685.950948\n",
              "4            Angola    Africa  ...          83.033462            3.316470\n",
              "..              ...       ...  ...                ...                 ...\n",
              "205         Vietnam      Asia  ...          10.745996            0.359570\n",
              "206  Western Sahara    Africa  ...        1282.373228            1.674116\n",
              "207           Yemen      Asia  ...          66.250993           19.144391\n",
              "208          Zambia    Africa  ...         675.317108           15.883415\n",
              "209        Zimbabwe    Africa  ...         446.614587           13.859989\n",
              "\n",
              "[210 rows x 13 columns]"
            ]
          },
          "metadata": {},
          "execution_count": 48
        }
      ],
      "source": [
        "combined_df"
      ]
    },
    {
      "cell_type": "code",
      "execution_count": 49,
      "metadata": {
        "colab": {
          "base_uri": "https://localhost:8080/",
          "height": 88
        },
        "id": "3JIZuO8mwzvC",
        "outputId": "065f0565-69bb-4063-e5e2-be762feaa735"
      },
      "outputs": [
        {
          "output_type": "stream",
          "name": "stdout",
          "text": [
            "[jovian] Detected Colab notebook...\u001b[0m\n",
            "[jovian] Uploading colab notebook to Jovian...\u001b[0m\n",
            "Committed successfully! https://jovian.ai/akshay270802/pandas-practice-assignment\n"
          ]
        },
        {
          "output_type": "execute_result",
          "data": {
            "application/vnd.google.colaboratory.intrinsic+json": {
              "type": "string"
            },
            "text/plain": [
              "'https://jovian.ai/akshay270802/pandas-practice-assignment'"
            ]
          },
          "metadata": {},
          "execution_count": 49
        }
      ],
      "source": [
        "jovian.commit(project='pandas-practice-assignment', environment=None)"
      ]
    },
    {
      "cell_type": "markdown",
      "metadata": {
        "id": "5Wglq91NwzvC"
      },
      "source": [
        "**Q11: Create a dataframe with 10 countires that have highest number of tests per million people.**"
      ]
    },
    {
      "cell_type": "code",
      "execution_count": 50,
      "metadata": {
        "id": "aki2LFqjwzvD"
      },
      "outputs": [],
      "source": [
        "highest_tests_df = combined_df.sort_values('tests_per_million',ascending=False).head(10)"
      ]
    },
    {
      "cell_type": "code",
      "execution_count": 51,
      "metadata": {
        "colab": {
          "base_uri": "https://localhost:8080/",
          "height": 462
        },
        "id": "m1hKL1bJwzvD",
        "outputId": "6d2737d2-f32e-4074-d7b9-ff67420a95f3"
      },
      "outputs": [
        {
          "output_type": "execute_result",
          "data": {
            "text/html": [
              "\n",
              "  <div id=\"df-8730b2f9-41e1-49cf-8f9c-4f37b7921587\">\n",
              "    <div class=\"colab-df-container\">\n",
              "      <div>\n",
              "<style scoped>\n",
              "    .dataframe tbody tr th:only-of-type {\n",
              "        vertical-align: middle;\n",
              "    }\n",
              "\n",
              "    .dataframe tbody tr th {\n",
              "        vertical-align: top;\n",
              "    }\n",
              "\n",
              "    .dataframe thead th {\n",
              "        text-align: right;\n",
              "    }\n",
              "</style>\n",
              "<table border=\"1\" class=\"dataframe\">\n",
              "  <thead>\n",
              "    <tr style=\"text-align: right;\">\n",
              "      <th></th>\n",
              "      <th>location</th>\n",
              "      <th>continent</th>\n",
              "      <th>population</th>\n",
              "      <th>life_expectancy</th>\n",
              "      <th>hospital_beds_per_thousand</th>\n",
              "      <th>gdp_per_capita</th>\n",
              "      <th>gdp</th>\n",
              "      <th>total_cases</th>\n",
              "      <th>total_deaths</th>\n",
              "      <th>total_tests</th>\n",
              "      <th>tests_per_million</th>\n",
              "      <th>cases_per_million</th>\n",
              "      <th>deaths_per_million</th>\n",
              "    </tr>\n",
              "  </thead>\n",
              "  <tbody>\n",
              "    <tr>\n",
              "      <th>197</th>\n",
              "      <td>United Arab Emirates</td>\n",
              "      <td>Asia</td>\n",
              "      <td>9890400.0</td>\n",
              "      <td>77.97</td>\n",
              "      <td>1.200</td>\n",
              "      <td>67293.483</td>\n",
              "      <td>6.655595e+11</td>\n",
              "      <td>71540.0</td>\n",
              "      <td>387.0</td>\n",
              "      <td>7177430.0</td>\n",
              "      <td>725696.635121</td>\n",
              "      <td>7233.276713</td>\n",
              "      <td>39.128852</td>\n",
              "    </tr>\n",
              "    <tr>\n",
              "      <th>14</th>\n",
              "      <td>Bahrain</td>\n",
              "      <td>Asia</td>\n",
              "      <td>1701583.0</td>\n",
              "      <td>77.29</td>\n",
              "      <td>2.000</td>\n",
              "      <td>43290.705</td>\n",
              "      <td>7.366273e+10</td>\n",
              "      <td>52440.0</td>\n",
              "      <td>190.0</td>\n",
              "      <td>1118837.0</td>\n",
              "      <td>657527.137965</td>\n",
              "      <td>30818.361490</td>\n",
              "      <td>111.660730</td>\n",
              "    </tr>\n",
              "    <tr>\n",
              "      <th>115</th>\n",
              "      <td>Luxembourg</td>\n",
              "      <td>Europe</td>\n",
              "      <td>625976.0</td>\n",
              "      <td>82.25</td>\n",
              "      <td>4.510</td>\n",
              "      <td>94277.965</td>\n",
              "      <td>5.901574e+10</td>\n",
              "      <td>7928.0</td>\n",
              "      <td>124.0</td>\n",
              "      <td>385820.0</td>\n",
              "      <td>616349.508607</td>\n",
              "      <td>12665.022301</td>\n",
              "      <td>198.090662</td>\n",
              "    </tr>\n",
              "    <tr>\n",
              "      <th>122</th>\n",
              "      <td>Malta</td>\n",
              "      <td>Europe</td>\n",
              "      <td>441539.0</td>\n",
              "      <td>82.53</td>\n",
              "      <td>4.485</td>\n",
              "      <td>36513.323</td>\n",
              "      <td>1.612206e+10</td>\n",
              "      <td>1931.0</td>\n",
              "      <td>13.0</td>\n",
              "      <td>188539.0</td>\n",
              "      <td>427004.183096</td>\n",
              "      <td>4373.339614</td>\n",
              "      <td>29.442473</td>\n",
              "    </tr>\n",
              "    <tr>\n",
              "      <th>53</th>\n",
              "      <td>Denmark</td>\n",
              "      <td>Europe</td>\n",
              "      <td>5792203.0</td>\n",
              "      <td>80.90</td>\n",
              "      <td>2.500</td>\n",
              "      <td>46682.515</td>\n",
              "      <td>2.703946e+11</td>\n",
              "      <td>17195.0</td>\n",
              "      <td>626.0</td>\n",
              "      <td>2447911.0</td>\n",
              "      <td>422621.755488</td>\n",
              "      <td>2968.645954</td>\n",
              "      <td>108.076323</td>\n",
              "    </tr>\n",
              "    <tr>\n",
              "      <th>96</th>\n",
              "      <td>Israel</td>\n",
              "      <td>Asia</td>\n",
              "      <td>8655541.0</td>\n",
              "      <td>82.97</td>\n",
              "      <td>2.990</td>\n",
              "      <td>33132.320</td>\n",
              "      <td>2.867782e+11</td>\n",
              "      <td>122539.0</td>\n",
              "      <td>969.0</td>\n",
              "      <td>2353984.0</td>\n",
              "      <td>271962.665303</td>\n",
              "      <td>14157.289533</td>\n",
              "      <td>111.951408</td>\n",
              "    </tr>\n",
              "    <tr>\n",
              "      <th>89</th>\n",
              "      <td>Iceland</td>\n",
              "      <td>Europe</td>\n",
              "      <td>341250.0</td>\n",
              "      <td>82.99</td>\n",
              "      <td>2.910</td>\n",
              "      <td>46482.958</td>\n",
              "      <td>1.586231e+10</td>\n",
              "      <td>2121.0</td>\n",
              "      <td>10.0</td>\n",
              "      <td>88829.0</td>\n",
              "      <td>260304.761905</td>\n",
              "      <td>6215.384615</td>\n",
              "      <td>29.304029</td>\n",
              "    </tr>\n",
              "    <tr>\n",
              "      <th>157</th>\n",
              "      <td>Russia</td>\n",
              "      <td>Europe</td>\n",
              "      <td>145934460.0</td>\n",
              "      <td>72.58</td>\n",
              "      <td>8.050</td>\n",
              "      <td>24765.954</td>\n",
              "      <td>3.614206e+12</td>\n",
              "      <td>1005000.0</td>\n",
              "      <td>17414.0</td>\n",
              "      <td>37176827.0</td>\n",
              "      <td>254750.159763</td>\n",
              "      <td>6886.653091</td>\n",
              "      <td>119.327539</td>\n",
              "    </tr>\n",
              "    <tr>\n",
              "      <th>199</th>\n",
              "      <td>United States</td>\n",
              "      <td>North America</td>\n",
              "      <td>331002647.0</td>\n",
              "      <td>78.86</td>\n",
              "      <td>2.770</td>\n",
              "      <td>54225.446</td>\n",
              "      <td>1.794877e+13</td>\n",
              "      <td>6114406.0</td>\n",
              "      <td>185744.0</td>\n",
              "      <td>83898416.0</td>\n",
              "      <td>253467.507769</td>\n",
              "      <td>18472.377957</td>\n",
              "      <td>561.155633</td>\n",
              "    </tr>\n",
              "    <tr>\n",
              "      <th>10</th>\n",
              "      <td>Australia</td>\n",
              "      <td>Oceania</td>\n",
              "      <td>25499881.0</td>\n",
              "      <td>83.44</td>\n",
              "      <td>3.840</td>\n",
              "      <td>44648.710</td>\n",
              "      <td>1.138537e+12</td>\n",
              "      <td>25923.0</td>\n",
              "      <td>663.0</td>\n",
              "      <td>6255797.0</td>\n",
              "      <td>245326.517406</td>\n",
              "      <td>1016.592979</td>\n",
              "      <td>26.000121</td>\n",
              "    </tr>\n",
              "  </tbody>\n",
              "</table>\n",
              "</div>\n",
              "      <button class=\"colab-df-convert\" onclick=\"convertToInteractive('df-8730b2f9-41e1-49cf-8f9c-4f37b7921587')\"\n",
              "              title=\"Convert this dataframe to an interactive table.\"\n",
              "              style=\"display:none;\">\n",
              "        \n",
              "  <svg xmlns=\"http://www.w3.org/2000/svg\" height=\"24px\"viewBox=\"0 0 24 24\"\n",
              "       width=\"24px\">\n",
              "    <path d=\"M0 0h24v24H0V0z\" fill=\"none\"/>\n",
              "    <path d=\"M18.56 5.44l.94 2.06.94-2.06 2.06-.94-2.06-.94-.94-2.06-.94 2.06-2.06.94zm-11 1L8.5 8.5l.94-2.06 2.06-.94-2.06-.94L8.5 2.5l-.94 2.06-2.06.94zm10 10l.94 2.06.94-2.06 2.06-.94-2.06-.94-.94-2.06-.94 2.06-2.06.94z\"/><path d=\"M17.41 7.96l-1.37-1.37c-.4-.4-.92-.59-1.43-.59-.52 0-1.04.2-1.43.59L10.3 9.45l-7.72 7.72c-.78.78-.78 2.05 0 2.83L4 21.41c.39.39.9.59 1.41.59.51 0 1.02-.2 1.41-.59l7.78-7.78 2.81-2.81c.8-.78.8-2.07 0-2.86zM5.41 20L4 18.59l7.72-7.72 1.47 1.35L5.41 20z\"/>\n",
              "  </svg>\n",
              "      </button>\n",
              "      \n",
              "  <style>\n",
              "    .colab-df-container {\n",
              "      display:flex;\n",
              "      flex-wrap:wrap;\n",
              "      gap: 12px;\n",
              "    }\n",
              "\n",
              "    .colab-df-convert {\n",
              "      background-color: #E8F0FE;\n",
              "      border: none;\n",
              "      border-radius: 50%;\n",
              "      cursor: pointer;\n",
              "      display: none;\n",
              "      fill: #1967D2;\n",
              "      height: 32px;\n",
              "      padding: 0 0 0 0;\n",
              "      width: 32px;\n",
              "    }\n",
              "\n",
              "    .colab-df-convert:hover {\n",
              "      background-color: #E2EBFA;\n",
              "      box-shadow: 0px 1px 2px rgba(60, 64, 67, 0.3), 0px 1px 3px 1px rgba(60, 64, 67, 0.15);\n",
              "      fill: #174EA6;\n",
              "    }\n",
              "\n",
              "    [theme=dark] .colab-df-convert {\n",
              "      background-color: #3B4455;\n",
              "      fill: #D2E3FC;\n",
              "    }\n",
              "\n",
              "    [theme=dark] .colab-df-convert:hover {\n",
              "      background-color: #434B5C;\n",
              "      box-shadow: 0px 1px 3px 1px rgba(0, 0, 0, 0.15);\n",
              "      filter: drop-shadow(0px 1px 2px rgba(0, 0, 0, 0.3));\n",
              "      fill: #FFFFFF;\n",
              "    }\n",
              "  </style>\n",
              "\n",
              "      <script>\n",
              "        const buttonEl =\n",
              "          document.querySelector('#df-8730b2f9-41e1-49cf-8f9c-4f37b7921587 button.colab-df-convert');\n",
              "        buttonEl.style.display =\n",
              "          google.colab.kernel.accessAllowed ? 'block' : 'none';\n",
              "\n",
              "        async function convertToInteractive(key) {\n",
              "          const element = document.querySelector('#df-8730b2f9-41e1-49cf-8f9c-4f37b7921587');\n",
              "          const dataTable =\n",
              "            await google.colab.kernel.invokeFunction('convertToInteractive',\n",
              "                                                     [key], {});\n",
              "          if (!dataTable) return;\n",
              "\n",
              "          const docLinkHtml = 'Like what you see? Visit the ' +\n",
              "            '<a target=\"_blank\" href=https://colab.research.google.com/notebooks/data_table.ipynb>data table notebook</a>'\n",
              "            + ' to learn more about interactive tables.';\n",
              "          element.innerHTML = '';\n",
              "          dataTable['output_type'] = 'display_data';\n",
              "          await google.colab.output.renderOutput(dataTable, element);\n",
              "          const docLink = document.createElement('div');\n",
              "          docLink.innerHTML = docLinkHtml;\n",
              "          element.appendChild(docLink);\n",
              "        }\n",
              "      </script>\n",
              "    </div>\n",
              "  </div>\n",
              "  "
            ],
            "text/plain": [
              "                 location      continent  ...  cases_per_million  deaths_per_million\n",
              "197  United Arab Emirates           Asia  ...        7233.276713           39.128852\n",
              "14                Bahrain           Asia  ...       30818.361490          111.660730\n",
              "115            Luxembourg         Europe  ...       12665.022301          198.090662\n",
              "122                 Malta         Europe  ...        4373.339614           29.442473\n",
              "53                Denmark         Europe  ...        2968.645954          108.076323\n",
              "96                 Israel           Asia  ...       14157.289533          111.951408\n",
              "89                Iceland         Europe  ...        6215.384615           29.304029\n",
              "157                Russia         Europe  ...        6886.653091          119.327539\n",
              "199         United States  North America  ...       18472.377957          561.155633\n",
              "10              Australia        Oceania  ...        1016.592979           26.000121\n",
              "\n",
              "[10 rows x 13 columns]"
            ]
          },
          "metadata": {},
          "execution_count": 51
        }
      ],
      "source": [
        "highest_tests_df"
      ]
    },
    {
      "cell_type": "code",
      "execution_count": 52,
      "metadata": {
        "colab": {
          "base_uri": "https://localhost:8080/",
          "height": 88
        },
        "id": "DhgeEB8MwzvD",
        "outputId": "9e2f32c1-7597-4721-cf76-ed3ca5fc4c0e"
      },
      "outputs": [
        {
          "output_type": "stream",
          "name": "stdout",
          "text": [
            "[jovian] Detected Colab notebook...\u001b[0m\n",
            "[jovian] Uploading colab notebook to Jovian...\u001b[0m\n",
            "Committed successfully! https://jovian.ai/akshay270802/pandas-practice-assignment\n"
          ]
        },
        {
          "output_type": "execute_result",
          "data": {
            "application/vnd.google.colaboratory.intrinsic+json": {
              "type": "string"
            },
            "text/plain": [
              "'https://jovian.ai/akshay270802/pandas-practice-assignment'"
            ]
          },
          "metadata": {},
          "execution_count": 52
        }
      ],
      "source": [
        "jovian.commit(project='pandas-practice-assignment', environment=None)"
      ]
    },
    {
      "cell_type": "markdown",
      "metadata": {
        "id": "J8xNIHbHwzvE"
      },
      "source": [
        "**Q12: Create a dataframe with 10 countires that have highest number of positive cases per million people.**"
      ]
    },
    {
      "cell_type": "code",
      "execution_count": 53,
      "metadata": {
        "id": "BQeRkybzwzvE"
      },
      "outputs": [],
      "source": [
        "highest_cases_df = combined_df.sort_values('cases_per_million',ascending=False).head(10)"
      ]
    },
    {
      "cell_type": "code",
      "execution_count": 54,
      "metadata": {
        "colab": {
          "base_uri": "https://localhost:8080/",
          "height": 548
        },
        "id": "wfiV79bLwzvE",
        "outputId": "fd5a304c-5802-4fa1-8b37-40d552629a07"
      },
      "outputs": [
        {
          "output_type": "execute_result",
          "data": {
            "text/html": [
              "\n",
              "  <div id=\"df-360b9633-d2ff-4915-a77a-6b8723d0b40c\">\n",
              "    <div class=\"colab-df-container\">\n",
              "      <div>\n",
              "<style scoped>\n",
              "    .dataframe tbody tr th:only-of-type {\n",
              "        vertical-align: middle;\n",
              "    }\n",
              "\n",
              "    .dataframe tbody tr th {\n",
              "        vertical-align: top;\n",
              "    }\n",
              "\n",
              "    .dataframe thead th {\n",
              "        text-align: right;\n",
              "    }\n",
              "</style>\n",
              "<table border=\"1\" class=\"dataframe\">\n",
              "  <thead>\n",
              "    <tr style=\"text-align: right;\">\n",
              "      <th></th>\n",
              "      <th>location</th>\n",
              "      <th>continent</th>\n",
              "      <th>population</th>\n",
              "      <th>life_expectancy</th>\n",
              "      <th>hospital_beds_per_thousand</th>\n",
              "      <th>gdp_per_capita</th>\n",
              "      <th>gdp</th>\n",
              "      <th>total_cases</th>\n",
              "      <th>total_deaths</th>\n",
              "      <th>total_tests</th>\n",
              "      <th>tests_per_million</th>\n",
              "      <th>cases_per_million</th>\n",
              "      <th>deaths_per_million</th>\n",
              "    </tr>\n",
              "  </thead>\n",
              "  <tbody>\n",
              "    <tr>\n",
              "      <th>155</th>\n",
              "      <td>Qatar</td>\n",
              "      <td>Asia</td>\n",
              "      <td>2881060.0</td>\n",
              "      <td>80.23</td>\n",
              "      <td>1.20</td>\n",
              "      <td>116935.600</td>\n",
              "      <td>3.368985e+11</td>\n",
              "      <td>119206.0</td>\n",
              "      <td>199.0</td>\n",
              "      <td>634745.0</td>\n",
              "      <td>220316.480740</td>\n",
              "      <td>41375.743650</td>\n",
              "      <td>69.071800</td>\n",
              "    </tr>\n",
              "    <tr>\n",
              "      <th>14</th>\n",
              "      <td>Bahrain</td>\n",
              "      <td>Asia</td>\n",
              "      <td>1701583.0</td>\n",
              "      <td>77.29</td>\n",
              "      <td>2.00</td>\n",
              "      <td>43290.705</td>\n",
              "      <td>7.366273e+10</td>\n",
              "      <td>52440.0</td>\n",
              "      <td>190.0</td>\n",
              "      <td>1118837.0</td>\n",
              "      <td>657527.137965</td>\n",
              "      <td>30818.361490</td>\n",
              "      <td>111.660730</td>\n",
              "    </tr>\n",
              "    <tr>\n",
              "      <th>147</th>\n",
              "      <td>Panama</td>\n",
              "      <td>North America</td>\n",
              "      <td>4314768.0</td>\n",
              "      <td>78.51</td>\n",
              "      <td>2.30</td>\n",
              "      <td>22267.037</td>\n",
              "      <td>9.607710e+10</td>\n",
              "      <td>94084.0</td>\n",
              "      <td>2030.0</td>\n",
              "      <td>336345.0</td>\n",
              "      <td>77952.047480</td>\n",
              "      <td>21805.112117</td>\n",
              "      <td>470.477208</td>\n",
              "    </tr>\n",
              "    <tr>\n",
              "      <th>40</th>\n",
              "      <td>Chile</td>\n",
              "      <td>South America</td>\n",
              "      <td>19116209.0</td>\n",
              "      <td>80.18</td>\n",
              "      <td>2.11</td>\n",
              "      <td>22767.037</td>\n",
              "      <td>4.352194e+11</td>\n",
              "      <td>414739.0</td>\n",
              "      <td>11344.0</td>\n",
              "      <td>2458762.0</td>\n",
              "      <td>128621.841287</td>\n",
              "      <td>21695.671982</td>\n",
              "      <td>593.423100</td>\n",
              "    </tr>\n",
              "    <tr>\n",
              "      <th>162</th>\n",
              "      <td>San Marino</td>\n",
              "      <td>Europe</td>\n",
              "      <td>33938.0</td>\n",
              "      <td>84.97</td>\n",
              "      <td>3.80</td>\n",
              "      <td>56861.470</td>\n",
              "      <td>1.929765e+09</td>\n",
              "      <td>735.0</td>\n",
              "      <td>42.0</td>\n",
              "      <td>NaN</td>\n",
              "      <td>NaN</td>\n",
              "      <td>21657.139490</td>\n",
              "      <td>1237.550828</td>\n",
              "    </tr>\n",
              "    <tr>\n",
              "      <th>9</th>\n",
              "      <td>Aruba</td>\n",
              "      <td>North America</td>\n",
              "      <td>106766.0</td>\n",
              "      <td>76.29</td>\n",
              "      <td>NaN</td>\n",
              "      <td>35973.781</td>\n",
              "      <td>3.840777e+09</td>\n",
              "      <td>2211.0</td>\n",
              "      <td>12.0</td>\n",
              "      <td>NaN</td>\n",
              "      <td>NaN</td>\n",
              "      <td>20708.839893</td>\n",
              "      <td>112.395332</td>\n",
              "    </tr>\n",
              "    <tr>\n",
              "      <th>105</th>\n",
              "      <td>Kuwait</td>\n",
              "      <td>Asia</td>\n",
              "      <td>4270563.0</td>\n",
              "      <td>75.49</td>\n",
              "      <td>2.00</td>\n",
              "      <td>65530.537</td>\n",
              "      <td>2.798523e+11</td>\n",
              "      <td>86478.0</td>\n",
              "      <td>535.0</td>\n",
              "      <td>621616.0</td>\n",
              "      <td>145558.325682</td>\n",
              "      <td>20249.789079</td>\n",
              "      <td>125.276222</td>\n",
              "    </tr>\n",
              "    <tr>\n",
              "      <th>150</th>\n",
              "      <td>Peru</td>\n",
              "      <td>South America</td>\n",
              "      <td>32971846.0</td>\n",
              "      <td>76.74</td>\n",
              "      <td>1.60</td>\n",
              "      <td>12236.706</td>\n",
              "      <td>4.034668e+11</td>\n",
              "      <td>663437.0</td>\n",
              "      <td>29259.0</td>\n",
              "      <td>584232.0</td>\n",
              "      <td>17719.117092</td>\n",
              "      <td>20121.318048</td>\n",
              "      <td>887.393445</td>\n",
              "    </tr>\n",
              "    <tr>\n",
              "      <th>27</th>\n",
              "      <td>Brazil</td>\n",
              "      <td>South America</td>\n",
              "      <td>212559409.0</td>\n",
              "      <td>75.88</td>\n",
              "      <td>2.20</td>\n",
              "      <td>14103.452</td>\n",
              "      <td>2.997821e+12</td>\n",
              "      <td>3997865.0</td>\n",
              "      <td>123780.0</td>\n",
              "      <td>4797948.0</td>\n",
              "      <td>22572.268255</td>\n",
              "      <td>18808.224105</td>\n",
              "      <td>582.331314</td>\n",
              "    </tr>\n",
              "    <tr>\n",
              "      <th>199</th>\n",
              "      <td>United States</td>\n",
              "      <td>North America</td>\n",
              "      <td>331002647.0</td>\n",
              "      <td>78.86</td>\n",
              "      <td>2.77</td>\n",
              "      <td>54225.446</td>\n",
              "      <td>1.794877e+13</td>\n",
              "      <td>6114406.0</td>\n",
              "      <td>185744.0</td>\n",
              "      <td>83898416.0</td>\n",
              "      <td>253467.507769</td>\n",
              "      <td>18472.377957</td>\n",
              "      <td>561.155633</td>\n",
              "    </tr>\n",
              "  </tbody>\n",
              "</table>\n",
              "</div>\n",
              "      <button class=\"colab-df-convert\" onclick=\"convertToInteractive('df-360b9633-d2ff-4915-a77a-6b8723d0b40c')\"\n",
              "              title=\"Convert this dataframe to an interactive table.\"\n",
              "              style=\"display:none;\">\n",
              "        \n",
              "  <svg xmlns=\"http://www.w3.org/2000/svg\" height=\"24px\"viewBox=\"0 0 24 24\"\n",
              "       width=\"24px\">\n",
              "    <path d=\"M0 0h24v24H0V0z\" fill=\"none\"/>\n",
              "    <path d=\"M18.56 5.44l.94 2.06.94-2.06 2.06-.94-2.06-.94-.94-2.06-.94 2.06-2.06.94zm-11 1L8.5 8.5l.94-2.06 2.06-.94-2.06-.94L8.5 2.5l-.94 2.06-2.06.94zm10 10l.94 2.06.94-2.06 2.06-.94-2.06-.94-.94-2.06-.94 2.06-2.06.94z\"/><path d=\"M17.41 7.96l-1.37-1.37c-.4-.4-.92-.59-1.43-.59-.52 0-1.04.2-1.43.59L10.3 9.45l-7.72 7.72c-.78.78-.78 2.05 0 2.83L4 21.41c.39.39.9.59 1.41.59.51 0 1.02-.2 1.41-.59l7.78-7.78 2.81-2.81c.8-.78.8-2.07 0-2.86zM5.41 20L4 18.59l7.72-7.72 1.47 1.35L5.41 20z\"/>\n",
              "  </svg>\n",
              "      </button>\n",
              "      \n",
              "  <style>\n",
              "    .colab-df-container {\n",
              "      display:flex;\n",
              "      flex-wrap:wrap;\n",
              "      gap: 12px;\n",
              "    }\n",
              "\n",
              "    .colab-df-convert {\n",
              "      background-color: #E8F0FE;\n",
              "      border: none;\n",
              "      border-radius: 50%;\n",
              "      cursor: pointer;\n",
              "      display: none;\n",
              "      fill: #1967D2;\n",
              "      height: 32px;\n",
              "      padding: 0 0 0 0;\n",
              "      width: 32px;\n",
              "    }\n",
              "\n",
              "    .colab-df-convert:hover {\n",
              "      background-color: #E2EBFA;\n",
              "      box-shadow: 0px 1px 2px rgba(60, 64, 67, 0.3), 0px 1px 3px 1px rgba(60, 64, 67, 0.15);\n",
              "      fill: #174EA6;\n",
              "    }\n",
              "\n",
              "    [theme=dark] .colab-df-convert {\n",
              "      background-color: #3B4455;\n",
              "      fill: #D2E3FC;\n",
              "    }\n",
              "\n",
              "    [theme=dark] .colab-df-convert:hover {\n",
              "      background-color: #434B5C;\n",
              "      box-shadow: 0px 1px 3px 1px rgba(0, 0, 0, 0.15);\n",
              "      filter: drop-shadow(0px 1px 2px rgba(0, 0, 0, 0.3));\n",
              "      fill: #FFFFFF;\n",
              "    }\n",
              "  </style>\n",
              "\n",
              "      <script>\n",
              "        const buttonEl =\n",
              "          document.querySelector('#df-360b9633-d2ff-4915-a77a-6b8723d0b40c button.colab-df-convert');\n",
              "        buttonEl.style.display =\n",
              "          google.colab.kernel.accessAllowed ? 'block' : 'none';\n",
              "\n",
              "        async function convertToInteractive(key) {\n",
              "          const element = document.querySelector('#df-360b9633-d2ff-4915-a77a-6b8723d0b40c');\n",
              "          const dataTable =\n",
              "            await google.colab.kernel.invokeFunction('convertToInteractive',\n",
              "                                                     [key], {});\n",
              "          if (!dataTable) return;\n",
              "\n",
              "          const docLinkHtml = 'Like what you see? Visit the ' +\n",
              "            '<a target=\"_blank\" href=https://colab.research.google.com/notebooks/data_table.ipynb>data table notebook</a>'\n",
              "            + ' to learn more about interactive tables.';\n",
              "          element.innerHTML = '';\n",
              "          dataTable['output_type'] = 'display_data';\n",
              "          await google.colab.output.renderOutput(dataTable, element);\n",
              "          const docLink = document.createElement('div');\n",
              "          docLink.innerHTML = docLinkHtml;\n",
              "          element.appendChild(docLink);\n",
              "        }\n",
              "      </script>\n",
              "    </div>\n",
              "  </div>\n",
              "  "
            ],
            "text/plain": [
              "          location      continent  ...  cases_per_million  deaths_per_million\n",
              "155          Qatar           Asia  ...       41375.743650           69.071800\n",
              "14         Bahrain           Asia  ...       30818.361490          111.660730\n",
              "147         Panama  North America  ...       21805.112117          470.477208\n",
              "40           Chile  South America  ...       21695.671982          593.423100\n",
              "162     San Marino         Europe  ...       21657.139490         1237.550828\n",
              "9            Aruba  North America  ...       20708.839893          112.395332\n",
              "105         Kuwait           Asia  ...       20249.789079          125.276222\n",
              "150           Peru  South America  ...       20121.318048          887.393445\n",
              "27          Brazil  South America  ...       18808.224105          582.331314\n",
              "199  United States  North America  ...       18472.377957          561.155633\n",
              "\n",
              "[10 rows x 13 columns]"
            ]
          },
          "metadata": {},
          "execution_count": 54
        }
      ],
      "source": [
        "highest_cases_df"
      ]
    },
    {
      "cell_type": "code",
      "execution_count": 55,
      "metadata": {
        "colab": {
          "base_uri": "https://localhost:8080/",
          "height": 88
        },
        "id": "PSpxgXlbwzvF",
        "outputId": "97f12816-b88b-4db1-d3e2-8213a9513ff6"
      },
      "outputs": [
        {
          "output_type": "stream",
          "name": "stdout",
          "text": [
            "[jovian] Detected Colab notebook...\u001b[0m\n",
            "[jovian] Uploading colab notebook to Jovian...\u001b[0m\n",
            "Committed successfully! https://jovian.ai/akshay270802/pandas-practice-assignment\n"
          ]
        },
        {
          "output_type": "execute_result",
          "data": {
            "application/vnd.google.colaboratory.intrinsic+json": {
              "type": "string"
            },
            "text/plain": [
              "'https://jovian.ai/akshay270802/pandas-practice-assignment'"
            ]
          },
          "metadata": {},
          "execution_count": 55
        }
      ],
      "source": [
        "jovian.commit(project='pandas-practice-assignment', environment=None)"
      ]
    },
    {
      "cell_type": "markdown",
      "metadata": {
        "id": "9BO_aKt9wzvF"
      },
      "source": [
        "**Q13: Create a dataframe with 10 countires that have highest number of deaths cases per million people?**"
      ]
    },
    {
      "cell_type": "code",
      "execution_count": 56,
      "metadata": {
        "id": "SimaNajKwzvF"
      },
      "outputs": [],
      "source": [
        "highest_deaths_df = combined_df.sort_values('deaths_per_million',ascending=False).head(10)"
      ]
    },
    {
      "cell_type": "code",
      "execution_count": 57,
      "metadata": {
        "colab": {
          "base_uri": "https://localhost:8080/",
          "height": 514
        },
        "id": "WYG5CBWZwzvF",
        "outputId": "1f3687ee-fbfc-4075-b0ca-4d8db34bd1cb"
      },
      "outputs": [
        {
          "output_type": "execute_result",
          "data": {
            "text/html": [
              "\n",
              "  <div id=\"df-a73fe184-b403-409c-bf9e-8a40ef0ccea3\">\n",
              "    <div class=\"colab-df-container\">\n",
              "      <div>\n",
              "<style scoped>\n",
              "    .dataframe tbody tr th:only-of-type {\n",
              "        vertical-align: middle;\n",
              "    }\n",
              "\n",
              "    .dataframe tbody tr th {\n",
              "        vertical-align: top;\n",
              "    }\n",
              "\n",
              "    .dataframe thead th {\n",
              "        text-align: right;\n",
              "    }\n",
              "</style>\n",
              "<table border=\"1\" class=\"dataframe\">\n",
              "  <thead>\n",
              "    <tr style=\"text-align: right;\">\n",
              "      <th></th>\n",
              "      <th>location</th>\n",
              "      <th>continent</th>\n",
              "      <th>population</th>\n",
              "      <th>life_expectancy</th>\n",
              "      <th>hospital_beds_per_thousand</th>\n",
              "      <th>gdp_per_capita</th>\n",
              "      <th>gdp</th>\n",
              "      <th>total_cases</th>\n",
              "      <th>total_deaths</th>\n",
              "      <th>total_tests</th>\n",
              "      <th>tests_per_million</th>\n",
              "      <th>cases_per_million</th>\n",
              "      <th>deaths_per_million</th>\n",
              "    </tr>\n",
              "  </thead>\n",
              "  <tbody>\n",
              "    <tr>\n",
              "      <th>162</th>\n",
              "      <td>San Marino</td>\n",
              "      <td>Europe</td>\n",
              "      <td>33938.0</td>\n",
              "      <td>84.97</td>\n",
              "      <td>3.80</td>\n",
              "      <td>56861.470</td>\n",
              "      <td>1.929765e+09</td>\n",
              "      <td>735.0</td>\n",
              "      <td>42.0</td>\n",
              "      <td>NaN</td>\n",
              "      <td>NaN</td>\n",
              "      <td>21657.139490</td>\n",
              "      <td>1237.550828</td>\n",
              "    </tr>\n",
              "    <tr>\n",
              "      <th>150</th>\n",
              "      <td>Peru</td>\n",
              "      <td>South America</td>\n",
              "      <td>32971846.0</td>\n",
              "      <td>76.74</td>\n",
              "      <td>1.60</td>\n",
              "      <td>12236.706</td>\n",
              "      <td>4.034668e+11</td>\n",
              "      <td>663437.0</td>\n",
              "      <td>29259.0</td>\n",
              "      <td>584232.0</td>\n",
              "      <td>17719.117092</td>\n",
              "      <td>20121.318048</td>\n",
              "      <td>887.393445</td>\n",
              "    </tr>\n",
              "    <tr>\n",
              "      <th>18</th>\n",
              "      <td>Belgium</td>\n",
              "      <td>Europe</td>\n",
              "      <td>11589616.0</td>\n",
              "      <td>81.63</td>\n",
              "      <td>5.64</td>\n",
              "      <td>42658.576</td>\n",
              "      <td>4.943965e+11</td>\n",
              "      <td>85817.0</td>\n",
              "      <td>9898.0</td>\n",
              "      <td>2281853.0</td>\n",
              "      <td>196887.713967</td>\n",
              "      <td>7404.645676</td>\n",
              "      <td>854.040375</td>\n",
              "    </tr>\n",
              "    <tr>\n",
              "      <th>3</th>\n",
              "      <td>Andorra</td>\n",
              "      <td>Europe</td>\n",
              "      <td>77265.0</td>\n",
              "      <td>83.73</td>\n",
              "      <td>NaN</td>\n",
              "      <td>NaN</td>\n",
              "      <td>NaN</td>\n",
              "      <td>1199.0</td>\n",
              "      <td>53.0</td>\n",
              "      <td>NaN</td>\n",
              "      <td>NaN</td>\n",
              "      <td>15518.022390</td>\n",
              "      <td>685.950948</td>\n",
              "    </tr>\n",
              "    <tr>\n",
              "      <th>177</th>\n",
              "      <td>Spain</td>\n",
              "      <td>Europe</td>\n",
              "      <td>46754783.0</td>\n",
              "      <td>83.56</td>\n",
              "      <td>2.97</td>\n",
              "      <td>34272.360</td>\n",
              "      <td>1.602397e+12</td>\n",
              "      <td>479554.0</td>\n",
              "      <td>29194.0</td>\n",
              "      <td>6416533.0</td>\n",
              "      <td>137238.001939</td>\n",
              "      <td>10256.790198</td>\n",
              "      <td>624.406705</td>\n",
              "    </tr>\n",
              "    <tr>\n",
              "      <th>198</th>\n",
              "      <td>United Kingdom</td>\n",
              "      <td>Europe</td>\n",
              "      <td>67886004.0</td>\n",
              "      <td>81.32</td>\n",
              "      <td>2.54</td>\n",
              "      <td>39753.244</td>\n",
              "      <td>2.698689e+12</td>\n",
              "      <td>338676.0</td>\n",
              "      <td>41514.0</td>\n",
              "      <td>13447568.0</td>\n",
              "      <td>198090.434075</td>\n",
              "      <td>4988.892850</td>\n",
              "      <td>611.525168</td>\n",
              "    </tr>\n",
              "    <tr>\n",
              "      <th>40</th>\n",
              "      <td>Chile</td>\n",
              "      <td>South America</td>\n",
              "      <td>19116209.0</td>\n",
              "      <td>80.18</td>\n",
              "      <td>2.11</td>\n",
              "      <td>22767.037</td>\n",
              "      <td>4.352194e+11</td>\n",
              "      <td>414739.0</td>\n",
              "      <td>11344.0</td>\n",
              "      <td>2458762.0</td>\n",
              "      <td>128621.841287</td>\n",
              "      <td>21695.671982</td>\n",
              "      <td>593.423100</td>\n",
              "    </tr>\n",
              "    <tr>\n",
              "      <th>97</th>\n",
              "      <td>Italy</td>\n",
              "      <td>Europe</td>\n",
              "      <td>60461828.0</td>\n",
              "      <td>83.51</td>\n",
              "      <td>3.18</td>\n",
              "      <td>35220.084</td>\n",
              "      <td>2.129471e+12</td>\n",
              "      <td>271515.0</td>\n",
              "      <td>35497.0</td>\n",
              "      <td>5214766.0</td>\n",
              "      <td>86248.897403</td>\n",
              "      <td>4490.684602</td>\n",
              "      <td>587.097697</td>\n",
              "    </tr>\n",
              "    <tr>\n",
              "      <th>27</th>\n",
              "      <td>Brazil</td>\n",
              "      <td>South America</td>\n",
              "      <td>212559409.0</td>\n",
              "      <td>75.88</td>\n",
              "      <td>2.20</td>\n",
              "      <td>14103.452</td>\n",
              "      <td>2.997821e+12</td>\n",
              "      <td>3997865.0</td>\n",
              "      <td>123780.0</td>\n",
              "      <td>4797948.0</td>\n",
              "      <td>22572.268255</td>\n",
              "      <td>18808.224105</td>\n",
              "      <td>582.331314</td>\n",
              "    </tr>\n",
              "    <tr>\n",
              "      <th>182</th>\n",
              "      <td>Sweden</td>\n",
              "      <td>Europe</td>\n",
              "      <td>10099270.0</td>\n",
              "      <td>82.80</td>\n",
              "      <td>2.22</td>\n",
              "      <td>46949.283</td>\n",
              "      <td>4.741535e+11</td>\n",
              "      <td>84532.0</td>\n",
              "      <td>5820.0</td>\n",
              "      <td>NaN</td>\n",
              "      <td>NaN</td>\n",
              "      <td>8370.109919</td>\n",
              "      <td>576.279276</td>\n",
              "    </tr>\n",
              "  </tbody>\n",
              "</table>\n",
              "</div>\n",
              "      <button class=\"colab-df-convert\" onclick=\"convertToInteractive('df-a73fe184-b403-409c-bf9e-8a40ef0ccea3')\"\n",
              "              title=\"Convert this dataframe to an interactive table.\"\n",
              "              style=\"display:none;\">\n",
              "        \n",
              "  <svg xmlns=\"http://www.w3.org/2000/svg\" height=\"24px\"viewBox=\"0 0 24 24\"\n",
              "       width=\"24px\">\n",
              "    <path d=\"M0 0h24v24H0V0z\" fill=\"none\"/>\n",
              "    <path d=\"M18.56 5.44l.94 2.06.94-2.06 2.06-.94-2.06-.94-.94-2.06-.94 2.06-2.06.94zm-11 1L8.5 8.5l.94-2.06 2.06-.94-2.06-.94L8.5 2.5l-.94 2.06-2.06.94zm10 10l.94 2.06.94-2.06 2.06-.94-2.06-.94-.94-2.06-.94 2.06-2.06.94z\"/><path d=\"M17.41 7.96l-1.37-1.37c-.4-.4-.92-.59-1.43-.59-.52 0-1.04.2-1.43.59L10.3 9.45l-7.72 7.72c-.78.78-.78 2.05 0 2.83L4 21.41c.39.39.9.59 1.41.59.51 0 1.02-.2 1.41-.59l7.78-7.78 2.81-2.81c.8-.78.8-2.07 0-2.86zM5.41 20L4 18.59l7.72-7.72 1.47 1.35L5.41 20z\"/>\n",
              "  </svg>\n",
              "      </button>\n",
              "      \n",
              "  <style>\n",
              "    .colab-df-container {\n",
              "      display:flex;\n",
              "      flex-wrap:wrap;\n",
              "      gap: 12px;\n",
              "    }\n",
              "\n",
              "    .colab-df-convert {\n",
              "      background-color: #E8F0FE;\n",
              "      border: none;\n",
              "      border-radius: 50%;\n",
              "      cursor: pointer;\n",
              "      display: none;\n",
              "      fill: #1967D2;\n",
              "      height: 32px;\n",
              "      padding: 0 0 0 0;\n",
              "      width: 32px;\n",
              "    }\n",
              "\n",
              "    .colab-df-convert:hover {\n",
              "      background-color: #E2EBFA;\n",
              "      box-shadow: 0px 1px 2px rgba(60, 64, 67, 0.3), 0px 1px 3px 1px rgba(60, 64, 67, 0.15);\n",
              "      fill: #174EA6;\n",
              "    }\n",
              "\n",
              "    [theme=dark] .colab-df-convert {\n",
              "      background-color: #3B4455;\n",
              "      fill: #D2E3FC;\n",
              "    }\n",
              "\n",
              "    [theme=dark] .colab-df-convert:hover {\n",
              "      background-color: #434B5C;\n",
              "      box-shadow: 0px 1px 3px 1px rgba(0, 0, 0, 0.15);\n",
              "      filter: drop-shadow(0px 1px 2px rgba(0, 0, 0, 0.3));\n",
              "      fill: #FFFFFF;\n",
              "    }\n",
              "  </style>\n",
              "\n",
              "      <script>\n",
              "        const buttonEl =\n",
              "          document.querySelector('#df-a73fe184-b403-409c-bf9e-8a40ef0ccea3 button.colab-df-convert');\n",
              "        buttonEl.style.display =\n",
              "          google.colab.kernel.accessAllowed ? 'block' : 'none';\n",
              "\n",
              "        async function convertToInteractive(key) {\n",
              "          const element = document.querySelector('#df-a73fe184-b403-409c-bf9e-8a40ef0ccea3');\n",
              "          const dataTable =\n",
              "            await google.colab.kernel.invokeFunction('convertToInteractive',\n",
              "                                                     [key], {});\n",
              "          if (!dataTable) return;\n",
              "\n",
              "          const docLinkHtml = 'Like what you see? Visit the ' +\n",
              "            '<a target=\"_blank\" href=https://colab.research.google.com/notebooks/data_table.ipynb>data table notebook</a>'\n",
              "            + ' to learn more about interactive tables.';\n",
              "          element.innerHTML = '';\n",
              "          dataTable['output_type'] = 'display_data';\n",
              "          await google.colab.output.renderOutput(dataTable, element);\n",
              "          const docLink = document.createElement('div');\n",
              "          docLink.innerHTML = docLinkHtml;\n",
              "          element.appendChild(docLink);\n",
              "        }\n",
              "      </script>\n",
              "    </div>\n",
              "  </div>\n",
              "  "
            ],
            "text/plain": [
              "           location      continent  ...  cases_per_million  deaths_per_million\n",
              "162      San Marino         Europe  ...       21657.139490         1237.550828\n",
              "150            Peru  South America  ...       20121.318048          887.393445\n",
              "18          Belgium         Europe  ...        7404.645676          854.040375\n",
              "3           Andorra         Europe  ...       15518.022390          685.950948\n",
              "177           Spain         Europe  ...       10256.790198          624.406705\n",
              "198  United Kingdom         Europe  ...        4988.892850          611.525168\n",
              "40            Chile  South America  ...       21695.671982          593.423100\n",
              "97            Italy         Europe  ...        4490.684602          587.097697\n",
              "27           Brazil  South America  ...       18808.224105          582.331314\n",
              "182          Sweden         Europe  ...        8370.109919          576.279276\n",
              "\n",
              "[10 rows x 13 columns]"
            ]
          },
          "metadata": {},
          "execution_count": 57
        }
      ],
      "source": [
        "highest_deaths_df"
      ]
    },
    {
      "cell_type": "code",
      "execution_count": 58,
      "metadata": {
        "colab": {
          "base_uri": "https://localhost:8080/",
          "height": 88
        },
        "id": "SeaFdhQDwzvG",
        "outputId": "46ccbc5a-f132-459c-ce23-92cd4f304684"
      },
      "outputs": [
        {
          "output_type": "stream",
          "name": "stdout",
          "text": [
            "[jovian] Detected Colab notebook...\u001b[0m\n",
            "[jovian] Uploading colab notebook to Jovian...\u001b[0m\n",
            "Committed successfully! https://jovian.ai/akshay270802/pandas-practice-assignment\n"
          ]
        },
        {
          "output_type": "execute_result",
          "data": {
            "application/vnd.google.colaboratory.intrinsic+json": {
              "type": "string"
            },
            "text/plain": [
              "'https://jovian.ai/akshay270802/pandas-practice-assignment'"
            ]
          },
          "metadata": {},
          "execution_count": 58
        }
      ],
      "source": [
        "jovian.commit(project='pandas-practice-assignment', environment=None)"
      ]
    },
    {
      "cell_type": "markdown",
      "metadata": {
        "id": "dLkE9Z0mwzvG"
      },
      "source": [
        "**(Optional) Q: Count number of countries that feature in both the lists of \"highest number of tests per million\" and \"highest number of cases per million\".**"
      ]
    },
    {
      "cell_type": "code",
      "execution_count": 59,
      "metadata": {
        "colab": {
          "base_uri": "https://localhost:8080/"
        },
        "id": "FDoVs9EGwzvG",
        "outputId": "4cfc6f91-e778-4754-db14-efa9f1a4c25d"
      },
      "outputs": [
        {
          "output_type": "execute_result",
          "data": {
            "text/plain": [
              "2"
            ]
          },
          "metadata": {},
          "execution_count": 59
        }
      ],
      "source": [
        "s1 = pd.merge(highest_cases_df,highest_tests_df , how='inner', on=['location'])\n",
        "s1.shape[0]"
      ]
    },
    {
      "cell_type": "code",
      "execution_count": 60,
      "metadata": {
        "colab": {
          "base_uri": "https://localhost:8080/",
          "height": 88
        },
        "id": "-XZ9Gl-2wzvH",
        "outputId": "424dab28-f7d9-4b74-c762-e6798b054ef1"
      },
      "outputs": [
        {
          "output_type": "stream",
          "name": "stdout",
          "text": [
            "[jovian] Detected Colab notebook...\u001b[0m\n",
            "[jovian] Uploading colab notebook to Jovian...\u001b[0m\n",
            "Committed successfully! https://jovian.ai/akshay270802/pandas-practice-assignment\n"
          ]
        },
        {
          "output_type": "execute_result",
          "data": {
            "application/vnd.google.colaboratory.intrinsic+json": {
              "type": "string"
            },
            "text/plain": [
              "'https://jovian.ai/akshay270802/pandas-practice-assignment'"
            ]
          },
          "metadata": {},
          "execution_count": 60
        }
      ],
      "source": [
        "jovian.commit(project='pandas-practice-assignment', environment=None)"
      ]
    },
    {
      "cell_type": "markdown",
      "metadata": {
        "id": "7tSJCxgawzvH"
      },
      "source": [
        "**(Optional) Q: Count number of countries that feature in both the lists \"20 countries with lowest GDP per capita\" and \"20 countries with the lowest number of hospital beds per thousand population\". Only consider countries with a population higher than 10 million while creating the list.**"
      ]
    },
    {
      "cell_type": "code",
      "execution_count": 61,
      "metadata": {
        "id": "HG1iqTvywzvI"
      },
      "outputs": [],
      "source": [
        "lowest_gdp = combined_df.sort_values('gdp',ascending=True).head(20)          "
      ]
    },
    {
      "cell_type": "code",
      "execution_count": 62,
      "metadata": {
        "id": "vlB2kuLwwzvI"
      },
      "outputs": [],
      "source": [
        "lowest_beds = combined_df.sort_values('hospital_beds_per_thousand',ascending=True).head(20)"
      ]
    },
    {
      "cell_type": "code",
      "execution_count": 63,
      "metadata": {
        "id": "PM8EZhk0wzvI"
      },
      "outputs": [],
      "source": [
        "s2 = pd.merge(lowest_gdp,lowest_beds , how='inner', on=['location'])"
      ]
    },
    {
      "cell_type": "code",
      "execution_count": 64,
      "metadata": {
        "id": "er2dMMOHwzvI"
      },
      "outputs": [],
      "source": [
        "import jovian"
      ]
    },
    {
      "cell_type": "code",
      "execution_count": 65,
      "metadata": {
        "id": "CO-V30KhwzvJ",
        "colab": {
          "base_uri": "https://localhost:8080/",
          "height": 88
        },
        "outputId": "580a5ac4-e566-48c3-f2f4-3f1b586a1304"
      },
      "outputs": [
        {
          "output_type": "stream",
          "name": "stdout",
          "text": [
            "[jovian] Detected Colab notebook...\u001b[0m\n",
            "[jovian] Uploading colab notebook to Jovian...\u001b[0m\n",
            "Committed successfully! https://jovian.ai/akshay270802/pandas-practice-assignment\n"
          ]
        },
        {
          "output_type": "execute_result",
          "data": {
            "application/vnd.google.colaboratory.intrinsic+json": {
              "type": "string"
            },
            "text/plain": [
              "'https://jovian.ai/akshay270802/pandas-practice-assignment'"
            ]
          },
          "metadata": {},
          "execution_count": 65
        }
      ],
      "source": [
        "jovian.commit(project='pandas-practice-assignment', environment=None)"
      ]
    },
    {
      "cell_type": "markdown",
      "metadata": {
        "id": "k4UUInc_wzvJ"
      },
      "source": [
        "## Submission \n",
        "\n",
        "Congratulations on making it this far! You've reached the end of this assignment, and you just completed your first real-world data analysis problem. It's time to record one final version of your notebook for submission.\n",
        "\n",
        "Make a submission here by filling the submission form: https://jovian.ai/learn/data-analysis-with-python-zero-to-pandas/assignment/assignment-3-pandas-practice\n",
        "\n",
        "Also make sure to help others on the forum: https://jovian.ai/forum/t/assignment-3-pandas-practice/11225/2"
      ]
    }
  ],
  "metadata": {
    "colab": {
      "name": "pandas-practice-assignment.ipynb",
      "provenance": []
    },
    "kernelspec": {
      "display_name": "Python 3",
      "language": "python",
      "name": "python3"
    },
    "language_info": {
      "codemirror_mode": {
        "name": "ipython",
        "version": 3
      },
      "file_extension": ".py",
      "mimetype": "text/x-python",
      "name": "python",
      "nbconvert_exporter": "python",
      "pygments_lexer": "ipython3",
      "version": "3.8.6"
    }
  },
  "nbformat": 4,
  "nbformat_minor": 0
}