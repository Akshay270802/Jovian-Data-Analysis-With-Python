{
  "cells": [
    {
      "cell_type": "code",
      "execution_count": 1,
      "metadata": {
        "colab": {
          "base_uri": "https://localhost:8080/"
        },
        "id": "lc7i8lpq7Ppq",
        "outputId": "edcd3f4e-5f16-48ff-c79a-1927016b2d56"
      },
      "outputs": [
        {
          "output_type": "stream",
          "name": "stdout",
          "text": [
            "\u001b[?25l\r\u001b[K     |████▊                           | 10 kB 19.3 MB/s eta 0:00:01\r\u001b[K     |█████████▌                      | 20 kB 24.6 MB/s eta 0:00:01\r\u001b[K     |██████████████▎                 | 30 kB 28.4 MB/s eta 0:00:01\r\u001b[K     |███████████████████             | 40 kB 24.2 MB/s eta 0:00:01\r\u001b[K     |███████████████████████▉        | 51 kB 23.9 MB/s eta 0:00:01\r\u001b[K     |████████████████████████████▋   | 61 kB 20.1 MB/s eta 0:00:01\r\u001b[K     |████████████████████████████████| 68 kB 3.1 MB/s \n",
            "\u001b[?25h  Building wheel for uuid (setup.py) ... \u001b[?25l\u001b[?25hdone\n"
          ]
        }
      ],
      "source": [
        "# Jovian Commit Essentials\n",
        "# Please retain and execute this cell without modifying the contents for `jovian.commit` to work\n",
        "!pip install jovian --upgrade -q\n",
        "import jovian\n",
        "jovian.set_project('numpy-array-operations')\n",
        "jovian.set_colab_id('1RyC3k5jylby8BBR3YgTJ0jxcGaJshZ-R')"
      ]
    },
    {
      "cell_type": "markdown",
      "metadata": {
        "id": "enpUVUUu7Ppv"
      },
      "source": [
        "> ### **Assignment 2 - Numpy Array Operations** \n",
        ">\n",
        "> This assignment is part of the course [\"Data Analysis with Python: Zero to Pandas\"](http://zerotopandas.com). The objective of this assignment is to develop a solid understanding of Numpy array operations. In this assignment you will:\n",
        "> \n",
        "> 1. Pick 5 interesting Numpy array functions by going through the documentation: https://numpy.org/doc/stable/reference/routines.html \n",
        "> 2. Run and modify this Jupyter notebook to illustrate their usage (some explanation and 3 examples for each function). Use your imagination to come up with interesting and unique examples.\n",
        "> 3. Upload this notebook to your Jovian profile using `jovian.commit` and make a submission here: https://jovian.ml/learn/data-analysis-with-python-zero-to-pandas/assignment/assignment-2-numpy-array-operations\n",
        "> 4. (Optional) Share your notebook online (on Twitter, LinkedIn, Facebook) and on the community forum thread: https://jovian.ml/forum/t/assignment-2-numpy-array-operations-share-your-work/10575 . \n",
        "> 5. (Optional) Check out the notebooks [shared by other participants](https://jovian.ml/forum/t/assignment-2-numpy-array-operations-share-your-work/10575) and give feedback & appreciation.\n",
        ">\n",
        "> The recommended way to run this notebook is to click the \"Run\" button at the top of this page, and select \"Run on Binder\". This will run the notebook on mybinder.org, a free online service for running Jupyter notebooks.\n",
        ">\n",
        "> Try to give your notebook a catchy title & subtitle e.g. \"All about Numpy array operations\", \"5 Numpy functions you didn't know you needed\", \"A beginner's guide to broadcasting in Numpy\", \"Interesting ways to create Numpy arrays\", \"Trigonometic functions in Numpy\", \"How to use Python for Linear Algebra\" etc.\n",
        ">\n",
        "> **NOTE**: Remove this block of explanation text before submitting or sharing your notebook online - to make it more presentable.\n",
        "\n",
        "\n",
        "# Title Here\n",
        "\n",
        "\n",
        "### Subtitle Here\n",
        "\n",
        "Write a short introduction about Numpy and list the chosen functions. \n",
        "\n",
        "- function 1\n",
        "- function 2\n",
        "- function 3\n",
        "- function 4\n",
        "- function 5\n",
        "\n",
        "The recommended way to run this notebook is to click the \"Run\" button at the top of this page, and select \"Run on Binder\". This will run the notebook on mybinder.org, a free online service for running Jupyter notebooks."
      ]
    },
    {
      "cell_type": "code",
      "execution_count": null,
      "metadata": {
        "id": "7dms4TpJ7Ppx"
      },
      "outputs": [],
      "source": [
        "!pip install jovian --upgrade -q"
      ]
    },
    {
      "cell_type": "code",
      "execution_count": null,
      "metadata": {
        "id": "6xpBI9lv7Ppy"
      },
      "outputs": [],
      "source": [
        "import jovian"
      ]
    },
    {
      "cell_type": "code",
      "execution_count": null,
      "metadata": {
        "id": "oce5OF3l7Ppy",
        "outputId": "950acc9b-8687-42f3-d8ee-835e431a766c"
      },
      "outputs": [
        {
          "data": {
            "application/javascript": [
              "window.require && require([\"base/js/namespace\"],function(Jupyter){Jupyter.notebook.save_checkpoint()})"
            ],
            "text/plain": [
              "<IPython.core.display.Javascript object>"
            ]
          },
          "metadata": {},
          "output_type": "display_data"
        },
        {
          "name": "stdout",
          "output_type": "stream",
          "text": [
            "[jovian] Attempting to save notebook..\u001b[0m\n"
          ]
        }
      ],
      "source": [
        "jovian.commit(project='numpy-array-operations')"
      ]
    },
    {
      "cell_type": "markdown",
      "metadata": {
        "id": "E07mYXXN7Pp0"
      },
      "source": [
        "Let's begin by importing Numpy and listing out the functions covered in this notebook."
      ]
    },
    {
      "cell_type": "code",
      "execution_count": null,
      "metadata": {
        "id": "qHrUzvq17Pp1"
      },
      "outputs": [],
      "source": [
        "import numpy as np"
      ]
    },
    {
      "cell_type": "code",
      "execution_count": null,
      "metadata": {
        "id": "AalyKfhO7Pp2"
      },
      "outputs": [],
      "source": [
        "# List of functions explained \n",
        "function1 = np.concatenate  # (change this)\n",
        "function2 = ???\n",
        "function3 = ???\n",
        "function4 = ???\n",
        "function5 = ???"
      ]
    },
    {
      "cell_type": "markdown",
      "metadata": {
        "id": "OtLSauDc7Pp3"
      },
      "source": [
        "## Function 1 - np.concatenate (change this)\n",
        "\n",
        "Add some explanation about the function in your own words"
      ]
    },
    {
      "cell_type": "code",
      "execution_count": null,
      "metadata": {
        "id": "CMQRt3Pp7Pp4",
        "outputId": "c5f4c31f-b668-470a-ead7-40bfe9e73e0a"
      },
      "outputs": [
        {
          "data": {
            "text/plain": [
              "array([[ 1.,  2.,  5.,  6.,  7.],\n",
              "       [ 3.,  4.,  8.,  9., 10.]])"
            ]
          },
          "execution_count": 14,
          "metadata": {},
          "output_type": "execute_result"
        }
      ],
      "source": [
        "# Example 1 - working (change this)\n",
        "arr1 = [[1, 2], \n",
        "        [3, 4.]]\n",
        "\n",
        "arr2 = [[5, 6, 7], \n",
        "        [8, 9, 10]]\n",
        "\n",
        "np.concatenate((arr1, arr2), axis=1)"
      ]
    },
    {
      "cell_type": "markdown",
      "metadata": {
        "id": "4tGzCqwM7Pp5"
      },
      "source": [
        "Explanation about example"
      ]
    },
    {
      "cell_type": "code",
      "execution_count": null,
      "metadata": {
        "id": "Hseb-x_77Pp5"
      },
      "outputs": [],
      "source": [
        "# Example 2 - working\n",
        "???"
      ]
    },
    {
      "cell_type": "markdown",
      "metadata": {
        "id": "1L10B5mM7Pp5"
      },
      "source": [
        "Explanation about example"
      ]
    },
    {
      "cell_type": "code",
      "execution_count": null,
      "metadata": {
        "id": "LsLWVnbN7Pp6",
        "outputId": "81a646e5-a29c-401b-8d1a-745288a7ae7a"
      },
      "outputs": [
        {
          "ename": "ValueError",
          "evalue": "all the input array dimensions for the concatenation axis must match exactly, but along dimension 1, the array at index 0 has size 2 and the array at index 1 has size 3",
          "output_type": "error",
          "traceback": [
            "\u001b[0;31m---------------------------------------------------------------------------\u001b[0m",
            "\u001b[0;31mValueError\u001b[0m                                Traceback (most recent call last)",
            "\u001b[0;32m<ipython-input-15-3386a3db1c34>\u001b[0m in \u001b[0;36m<module>\u001b[0;34m\u001b[0m\n\u001b[1;32m      6\u001b[0m         [8, 9, 10]]\n\u001b[1;32m      7\u001b[0m \u001b[0;34m\u001b[0m\u001b[0m\n\u001b[0;32m----> 8\u001b[0;31m \u001b[0mnp\u001b[0m\u001b[0;34m.\u001b[0m\u001b[0mconcatenate\u001b[0m\u001b[0;34m(\u001b[0m\u001b[0;34m(\u001b[0m\u001b[0marr1\u001b[0m\u001b[0;34m,\u001b[0m \u001b[0marr2\u001b[0m\u001b[0;34m)\u001b[0m\u001b[0;34m,\u001b[0m \u001b[0maxis\u001b[0m\u001b[0;34m=\u001b[0m\u001b[0;36m0\u001b[0m\u001b[0;34m)\u001b[0m\u001b[0;34m\u001b[0m\u001b[0;34m\u001b[0m\u001b[0m\n\u001b[0m",
            "\u001b[0;32m<__array_function__ internals>\u001b[0m in \u001b[0;36mconcatenate\u001b[0;34m(*args, **kwargs)\u001b[0m\n",
            "\u001b[0;31mValueError\u001b[0m: all the input array dimensions for the concatenation axis must match exactly, but along dimension 1, the array at index 0 has size 2 and the array at index 1 has size 3"
          ]
        }
      ],
      "source": [
        "# Example 3 - breaking (to illustrate when it breaks)\n",
        "arr1 = [[1, 2], \n",
        "        [3, 4.]]\n",
        "\n",
        "arr2 = [[5, 6, 7], \n",
        "        [8, 9, 10]]\n",
        "\n",
        "np.concatenate((arr1, arr2), axis=0)"
      ]
    },
    {
      "cell_type": "markdown",
      "metadata": {
        "id": "6mQnnG2R7Pp6"
      },
      "source": [
        "Explanation about example (why it breaks and how to fix it)"
      ]
    },
    {
      "cell_type": "markdown",
      "metadata": {
        "id": "wcJaKk327Pp6"
      },
      "source": [
        "Some closing comments about when to use this function."
      ]
    },
    {
      "cell_type": "code",
      "execution_count": null,
      "metadata": {
        "id": "vdSwH_RT7Pp6",
        "outputId": "5ce6a368-b26e-43f2-bb02-9886bf9bf6fe"
      },
      "outputs": [
        {
          "data": {
            "application/javascript": [
              "window.require && require([\"base/js/namespace\"],function(Jupyter){Jupyter.notebook.save_checkpoint()})"
            ],
            "text/plain": [
              "<IPython.core.display.Javascript object>"
            ]
          },
          "metadata": {},
          "output_type": "display_data"
        },
        {
          "name": "stdout",
          "output_type": "stream",
          "text": [
            "[jovian] Attempting to save notebook..\u001b[0m\n",
            "[jovian] Updating notebook \"aakashns/numpy-array-operations\" on https://jovian.ml/\u001b[0m\n",
            "[jovian] Uploading notebook..\u001b[0m\n",
            "[jovian] Capturing environment..\u001b[0m\n",
            "[jovian] Committed successfully! https://jovian.ml/aakashns/numpy-array-operations\u001b[0m\n"
          ]
        },
        {
          "data": {
            "text/plain": [
              "'https://jovian.ml/aakashns/numpy-array-operations'"
            ]
          },
          "execution_count": 23,
          "metadata": {},
          "output_type": "execute_result"
        }
      ],
      "source": [
        "jovian.commit()"
      ]
    },
    {
      "cell_type": "markdown",
      "metadata": {
        "id": "4RXGHzkm7Pp7"
      },
      "source": [
        "## Function 2 - ???\n",
        "\n",
        "Add some explanations"
      ]
    },
    {
      "cell_type": "code",
      "execution_count": null,
      "metadata": {
        "id": "PO2svvry7Pp7"
      },
      "outputs": [],
      "source": [
        "# Example 1 - working\n",
        "???"
      ]
    },
    {
      "cell_type": "markdown",
      "metadata": {
        "id": "u3ELoMcW7Pp7"
      },
      "source": [
        "Explanation about example"
      ]
    },
    {
      "cell_type": "code",
      "execution_count": null,
      "metadata": {
        "id": "jg0BTtmR7Pp7"
      },
      "outputs": [],
      "source": [
        "# Example 2 - working\n",
        "???"
      ]
    },
    {
      "cell_type": "markdown",
      "metadata": {
        "id": "Aree9HuG7Pp8"
      },
      "source": [
        "Explanation about example"
      ]
    },
    {
      "cell_type": "code",
      "execution_count": null,
      "metadata": {
        "id": "NxRq-cBJ7Pp8"
      },
      "outputs": [],
      "source": [
        "# Example 3 - breaking (to illustrate when it breaks)\n",
        "???"
      ]
    },
    {
      "cell_type": "markdown",
      "metadata": {
        "id": "xOYMSw8e7Pp8"
      },
      "source": [
        "Explanation about example (why it breaks and how to fix it)"
      ]
    },
    {
      "cell_type": "markdown",
      "metadata": {
        "id": "jKlOng0Y7Pp8"
      },
      "source": [
        "Some closing comments about when to use this function."
      ]
    },
    {
      "cell_type": "code",
      "execution_count": null,
      "metadata": {
        "id": "hVRiIUSy7Pp8",
        "outputId": "6f34a0d4-337f-428b-8e07-06d4940a5b13"
      },
      "outputs": [
        {
          "data": {
            "application/javascript": [
              "window.require && require([\"base/js/namespace\"],function(Jupyter){Jupyter.notebook.save_checkpoint()})"
            ],
            "text/plain": [
              "<IPython.core.display.Javascript object>"
            ]
          },
          "metadata": {},
          "output_type": "display_data"
        },
        {
          "name": "stdout",
          "output_type": "stream",
          "text": [
            "[jovian] Attempting to save notebook..\u001b[0m\n",
            "[jovian] Updating notebook \"aakashns/numpy-array-operations\" on https://jovian.ml/\u001b[0m\n",
            "[jovian] Uploading notebook..\u001b[0m\n",
            "[jovian] Capturing environment..\u001b[0m\n",
            "[jovian] Committed successfully! https://jovian.ml/aakashns/numpy-array-operations\u001b[0m\n"
          ]
        },
        {
          "data": {
            "text/plain": [
              "'https://jovian.ml/aakashns/numpy-array-operations'"
            ]
          },
          "execution_count": 32,
          "metadata": {},
          "output_type": "execute_result"
        }
      ],
      "source": [
        "jovian.commit()"
      ]
    },
    {
      "cell_type": "markdown",
      "metadata": {
        "id": "bnFlpMgZ7Pp9"
      },
      "source": [
        "## Function 3 - ???\n",
        "\n",
        "Add some explanations"
      ]
    },
    {
      "cell_type": "code",
      "execution_count": null,
      "metadata": {
        "id": "hit8FE8T7Pp9"
      },
      "outputs": [],
      "source": [
        "# Example 1 - working\n",
        "???"
      ]
    },
    {
      "cell_type": "markdown",
      "metadata": {
        "id": "1auoGgTP7Pp9"
      },
      "source": [
        "Explanation about example"
      ]
    },
    {
      "cell_type": "code",
      "execution_count": null,
      "metadata": {
        "id": "XFBJy5KB7Pp9"
      },
      "outputs": [],
      "source": [
        "# Example 2 - working\n",
        "???"
      ]
    },
    {
      "cell_type": "markdown",
      "metadata": {
        "id": "0v7JGtqE7Pp9"
      },
      "source": [
        "Explanation about example"
      ]
    },
    {
      "cell_type": "code",
      "execution_count": null,
      "metadata": {
        "id": "Ped-IkS17Pp9"
      },
      "outputs": [],
      "source": [
        "# Example 3 - breaking (to illustrate when it breaks)\n",
        "???"
      ]
    },
    {
      "cell_type": "markdown",
      "metadata": {
        "id": "9xWpxOjw7Pp-"
      },
      "source": [
        "Explanation about example (why it breaks and how to fix it)"
      ]
    },
    {
      "cell_type": "markdown",
      "metadata": {
        "id": "scSFLEMj7Pp-"
      },
      "source": [
        "Some closing comments about when to use this function."
      ]
    },
    {
      "cell_type": "code",
      "execution_count": null,
      "metadata": {
        "id": "tTaqr8gO7Pp_",
        "outputId": "33b6fe27-7c2e-4e23-91cf-804e8ab8d06b"
      },
      "outputs": [
        {
          "data": {
            "application/javascript": [
              "window.require && require([\"base/js/namespace\"],function(Jupyter){Jupyter.notebook.save_checkpoint()})"
            ],
            "text/plain": [
              "<IPython.core.display.Javascript object>"
            ]
          },
          "metadata": {},
          "output_type": "display_data"
        },
        {
          "name": "stdout",
          "output_type": "stream",
          "text": [
            "[jovian] Attempting to save notebook..\u001b[0m\n",
            "[jovian] Updating notebook \"aakashns/numpy-array-operations\" on https://jovian.ml/\u001b[0m\n",
            "[jovian] Uploading notebook..\u001b[0m\n",
            "[jovian] Capturing environment..\u001b[0m\n",
            "[jovian] Committed successfully! https://jovian.ml/aakashns/numpy-array-operations\u001b[0m\n"
          ]
        },
        {
          "data": {
            "text/plain": [
              "'https://jovian.ml/aakashns/numpy-array-operations'"
            ]
          },
          "execution_count": 26,
          "metadata": {},
          "output_type": "execute_result"
        }
      ],
      "source": [
        "jovian.commit()"
      ]
    },
    {
      "cell_type": "markdown",
      "metadata": {
        "id": "1cxDt0d37Pp_"
      },
      "source": [
        "## Function 4 - ???\n",
        "\n",
        "Add some explanations"
      ]
    },
    {
      "cell_type": "code",
      "execution_count": null,
      "metadata": {
        "id": "m8hdwzyb7Pp_"
      },
      "outputs": [],
      "source": [
        "# Example 1 - working\n",
        "???"
      ]
    },
    {
      "cell_type": "markdown",
      "metadata": {
        "id": "BTMk5isB7Pp_"
      },
      "source": [
        "Explanation about example"
      ]
    },
    {
      "cell_type": "code",
      "execution_count": null,
      "metadata": {
        "id": "mfp6KaJX7Pp_"
      },
      "outputs": [],
      "source": [
        "# Example 2 - working\n",
        "???"
      ]
    },
    {
      "cell_type": "markdown",
      "metadata": {
        "id": "02WO-_f67Pp_"
      },
      "source": [
        "Explanation about example"
      ]
    },
    {
      "cell_type": "code",
      "execution_count": null,
      "metadata": {
        "id": "0rd2Ms_k7PqA"
      },
      "outputs": [],
      "source": [
        "# Example 3 - breaking (to illustrate when it breaks)\n",
        "???"
      ]
    },
    {
      "cell_type": "markdown",
      "metadata": {
        "id": "SW1y2jdU7PqA"
      },
      "source": [
        "Explanation about example (why it breaks and how to fix it)"
      ]
    },
    {
      "cell_type": "markdown",
      "metadata": {
        "id": "YoGWYe_n7PqA"
      },
      "source": [
        "Some closing comments about when to use this function."
      ]
    },
    {
      "cell_type": "code",
      "execution_count": null,
      "metadata": {
        "id": "PjoTqme57PqA",
        "outputId": "8048c043-24f5-4af4-b932-278399e57a8a"
      },
      "outputs": [
        {
          "data": {
            "application/javascript": [
              "window.require && require([\"base/js/namespace\"],function(Jupyter){Jupyter.notebook.save_checkpoint()})"
            ],
            "text/plain": [
              "<IPython.core.display.Javascript object>"
            ]
          },
          "metadata": {},
          "output_type": "display_data"
        },
        {
          "name": "stdout",
          "output_type": "stream",
          "text": [
            "[jovian] Attempting to save notebook..\u001b[0m\n",
            "[jovian] Updating notebook \"aakashns/numpy-array-operations\" on https://jovian.ml/\u001b[0m\n",
            "[jovian] Uploading notebook..\u001b[0m\n",
            "[jovian] Capturing environment..\u001b[0m\n",
            "[jovian] Committed successfully! https://jovian.ml/aakashns/numpy-array-operations\u001b[0m\n"
          ]
        },
        {
          "data": {
            "text/plain": [
              "'https://jovian.ml/aakashns/numpy-array-operations'"
            ]
          },
          "execution_count": 27,
          "metadata": {},
          "output_type": "execute_result"
        }
      ],
      "source": [
        "jovian.commit()"
      ]
    },
    {
      "cell_type": "markdown",
      "metadata": {
        "id": "WZKNCfbI7PqA"
      },
      "source": [
        "## Function 5 - ???\n",
        "\n",
        "Add some explanations"
      ]
    },
    {
      "cell_type": "code",
      "execution_count": null,
      "metadata": {
        "id": "hgDHzCe67PqA"
      },
      "outputs": [],
      "source": [
        "# Example 1 - working\n",
        "???"
      ]
    },
    {
      "cell_type": "markdown",
      "metadata": {
        "id": "mOSpL8-h7PqB"
      },
      "source": [
        "Explanation about example"
      ]
    },
    {
      "cell_type": "code",
      "execution_count": null,
      "metadata": {
        "id": "8JiR5glJ7PqB"
      },
      "outputs": [],
      "source": [
        "# Example 2 - working\n",
        "???"
      ]
    },
    {
      "cell_type": "markdown",
      "metadata": {
        "id": "jZfiEAzD7PqB"
      },
      "source": [
        "Explanation about example"
      ]
    },
    {
      "cell_type": "code",
      "execution_count": null,
      "metadata": {
        "id": "mnXFnTxa7PqB"
      },
      "outputs": [],
      "source": [
        "# Example 3 - breaking (to illustrate when it breaks)\n",
        "???"
      ]
    },
    {
      "cell_type": "markdown",
      "metadata": {
        "id": "ZkY3aNY77PqB"
      },
      "source": [
        "Explanation about example (why it breaks and how to fix it)"
      ]
    },
    {
      "cell_type": "markdown",
      "metadata": {
        "id": "uWLYNsgk7PqB"
      },
      "source": [
        "Some closing comments about when to use this function."
      ]
    },
    {
      "cell_type": "code",
      "execution_count": null,
      "metadata": {
        "id": "DbrBo2p07PqB",
        "outputId": "1965a493-3210-40cd-c478-518bd0c8fd31"
      },
      "outputs": [
        {
          "data": {
            "application/javascript": [
              "window.require && require([\"base/js/namespace\"],function(Jupyter){Jupyter.notebook.save_checkpoint()})"
            ],
            "text/plain": [
              "<IPython.core.display.Javascript object>"
            ]
          },
          "metadata": {},
          "output_type": "display_data"
        },
        {
          "name": "stdout",
          "output_type": "stream",
          "text": [
            "[jovian] Attempting to save notebook..\u001b[0m\n",
            "[jovian] Updating notebook \"aakashns/numpy-array-operations\" on https://jovian.ml/\u001b[0m\n",
            "[jovian] Uploading notebook..\u001b[0m\n",
            "[jovian] Capturing environment..\u001b[0m\n",
            "[jovian] Committed successfully! https://jovian.ml/aakashns/numpy-array-operations\u001b[0m\n"
          ]
        },
        {
          "data": {
            "text/plain": [
              "'https://jovian.ml/aakashns/numpy-array-operations'"
            ]
          },
          "execution_count": 28,
          "metadata": {},
          "output_type": "execute_result"
        }
      ],
      "source": [
        "jovian.commit()"
      ]
    },
    {
      "cell_type": "markdown",
      "metadata": {
        "id": "Q31HR0XE7PqB"
      },
      "source": [
        "## Conclusion\n",
        "\n",
        "Summarize what was covered in this notebook, and where to go next"
      ]
    },
    {
      "cell_type": "markdown",
      "metadata": {
        "id": "xxA2Bp3y7PqC"
      },
      "source": [
        "## Reference Links\n",
        "Provide links to your references and other interesting articles about Numpy arrays:\n",
        "* Numpy official tutorial : https://numpy.org/doc/stable/user/quickstart.html\n",
        "* ..."
      ]
    },
    {
      "cell_type": "code",
      "execution_count": null,
      "metadata": {
        "id": "yI0v848V7PqC",
        "outputId": "d3a05fb5-acc5-418b-fbae-f4289a16c2c5"
      },
      "outputs": [
        {
          "data": {
            "application/javascript": [
              "window.require && require([\"base/js/namespace\"],function(Jupyter){Jupyter.notebook.save_checkpoint()})"
            ],
            "text/plain": [
              "<IPython.core.display.Javascript object>"
            ]
          },
          "metadata": {},
          "output_type": "display_data"
        }
      ],
      "source": [
        "jovian.commit()"
      ]
    },
    {
      "cell_type": "code",
      "execution_count": null,
      "metadata": {
        "id": "E6akLxN27PqC"
      },
      "outputs": [],
      "source": [
        ""
      ]
    }
  ],
  "metadata": {
    "kernelspec": {
      "display_name": "Python 3",
      "language": "python",
      "name": "python3"
    },
    "language_info": {
      "codemirror_mode": {
        "name": "ipython",
        "version": 3
      },
      "file_extension": ".py",
      "mimetype": "text/x-python",
      "name": "python",
      "nbconvert_exporter": "python",
      "pygments_lexer": "ipython3",
      "version": "3.8.6"
    },
    "colab": {
      "name": "numpy-array-operations.ipynb",
      "provenance": []
    }
  },
  "nbformat": 4,
  "nbformat_minor": 0
}