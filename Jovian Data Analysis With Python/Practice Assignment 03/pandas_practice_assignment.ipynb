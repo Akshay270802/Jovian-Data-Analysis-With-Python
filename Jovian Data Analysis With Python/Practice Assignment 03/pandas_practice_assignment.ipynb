{
  "cells": [
    {
      "cell_type": "code",
      "execution_count": null,
      "metadata": {
        "id": "xoJJfsZYkram"
      },
      "outputs": [],
      "source": [
        "# Jovian Commit Essentials\n",
        "# Please retain and execute this cell without modifying the contents for `jovian.commit` to work\n",
        "!pip install jovian --upgrade -q\n",
        "import jovian\n",
        "jovian.set_project('pandas-practice-assignment')\n",
        "jovian.set_colab_id('1UB_hHjH3LFYBCjSmQO1suDp-q6GiFwb9')"
      ]
    },
    {
      "cell_type": "markdown",
      "metadata": {
        "id": "Z4vmOc4ikrat"
      },
      "source": [
        "# Assignment 3 - Pandas Data Analysis Practice\n",
        "\n",
        "*This assignment is a part of the course [\"Data Analysis with Python: Zero to Pandas\"](https://jovian.ai/learn/data-analysis-with-python-zero-to-pandas)*\n",
        "\n",
        "In this assignment, you'll get to practice some of the concepts and skills covered in this tutorial: https://jovian.ai/aakashns/python-pandas-data-analysis\n",
        "\n",
        "As you go through this notebook, you will find a **???** in certain places. To complete this assignment, you must replace all the **???** with appropriate values, expressions or statements to ensure that the notebook runs properly end-to-end. \n",
        "\n",
        "Some things to keep in mind:\n",
        "\n",
        "* Make sure to run all the code cells, otherwise you may get errors like `NameError` for undefined variables.\n",
        "* Do not change variable names, delete cells or disturb other existing code. It may cause problems during evaluation.\n",
        "* In some cases, you may need to add some code cells or new statements before or after the line of code containing the **???**. \n",
        "* Since you'll be using a temporary online service for code execution, save your work by running `jovian.commit` at regular intervals.\n",
        "* Questions marked **(Optional)** will not be considered for evaluation, and can be skipped. They are for your learning.\n",
        "\n",
        "You can make submissions on this page: https://jovian.ai/learn/data-analysis-with-python-zero-to-pandas/assignment/assignment-3-pandas-practice\n",
        "\n",
        "If you are stuck, you can ask for help on the community forum: https://jovian.ai/forum/t/assignment-3-pandas-practice/11225/3. You can get help with errors or ask for hints, describe your approach in simple words, link to documentation, but **please don't ask for or share the full working answer code** on the forum.\n",
        "\n",
        "\n",
        "## How to run the code and save your work\n",
        "\n",
        "The recommended way to run this notebook is to click the \"Run\" button at the top of this page, and select \"Run on Binder\". This will run the notebook on [mybinder.org](https://mybinder.org), a free online service for running Jupyter notebooks. \n",
        "\n",
        "Before starting the assignment, let's save a snapshot of the assignment to your Jovian.ai profile, so that you can access it later, and continue your work."
      ]
    },
    {
      "cell_type": "code",
      "execution_count": null,
      "metadata": {
        "id": "Zy6sl3TNkraw"
      },
      "outputs": [],
      "source": [
        "import jovian"
      ]
    },
    {
      "cell_type": "code",
      "execution_count": null,
      "metadata": {
        "id": "U6j0rwVZkrax"
      },
      "outputs": [],
      "source": [
        "jovian.commit(project='pandas-practice-assignment', environment=None)"
      ]
    },
    {
      "cell_type": "code",
      "execution_count": null,
      "metadata": {
        "id": "v9pNjZ2ekrax"
      },
      "outputs": [],
      "source": [
        "# Run the next line to install Pandas\n",
        "!pip install pandas --upgrade"
      ]
    },
    {
      "cell_type": "code",
      "execution_count": null,
      "metadata": {
        "id": "UH225NbAkray"
      },
      "outputs": [],
      "source": [
        "import pandas as pd"
      ]
    },
    {
      "cell_type": "markdown",
      "metadata": {
        "id": "TaGtkBXAkraz"
      },
      "source": [
        "In this assignment, we're going to analyze an operate on data from a CSV file. Let's begin by downloading the CSV file."
      ]
    },
    {
      "cell_type": "code",
      "execution_count": null,
      "metadata": {
        "id": "0nos6tBvkra1"
      },
      "outputs": [],
      "source": [
        "from urllib.request import urlretrieve\n",
        "\n",
        "urlretrieve('https://gist.githubusercontent.com/aakashns/28b2e504b3350afd9bdb157893f9725c/raw/994b65665757f4f8887db1c85986a897abb23d84/countries.csv', \n",
        "            'countries.csv')"
      ]
    },
    {
      "cell_type": "markdown",
      "metadata": {
        "id": "kzXMydRBkra9"
      },
      "source": [
        "Let's load the data from the CSV file into a Pandas data frame."
      ]
    },
    {
      "cell_type": "code",
      "execution_count": null,
      "metadata": {
        "id": "ERXEp976kra_"
      },
      "outputs": [],
      "source": [
        "countries_df = pd.read_csv('countries.csv')"
      ]
    },
    {
      "cell_type": "code",
      "execution_count": null,
      "metadata": {
        "id": "FjLAE1whkrbA"
      },
      "outputs": [],
      "source": [
        "countries_df"
      ]
    },
    {
      "cell_type": "markdown",
      "metadata": {
        "id": "zBDELR0HkrbA"
      },
      "source": [
        "**Q1: How many countries does the dataframe contain?**\n",
        "\n",
        "Hint: Use the `.shape` method."
      ]
    },
    {
      "cell_type": "code",
      "execution_count": null,
      "metadata": {
        "id": "TaYFzVB2krbB"
      },
      "outputs": [],
      "source": [
        "num_countries = ???"
      ]
    },
    {
      "cell_type": "code",
      "execution_count": null,
      "metadata": {
        "id": "mRPwuEsMkrbC"
      },
      "outputs": [],
      "source": [
        "print('There are {} countries in the dataset'.format(num_countries))"
      ]
    },
    {
      "cell_type": "code",
      "execution_count": null,
      "metadata": {
        "id": "G3ykJJTAkrbD"
      },
      "outputs": [],
      "source": [
        "jovian.commit(project='pandas-practice-assignment', environment=None)"
      ]
    },
    {
      "cell_type": "markdown",
      "metadata": {
        "id": "WqddfpdNkrbD"
      },
      "source": [
        "**Q2: Retrieve a list of continents from the dataframe?**\n",
        "\n",
        "*Hint: Use the `.unique` method of a series.*"
      ]
    },
    {
      "cell_type": "code",
      "execution_count": null,
      "metadata": {
        "id": "22k8N07skrbE"
      },
      "outputs": [],
      "source": [
        "continents = ???"
      ]
    },
    {
      "cell_type": "code",
      "execution_count": null,
      "metadata": {
        "id": "AQ1_S5kCkrbE"
      },
      "outputs": [],
      "source": [
        "continents"
      ]
    },
    {
      "cell_type": "code",
      "execution_count": null,
      "metadata": {
        "id": "eEfA3GeMkrbF"
      },
      "outputs": [],
      "source": [
        "jovian.commit(project='pandas-practice-assignment', environment=None)"
      ]
    },
    {
      "cell_type": "markdown",
      "metadata": {
        "id": "IiIDlx0XkrbF"
      },
      "source": [
        "**Q3: What is the total population of all the countries listed in this dataset?**"
      ]
    },
    {
      "cell_type": "code",
      "execution_count": null,
      "metadata": {
        "id": "mSLxhslTkrbG"
      },
      "outputs": [],
      "source": [
        "total_population = ???"
      ]
    },
    {
      "cell_type": "code",
      "execution_count": null,
      "metadata": {
        "id": "AEzfpfhHkrbG"
      },
      "outputs": [],
      "source": [
        "print('The total population is {}.'.format(int(total_population)))"
      ]
    },
    {
      "cell_type": "code",
      "execution_count": null,
      "metadata": {
        "id": "HMu7tZeHkrbG"
      },
      "outputs": [],
      "source": [
        "jovian.commit(project='pandas-practice-assignment', environment=None)"
      ]
    },
    {
      "cell_type": "markdown",
      "metadata": {
        "id": "14Q0CQARkrbH"
      },
      "source": [
        "**Q: (Optional) What is the overall life expectancy across in the world?**\n",
        "\n",
        "*Hint: You'll need to take a weighted average of life expectancy using populations as weights.*"
      ]
    },
    {
      "cell_type": "code",
      "execution_count": null,
      "metadata": {
        "id": "th_lkf0EkrbH"
      },
      "outputs": [],
      "source": [
        ""
      ]
    },
    {
      "cell_type": "code",
      "execution_count": null,
      "metadata": {
        "id": "D4ABidvVkrbH"
      },
      "outputs": [],
      "source": [
        ""
      ]
    },
    {
      "cell_type": "code",
      "execution_count": null,
      "metadata": {
        "id": "JxUh1PC6krbI"
      },
      "outputs": [],
      "source": [
        "jovian.commit(project='pandas-practice-assignment', environment=None)"
      ]
    },
    {
      "cell_type": "markdown",
      "metadata": {
        "id": "heoYsrP5krbI"
      },
      "source": [
        "**Q4: Create a dataframe containing 10 countries with the highest population.**\n",
        "\n",
        "*Hint: Chain the `sort_values` and `head` methods.*"
      ]
    },
    {
      "cell_type": "code",
      "execution_count": null,
      "metadata": {
        "id": "hbjZilBukrbI"
      },
      "outputs": [],
      "source": [
        "most_populous_df = ???"
      ]
    },
    {
      "cell_type": "code",
      "execution_count": null,
      "metadata": {
        "id": "mYH8oN5vkrbI"
      },
      "outputs": [],
      "source": [
        "most_populous_df"
      ]
    },
    {
      "cell_type": "code",
      "execution_count": null,
      "metadata": {
        "id": "7gwXu86CkrbJ"
      },
      "outputs": [],
      "source": [
        "jovian.commit(project='pandas-practice-assignment', environment=None)"
      ]
    },
    {
      "cell_type": "markdown",
      "metadata": {
        "id": "pSQJ7N6xkrbJ"
      },
      "source": [
        "**Q5: Add a new column in `countries_df` to record the overall GDP per country (product of population & per capita GDP).**\n",
        "\n"
      ]
    },
    {
      "cell_type": "code",
      "execution_count": null,
      "metadata": {
        "id": "8A9YCM6mkrbJ"
      },
      "outputs": [],
      "source": [
        "countries_df['gdp'] = ???"
      ]
    },
    {
      "cell_type": "code",
      "execution_count": null,
      "metadata": {
        "id": "9D0bN67okrbJ"
      },
      "outputs": [],
      "source": [
        "countries_df"
      ]
    },
    {
      "cell_type": "code",
      "execution_count": null,
      "metadata": {
        "id": "J0M87YKmkrbK"
      },
      "outputs": [],
      "source": [
        "jovian.commit(project='pandas-practice-assignment', environment=None)"
      ]
    },
    {
      "cell_type": "markdown",
      "metadata": {
        "id": "fc-hT2-nkrbK"
      },
      "source": [
        "**Q: (Optional) Create a dataframe containing 10 countries with the lowest GDP per capita, among the counties with population greater than 100 million.**"
      ]
    },
    {
      "cell_type": "code",
      "execution_count": null,
      "metadata": {
        "id": "Il8iCdZlkrbK"
      },
      "outputs": [],
      "source": [
        ""
      ]
    },
    {
      "cell_type": "code",
      "execution_count": null,
      "metadata": {
        "id": "XKf9WFW7krbK"
      },
      "outputs": [],
      "source": [
        ""
      ]
    },
    {
      "cell_type": "code",
      "execution_count": null,
      "metadata": {
        "id": "pbHFIMuDkrbL"
      },
      "outputs": [],
      "source": [
        "jovian.commit(project='pandas-practice-assignment', environment=None)"
      ]
    },
    {
      "cell_type": "markdown",
      "metadata": {
        "id": "xIgqO9lLkrbL"
      },
      "source": [
        "**Q6: Create a data frame that counts the number countries in each continent?**\n",
        "\n",
        "*Hint: Use `groupby`, select the `location` column and aggregate using `count`.*"
      ]
    },
    {
      "cell_type": "code",
      "execution_count": null,
      "metadata": {
        "id": "Uz_YpZ44krbL"
      },
      "outputs": [],
      "source": [
        "country_counts_df = ???"
      ]
    },
    {
      "cell_type": "code",
      "execution_count": null,
      "metadata": {
        "id": "gvV9jVyNkrbL"
      },
      "outputs": [],
      "source": [
        "country_counts_df"
      ]
    },
    {
      "cell_type": "code",
      "execution_count": null,
      "metadata": {
        "id": "C5YM1oCOkrbM"
      },
      "outputs": [],
      "source": [
        "jovian.commit(project='pandas-practice-assignment', environment=None)"
      ]
    },
    {
      "cell_type": "markdown",
      "metadata": {
        "id": "oUjTl5c2krbM"
      },
      "source": [
        "**Q7: Create a data frame showing the total population of each continent.**\n",
        "\n",
        "*Hint: Use `groupby`, select the population column and aggregate using `sum`.*"
      ]
    },
    {
      "cell_type": "code",
      "execution_count": null,
      "metadata": {
        "id": "522fNEdrkrbM"
      },
      "outputs": [],
      "source": [
        "continent_populations_df = ???"
      ]
    },
    {
      "cell_type": "code",
      "execution_count": null,
      "metadata": {
        "id": "PLx2b12LkrbM"
      },
      "outputs": [],
      "source": [
        "continent_populations_df"
      ]
    },
    {
      "cell_type": "code",
      "execution_count": null,
      "metadata": {
        "id": "Q3VgIqGakrbN"
      },
      "outputs": [],
      "source": [
        "jovian.commit(project='pandas-practice-assignment', environment=None)"
      ]
    },
    {
      "cell_type": "markdown",
      "metadata": {
        "id": "3PQbkLywkrbN"
      },
      "source": [
        "Let's download another CSV file containing overall Covid-19 stats for various countires, and read the data into another Pandas data frame."
      ]
    },
    {
      "cell_type": "code",
      "execution_count": null,
      "metadata": {
        "id": "fnZVvfs6krbN"
      },
      "outputs": [],
      "source": [
        "urlretrieve('https://gist.githubusercontent.com/aakashns/b2a968a6cfd9fbbb0ff3d6bd0f26262b/raw/b115ed1dfa17f10fc88bf966236cd4d9032f1df8/covid-countries-data.csv', \n",
        "            'covid-countries-data.csv')"
      ]
    },
    {
      "cell_type": "code",
      "execution_count": null,
      "metadata": {
        "id": "92wBArO0krbN"
      },
      "outputs": [],
      "source": [
        "covid_data_df = pd.read_csv('covid-countries-data.csv')"
      ]
    },
    {
      "cell_type": "code",
      "execution_count": null,
      "metadata": {
        "scrolled": true,
        "id": "GPWA8-7IkrbN"
      },
      "outputs": [],
      "source": [
        "covid_data_df"
      ]
    },
    {
      "cell_type": "markdown",
      "metadata": {
        "id": "LiiXDF9ZkrbO"
      },
      "source": [
        "**Q8: Count the number of countries for which the `total_tests` data is missing.**\n",
        "\n",
        "*Hint: Use the `.isna` method.*"
      ]
    },
    {
      "cell_type": "code",
      "execution_count": null,
      "metadata": {
        "id": "1m_Um9_nkrbO"
      },
      "outputs": [],
      "source": [
        "total_tests_missing = ???"
      ]
    },
    {
      "cell_type": "code",
      "execution_count": null,
      "metadata": {
        "id": "rT4su20wkrbO"
      },
      "outputs": [],
      "source": [
        "print(\"The data for total tests is missing for {} countries.\".format(int(total_tests_missing)))"
      ]
    },
    {
      "cell_type": "code",
      "execution_count": null,
      "metadata": {
        "id": "QQJWq8ApkrbO"
      },
      "outputs": [],
      "source": [
        "jovian.commit(project='pandas-practice-assignment', environment=None)"
      ]
    },
    {
      "cell_type": "markdown",
      "metadata": {
        "id": "ooizrjafkrbO"
      },
      "source": [
        "Let's merge the two data frames, and compute some more metrics.\n",
        "\n",
        "**Q9: Merge `countries_df` with `covid_data_df` on the `location` column.**\n",
        "\n",
        "*Hint: Use the `.merge` method on `countries_df`."
      ]
    },
    {
      "cell_type": "code",
      "execution_count": null,
      "metadata": {
        "id": "2vThHezxkrbP"
      },
      "outputs": [],
      "source": [
        "combined_df = ???"
      ]
    },
    {
      "cell_type": "code",
      "execution_count": null,
      "metadata": {
        "id": "YutL-rr6krbP"
      },
      "outputs": [],
      "source": [
        "combined_df"
      ]
    },
    {
      "cell_type": "code",
      "execution_count": null,
      "metadata": {
        "id": "I5A5Mhy3krbP"
      },
      "outputs": [],
      "source": [
        "jovian.commit(project='pandas-practice-assignment', environment=None)"
      ]
    },
    {
      "cell_type": "markdown",
      "metadata": {
        "id": "a3gMzqbLkrbP"
      },
      "source": [
        "**Q10: Add columns `tests_per_million`, `cases_per_million` and `deaths_per_million` into `combined_df`.**"
      ]
    },
    {
      "cell_type": "code",
      "execution_count": null,
      "metadata": {
        "id": "RLSelH31krbQ"
      },
      "outputs": [],
      "source": [
        "combined_df['tests_per_million'] = combined_df['total_tests'] * 1e6 / combined_df['population']"
      ]
    },
    {
      "cell_type": "code",
      "execution_count": null,
      "metadata": {
        "id": "nnXsxeZpkrbQ"
      },
      "outputs": [],
      "source": [
        "combined_df['cases_per_million'] = ???"
      ]
    },
    {
      "cell_type": "code",
      "execution_count": null,
      "metadata": {
        "id": "eTg-WyrZkrbQ"
      },
      "outputs": [],
      "source": [
        "combined_df['deaths_per_million'] = ???"
      ]
    },
    {
      "cell_type": "code",
      "execution_count": null,
      "metadata": {
        "id": "P_U7YCQUkrbQ"
      },
      "outputs": [],
      "source": [
        "combined_df"
      ]
    },
    {
      "cell_type": "code",
      "execution_count": null,
      "metadata": {
        "id": "C5rTs5FSkrbR"
      },
      "outputs": [],
      "source": [
        "jovian.commit(project='pandas-practice-assignment', environment=None)"
      ]
    },
    {
      "cell_type": "markdown",
      "metadata": {
        "id": "pUwhUkiRkrbR"
      },
      "source": [
        "**Q11: Create a dataframe with 10 countires that have highest number of tests per million people.**"
      ]
    },
    {
      "cell_type": "code",
      "execution_count": null,
      "metadata": {
        "id": "yCEWaKRTkrbR"
      },
      "outputs": [],
      "source": [
        "highest_tests_df = ???"
      ]
    },
    {
      "cell_type": "code",
      "execution_count": null,
      "metadata": {
        "id": "sGvgKWUOkrbR"
      },
      "outputs": [],
      "source": [
        "highest_tests_df"
      ]
    },
    {
      "cell_type": "code",
      "execution_count": null,
      "metadata": {
        "id": "S6QUL6PGkrbR"
      },
      "outputs": [],
      "source": [
        "jovian.commit(project='pandas-practice-assignment', environment=None)"
      ]
    },
    {
      "cell_type": "markdown",
      "metadata": {
        "id": "-5lWShK0krbS"
      },
      "source": [
        "**Q12: Create a dataframe with 10 countires that have highest number of positive cases per million people.**"
      ]
    },
    {
      "cell_type": "code",
      "execution_count": null,
      "metadata": {
        "id": "fwP5TeqOkrbS"
      },
      "outputs": [],
      "source": [
        "highest_cases_df = ???"
      ]
    },
    {
      "cell_type": "code",
      "execution_count": null,
      "metadata": {
        "id": "Yg-GMqOIkrbS"
      },
      "outputs": [],
      "source": [
        "highest_cases_df"
      ]
    },
    {
      "cell_type": "code",
      "execution_count": null,
      "metadata": {
        "id": "6eKdLxi-krbS"
      },
      "outputs": [],
      "source": [
        "jovian.commit(project='pandas-practice-assignment', environment=None)"
      ]
    },
    {
      "cell_type": "markdown",
      "metadata": {
        "id": "TmjBeZc_krbU"
      },
      "source": [
        "**Q13: Create a dataframe with 10 countires that have highest number of deaths cases per million people?**"
      ]
    },
    {
      "cell_type": "code",
      "execution_count": null,
      "metadata": {
        "id": "51bKd1ykkrbV"
      },
      "outputs": [],
      "source": [
        "highest_deaths_df = ???"
      ]
    },
    {
      "cell_type": "code",
      "execution_count": null,
      "metadata": {
        "id": "0qNH1nsZkrbV"
      },
      "outputs": [],
      "source": [
        "highest_deaths_df"
      ]
    },
    {
      "cell_type": "code",
      "execution_count": null,
      "metadata": {
        "id": "S8C-CkJUkrbV"
      },
      "outputs": [],
      "source": [
        "jovian.commit(project='pandas-practice-assignment', environment=None)"
      ]
    },
    {
      "cell_type": "markdown",
      "metadata": {
        "id": "ZJsmVHNDkrbV"
      },
      "source": [
        "**(Optional) Q: Count number of countries that feature in both the lists of \"highest number of tests per million\" and \"highest number of cases per million\".**"
      ]
    },
    {
      "cell_type": "code",
      "execution_count": null,
      "metadata": {
        "id": "I_HYBMQrkrbW"
      },
      "outputs": [],
      "source": [
        ""
      ]
    },
    {
      "cell_type": "code",
      "execution_count": null,
      "metadata": {
        "id": "EFoE-WdIkrbW"
      },
      "outputs": [],
      "source": [
        ""
      ]
    },
    {
      "cell_type": "code",
      "execution_count": null,
      "metadata": {
        "id": "eCUqYv5HkrbW"
      },
      "outputs": [],
      "source": [
        ""
      ]
    },
    {
      "cell_type": "code",
      "execution_count": null,
      "metadata": {
        "id": "lo-vyxKCkrbW"
      },
      "outputs": [],
      "source": [
        "jovian.commit(project='pandas-practice-assignment', environment=None)"
      ]
    },
    {
      "cell_type": "markdown",
      "metadata": {
        "id": "0vjnD4MgkrbW"
      },
      "source": [
        "**(Optional) Q: Count number of countries that feature in both the lists \"20 countries with lowest GDP per capita\" and \"20 countries with the lowest number of hospital beds per thousand population\". Only consider countries with a population higher than 10 million while creating the list.**"
      ]
    },
    {
      "cell_type": "code",
      "execution_count": null,
      "metadata": {
        "id": "dfl06bP4krbX"
      },
      "outputs": [],
      "source": [
        ""
      ]
    },
    {
      "cell_type": "code",
      "execution_count": null,
      "metadata": {
        "id": "Yc6xnOUCkrbX"
      },
      "outputs": [],
      "source": [
        ""
      ]
    },
    {
      "cell_type": "code",
      "execution_count": null,
      "metadata": {
        "id": "UKvfKecdkrbX"
      },
      "outputs": [],
      "source": [
        ""
      ]
    },
    {
      "cell_type": "code",
      "execution_count": null,
      "metadata": {
        "id": "tmUnt9AZkrbX"
      },
      "outputs": [],
      "source": [
        "import jovian"
      ]
    },
    {
      "cell_type": "code",
      "execution_count": null,
      "metadata": {
        "id": "X2N0LmcJkrbX"
      },
      "outputs": [],
      "source": [
        "jovian.commit(project='pandas-practice-assignment', environment=None)"
      ]
    },
    {
      "cell_type": "markdown",
      "metadata": {
        "id": "_kilBQCRkrbX"
      },
      "source": [
        "## Submission \n",
        "\n",
        "Congratulations on making it this far! You've reached the end of this assignment, and you just completed your first real-world data analysis problem. It's time to record one final version of your notebook for submission.\n",
        "\n",
        "Make a submission here by filling the submission form: https://jovian.ai/learn/data-analysis-with-python-zero-to-pandas/assignment/assignment-3-pandas-practice\n",
        "\n",
        "Also make sure to help others on the forum: https://jovian.ai/forum/t/assignment-3-pandas-practice/11225/2"
      ]
    },
    {
      "cell_type": "code",
      "execution_count": null,
      "metadata": {
        "id": "KyTvGMX1krbY"
      },
      "outputs": [],
      "source": [
        ""
      ]
    }
  ],
  "metadata": {
    "kernelspec": {
      "display_name": "Python 3",
      "language": "python",
      "name": "python3"
    },
    "language_info": {
      "codemirror_mode": {
        "name": "ipython",
        "version": 3
      },
      "file_extension": ".py",
      "mimetype": "text/x-python",
      "name": "python",
      "nbconvert_exporter": "python",
      "pygments_lexer": "ipython3",
      "version": "3.8.6"
    },
    "colab": {
      "name": "pandas-practice-assignment.ipynb",
      "provenance": []
    }
  },
  "nbformat": 4,
  "nbformat_minor": 0
}