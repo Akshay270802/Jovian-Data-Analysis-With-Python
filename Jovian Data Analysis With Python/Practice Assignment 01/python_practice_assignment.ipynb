{
  "cells": [
    {
      "cell_type": "code",
      "execution_count": 1,
      "metadata": {
        "colab": {
          "base_uri": "https://localhost:8080/"
        },
        "id": "1a8H5I9LePGE",
        "outputId": "2e197276-d0c5-4a60-8ff0-fa8f526a4d11"
      },
      "outputs": [
        {
          "output_type": "stream",
          "name": "stdout",
          "text": [
            "\u001b[?25l\r\u001b[K     |████▊                           | 10 kB 20.3 MB/s eta 0:00:01\r\u001b[K     |█████████▌                      | 20 kB 27.1 MB/s eta 0:00:01\r\u001b[K     |██████████████▎                 | 30 kB 23.0 MB/s eta 0:00:01\r\u001b[K     |███████████████████             | 40 kB 17.1 MB/s eta 0:00:01\r\u001b[K     |███████████████████████▉        | 51 kB 9.1 MB/s eta 0:00:01\r\u001b[K     |████████████████████████████▋   | 61 kB 9.0 MB/s eta 0:00:01\r\u001b[K     |████████████████████████████████| 68 kB 4.2 MB/s \n",
            "\u001b[?25h  Building wheel for uuid (setup.py) ... \u001b[?25l\u001b[?25hdone\n"
          ]
        }
      ],
      "source": [
        "# Jovian Commit Essentials\n",
        "# Please retain and execute this cell without modifying the contents for `jovian.commit` to work\n",
        "!pip install jovian --upgrade -q\n",
        "import jovian\n",
        "jovian.set_project('python-practice-assignment-f248a')\n",
        "jovian.set_colab_id('1h8CmJ_QQTH5jZS9RKytqr8NhoP1ShUn4')"
      ]
    },
    {
      "cell_type": "markdown",
      "metadata": {
        "id": "WhaXDn9kePGL"
      },
      "source": [
        "# Assignment 1 - Python Basics Practice\n",
        "\n",
        "*This assignment is a part of the course [\"Data Analysis with Python: Zero to Pandas\"](https://jovian.ml/learn/data-analysis-with-python-zero-to-pandas)*\n",
        "\n",
        "In this assignment, you'll get to practice some of the concepts and skills covered in the following notebooks:\n",
        "\n",
        "1. [First Steps with Python and Jupyter](https://jovian.ml/aakashns/first-steps-with-python)\n",
        "2. [A Quick Tour of Variables and Data Types](https://jovian.ml/aakashns/python-variables-and-data-types)\n",
        "3. [Branching using Conditional Statements and Loops](https://jovian.ml/aakashns/python-branching-and-loops)\n",
        "\n",
        "\n",
        "As you go through this notebook, you will find the symbol **???** in certain places. To complete this assignment, you must replace all the **???** with appropriate values, expressions or statements to ensure that the notebook runs properly end-to-end. \n",
        "\n",
        "**Guidelines**\n",
        "\n",
        "1. Make sure to run all the code cells, otherwise you may get errors like `NameError` for undefined variables.\n",
        "2. Do not change variable names, delete cells or disturb other existing code. It may cause problems during evaluation.\n",
        "3. In some cases, you may need to add some code cells or new statements before or after the line of code containing the **???**. \n",
        "4. Since you'll be using a free online service for code execution, save your work by running `jovian.commit` at regular intervals.\n",
        "5. Questions marked **(Optional)** will not be considered for evaluation, and can be skipped. They are for your learning.\n",
        "6. If you are stuck, you can ask for help on the course forum. Post errors, ask for hints and help others, but **please don't share the full solution answer code** to give others a chance to write the code themselves.\n",
        "7. After submission your code will be tested with some hidden test cases. Make sure to test your code exhaustively to cover all edge cases.\n",
        "\n",
        "\n",
        "Important Links:\n",
        "\n",
        "* Make submissions here: https://jovian.ml/learn/data-analysis-with-python-zero-to-pandas/assignment/assignment-1-python-basics-practice\n",
        "\n",
        "* Get help on the community forum: https://jovian.ml/forum/t/assignment-1-python-practice/7761 . You can get help with errors or ask for hints, but **please don't ask for or share the full working answer code** on the forum.\n"
      ]
    },
    {
      "cell_type": "markdown",
      "metadata": {
        "id": "-oyoWnOZePGO"
      },
      "source": [
        "### How to Run the Code and Save Your Work\n",
        "\n",
        "**Option 1: Running using free online resources (1-click, recommended)**: Click the **Run** button at the top of this page and select **Run on Binder**. You can also select \"Run on Colab\" or \"Run on Kaggle\", but you'll need to create an account on [Google Colab](https://colab.research.google.com) or [Kaggle](https://kaggle.com) to use these platforms.\n",
        "\n",
        "\n",
        "**Option 2: Running on your computer locally**: To run the code on your computer locally, you'll need to set up [Python](https://www.python.org) & [Conda](https://docs.conda.io/projects/conda/en/latest/user-guide/install/), download the notebook and install the required libraries. Click the **Run** button at the top of this page, select the **Run Locally** option, and follow the instructions.\n",
        "\n",
        "**Saving your work**: You can save a snapshot of the assignment to your [Jovian](https://jovian.ai) profile, so that you can access it later and continue your work. Keep saving your work by running `jovian.commit` from time to time."
      ]
    },
    {
      "cell_type": "code",
      "execution_count": 2,
      "metadata": {
        "id": "b9nH6IntePGP"
      },
      "outputs": [],
      "source": [
        "# Install the library\n",
        "!pip install jovian --upgrade --quiet"
      ]
    },
    {
      "cell_type": "code",
      "execution_count": 3,
      "metadata": {
        "id": "OG7q6Mq2ePGP"
      },
      "outputs": [],
      "source": [
        "# Import it\n",
        "import jovian"
      ]
    },
    {
      "cell_type": "code",
      "execution_count": 4,
      "metadata": {
        "id": "DcHbGYmWePGQ"
      },
      "outputs": [],
      "source": [
        "project_name='python-practice-assignment'"
      ]
    },
    {
      "cell_type": "code",
      "execution_count": 5,
      "metadata": {
        "colab": {
          "base_uri": "https://localhost:8080/",
          "height": 126
        },
        "id": "m-ZTOJKfePGR",
        "outputId": "7739f7c9-030e-4b2f-d544-9da90c981475"
      },
      "outputs": [
        {
          "output_type": "stream",
          "name": "stdout",
          "text": [
            "[jovian] Detected Colab notebook...\u001b[0m\n",
            "[jovian] Please enter your API key ( from https://jovian.ai/ ):\u001b[0m\n",
            "API KEY: ··········\n",
            "[jovian] Uploading colab notebook to Jovian...\u001b[0m\n",
            "Committed successfully! https://jovian.ai/akshay270802/python-practice-assignment\n"
          ]
        },
        {
          "output_type": "execute_result",
          "data": {
            "application/vnd.google.colaboratory.intrinsic+json": {
              "type": "string"
            },
            "text/plain": [
              "'https://jovian.ai/akshay270802/python-practice-assignment'"
            ]
          },
          "metadata": {},
          "execution_count": 5
        }
      ],
      "source": [
        "# Capture and upload a snapshot\n",
        "jovian.commit(project=project_name, privacy='secret', evironment=None)"
      ]
    },
    {
      "cell_type": "markdown",
      "metadata": {
        "id": "raaz03NwePGT"
      },
      "source": [
        "You'll be asked to provide an API Key, to securely upload the notebook to your Jovian.ml account. You can get the API key from your Jovian.ml profile page after logging in / signing up. See the docs for details: https://jovian.ml/docs/user-guide/upload.html . The privacy of your assignment notebook is set to *Secret*, so that you can the evlauators can access it, but it will not shown on your public profile to other users."
      ]
    },
    {
      "cell_type": "markdown",
      "metadata": {
        "id": "5Xb01c96ePGU"
      },
      "source": [
        "## Problem 1 - Variables and Data Types\n",
        "\n",
        "**Q1: Assign your name to the variable `name`.**"
      ]
    },
    {
      "cell_type": "code",
      "execution_count": 8,
      "metadata": {
        "id": "H26OxLdDePGV"
      },
      "outputs": [],
      "source": [
        "name = \"AK\""
      ]
    },
    {
      "cell_type": "markdown",
      "metadata": {
        "id": "f9rMAP3VePGV"
      },
      "source": [
        "**Q2: Assign your age (real or fake) to the variable `age`.**"
      ]
    },
    {
      "cell_type": "code",
      "execution_count": 9,
      "metadata": {
        "id": "mthsrByxePGW"
      },
      "outputs": [],
      "source": [
        "age = \"19\""
      ]
    },
    {
      "cell_type": "markdown",
      "metadata": {
        "id": "FD9PdTOTePGW"
      },
      "source": [
        "**Q3: Assign a boolean value to the variable `has_android_phone`.**"
      ]
    },
    {
      "cell_type": "code",
      "execution_count": 12,
      "metadata": {
        "id": "gM77GRsMePGW"
      },
      "outputs": [],
      "source": [
        "has_android_phone = \"Yes\""
      ]
    },
    {
      "cell_type": "markdown",
      "metadata": {
        "id": "b4nFASCyePGa"
      },
      "source": [
        "You can check the values of these variables by running the next cell."
      ]
    },
    {
      "cell_type": "code",
      "execution_count": 13,
      "metadata": {
        "colab": {
          "base_uri": "https://localhost:8080/"
        },
        "id": "fNJnUxDiePGb",
        "outputId": "d5c0ee49-ee5c-4061-8386-531e03bed05e"
      },
      "outputs": [
        {
          "output_type": "execute_result",
          "data": {
            "text/plain": [
              "('AK', '19', 'Yes')"
            ]
          },
          "metadata": {},
          "execution_count": 13
        }
      ],
      "source": [
        "name, age, has_android_phone"
      ]
    },
    {
      "cell_type": "markdown",
      "metadata": {
        "id": "F3TECOkBePGb"
      },
      "source": [
        "**Q4: Create a dictionary `person` with keys `\"Name\"`, `\"Age\"`, `\"HasAndroidPhone\"` and values using the variables defined above.**"
      ]
    },
    {
      "cell_type": "code",
      "execution_count": 14,
      "metadata": {
        "id": "mJXBeX7qePGb"
      },
      "outputs": [],
      "source": [
        "person = {'Name':'AK',\n",
        "          'Age':19,\n",
        "          'HasAndroidPhone':\"yes\"}"
      ]
    },
    {
      "cell_type": "markdown",
      "metadata": {
        "id": "5Z0w2Ep-ePGc"
      },
      "source": [
        "Let's use the `person` dictionary to print a nice message."
      ]
    },
    {
      "cell_type": "code",
      "execution_count": 15,
      "metadata": {
        "colab": {
          "base_uri": "https://localhost:8080/"
        },
        "id": "cnqkLRpOePGc",
        "outputId": "0810c11b-4cbd-4b6c-db2e-b50d7ee8b2b3"
      },
      "outputs": [
        {
          "output_type": "stream",
          "name": "stdout",
          "text": [
            "AK is aged 19, and owns an Android phone.\n"
          ]
        }
      ],
      "source": [
        "print(\"{} is aged {}, and owns an {}.\".format(\n",
        "    person[\"Name\"], \n",
        "    person[\"Age\"], \n",
        "    \"Android phone\" if person[\"HasAndroidPhone\"] else \"iPhone\"\n",
        "))"
      ]
    },
    {
      "cell_type": "markdown",
      "metadata": {
        "id": "0vge7kRxePGc"
      },
      "source": [
        "**Q4b (Optional): Use a `for` loop to display the `type` of each value stored against each key in `person`.**\n",
        "\n",
        "Here's the expected output for the key `\"Name\"`: \n",
        "\n",
        "```\n",
        "The key \"Name\" has the value \"Derek\" of the type \"<class 'str'>\"\n",
        "```"
      ]
    },
    {
      "cell_type": "code",
      "execution_count": 16,
      "metadata": {
        "colab": {
          "base_uri": "https://localhost:8080/"
        },
        "id": "O-EA2sskePGd",
        "outputId": "3639940a-72e2-448a-f5d9-192b4f4cf908"
      },
      "outputs": [
        {
          "output_type": "stream",
          "name": "stdout",
          "text": [
            "Name AK <class 'str'>\n",
            "Age 19 <class 'int'>\n",
            "HasAndroidPhone yes <class 'str'>\n"
          ]
        }
      ],
      "source": [
        "# this is optional\n",
        "person = {'Name':'AK',\n",
        "          'Age':19,\n",
        "          'HasAndroidPhone':\"yes\"}\n",
        "\n",
        "for i in person:\n",
        "  print(i,person[i],type(person[i]))"
      ]
    },
    {
      "cell_type": "markdown",
      "metadata": {
        "id": "krb5IEddePGd"
      },
      "source": [
        "Now that you've solved one problem, it would be a good idea to record a snapshot of your notebook."
      ]
    },
    {
      "cell_type": "code",
      "execution_count": 17,
      "metadata": {
        "colab": {
          "base_uri": "https://localhost:8080/",
          "height": 90
        },
        "id": "d3GTiAi1ePGd",
        "outputId": "6cda5431-bb69-42b8-c860-6ee02cb1efba"
      },
      "outputs": [
        {
          "output_type": "stream",
          "name": "stdout",
          "text": [
            "[jovian] Detected Colab notebook...\u001b[0m\n",
            "[jovian] Uploading colab notebook to Jovian...\u001b[0m\n",
            "Committed successfully! https://jovian.ai/akshay270802/python-practice-assignment\n"
          ]
        },
        {
          "output_type": "execute_result",
          "data": {
            "application/vnd.google.colaboratory.intrinsic+json": {
              "type": "string"
            },
            "text/plain": [
              "'https://jovian.ai/akshay270802/python-practice-assignment'"
            ]
          },
          "metadata": {},
          "execution_count": 17
        }
      ],
      "source": [
        "jovian.commit(project=project_name,environment=None)"
      ]
    },
    {
      "cell_type": "markdown",
      "metadata": {
        "id": "y48uy9aSePGe"
      },
      "source": [
        "## Problem 2 - Working with Lists\n",
        "\n",
        "**Q5: Create a list containing the following 3 elements:**\n",
        "\n",
        "* your favorite color\n",
        "* the number of pets you have\n",
        "* a boolean value describing whether you have previous programming experience\n"
      ]
    },
    {
      "cell_type": "code",
      "execution_count": 20,
      "metadata": {
        "id": "DKhxNg47ePGe"
      },
      "outputs": [],
      "source": [
        "my_list = ['Black',2,'Yes']"
      ]
    },
    {
      "cell_type": "markdown",
      "metadata": {
        "id": "DMgXKYLdePGe"
      },
      "source": [
        "Let's see what the list looks like:"
      ]
    },
    {
      "cell_type": "code",
      "execution_count": 21,
      "metadata": {
        "colab": {
          "base_uri": "https://localhost:8080/"
        },
        "id": "t8SMCiUCePGe",
        "outputId": "b108f460-d2c2-4267-8af1-5be814f3c71b"
      },
      "outputs": [
        {
          "output_type": "execute_result",
          "data": {
            "text/plain": [
              "['Black', 2, 'Yes']"
            ]
          },
          "metadata": {},
          "execution_count": 21
        }
      ],
      "source": [
        "my_list"
      ]
    },
    {
      "cell_type": "markdown",
      "metadata": {
        "id": "FXUE96ZyePGe"
      },
      "source": [
        "**Q6: Complete the following `print` and `if` statements by accessing the appropriate elements from `my_list`.**\n",
        "\n",
        "*Hint*: Use the list indexing notation `[]`."
      ]
    },
    {
      "cell_type": "code",
      "execution_count": 22,
      "metadata": {
        "colab": {
          "base_uri": "https://localhost:8080/"
        },
        "id": "f6s8OGRjePGf",
        "outputId": "d7d0441d-1d14-4977-e0dd-a07c019befc0"
      },
      "outputs": [
        {
          "output_type": "stream",
          "name": "stdout",
          "text": [
            "My favorite color is Black\n"
          ]
        }
      ],
      "source": [
        "print('My favorite color is', my_list[0])"
      ]
    },
    {
      "cell_type": "code",
      "execution_count": 25,
      "metadata": {
        "colab": {
          "base_uri": "https://localhost:8080/"
        },
        "id": "eWEnYkcGePGf",
        "outputId": "fad23a2f-6484-4b8a-c754-95b95db91c21"
      },
      "outputs": [
        {
          "output_type": "stream",
          "name": "stdout",
          "text": [
            "I have 2 pet(s).\n"
          ]
        }
      ],
      "source": [
        "print('I have {} pet(s).'.format(my_list[1]))"
      ]
    },
    {
      "cell_type": "code",
      "execution_count": 26,
      "metadata": {
        "colab": {
          "base_uri": "https://localhost:8080/"
        },
        "id": "yMbwkxGEePGf",
        "outputId": "0deae064-f62a-4b9e-8fad-4a64f6545f9d"
      },
      "outputs": [
        {
          "output_type": "stream",
          "name": "stdout",
          "text": [
            "I have previous programming experience\n"
          ]
        }
      ],
      "source": [
        "if my_list[2]==\"Yes\":\n",
        "    print(\"I have previous programming experience\")\n",
        "else:\n",
        "    print(\"I do not have previous programming experience\")"
      ]
    },
    {
      "cell_type": "markdown",
      "metadata": {
        "id": "GpP2_XiIePGf"
      },
      "source": [
        "**Q7: Add your favorite single digit number to the end of the list using the appropriate list method.**"
      ]
    },
    {
      "cell_type": "code",
      "execution_count": 27,
      "metadata": {
        "id": "kc9HnjPYePGf"
      },
      "outputs": [],
      "source": [
        "my_list.append(27)"
      ]
    },
    {
      "cell_type": "markdown",
      "metadata": {
        "id": "hjE4P6qPePGg"
      },
      "source": [
        "Let's see if the number shows up in the list."
      ]
    },
    {
      "cell_type": "code",
      "execution_count": 28,
      "metadata": {
        "colab": {
          "base_uri": "https://localhost:8080/"
        },
        "id": "Gj8yJ9qMePGg",
        "outputId": "feca74d7-515a-443b-f00e-a03b5521c5d5"
      },
      "outputs": [
        {
          "output_type": "execute_result",
          "data": {
            "text/plain": [
              "['Black', 2, 'Yes', 27]"
            ]
          },
          "metadata": {},
          "execution_count": 28
        }
      ],
      "source": [
        "my_list"
      ]
    },
    {
      "cell_type": "markdown",
      "metadata": {
        "id": "ao3lQJW-ePGg"
      },
      "source": [
        "**Q8: Remove the first element of the list, using the appropriate list method.**\n",
        "\n",
        "*Hint*: Check out methods of list here: https://www.w3schools.com/python/python_ref_list.asp"
      ]
    },
    {
      "cell_type": "code",
      "execution_count": 29,
      "metadata": {
        "colab": {
          "base_uri": "https://localhost:8080/",
          "height": 35
        },
        "id": "3M0D4AUCePGg",
        "outputId": "0254c742-d290-48e8-a456-2de64238453b"
      },
      "outputs": [
        {
          "output_type": "execute_result",
          "data": {
            "application/vnd.google.colaboratory.intrinsic+json": {
              "type": "string"
            },
            "text/plain": [
              "'Black'"
            ]
          },
          "metadata": {},
          "execution_count": 29
        }
      ],
      "source": [
        "my_list.pop(0)"
      ]
    },
    {
      "cell_type": "code",
      "execution_count": 30,
      "metadata": {
        "colab": {
          "base_uri": "https://localhost:8080/"
        },
        "id": "zkhHYcj7ePGg",
        "outputId": "2616b0b8-53b3-45b3-a54a-dd9da6c1b347"
      },
      "outputs": [
        {
          "output_type": "execute_result",
          "data": {
            "text/plain": [
              "[2, 'Yes', 27]"
            ]
          },
          "metadata": {},
          "execution_count": 30
        }
      ],
      "source": [
        "my_list"
      ]
    },
    {
      "cell_type": "markdown",
      "metadata": {
        "id": "GxyDj7syePGh"
      },
      "source": [
        "**Q9: Complete the `print` statement below to display the number of elements in `my_list`.**"
      ]
    },
    {
      "cell_type": "code",
      "execution_count": 31,
      "metadata": {
        "colab": {
          "base_uri": "https://localhost:8080/"
        },
        "id": "h43HN-bwePGh",
        "outputId": "4facb7a4-e01d-4d81-d01b-6a6e8b3f10b3"
      },
      "outputs": [
        {
          "output_type": "stream",
          "name": "stdout",
          "text": [
            "The list has 3 elements.\n"
          ]
        }
      ],
      "source": [
        "print(\"The list has {} elements.\".format(len(my_list)))"
      ]
    },
    {
      "cell_type": "markdown",
      "metadata": {
        "id": "Z8daUcTYePGh"
      },
      "source": [
        "Well done, you're making good progress! Save your work before continuing"
      ]
    },
    {
      "cell_type": "code",
      "execution_count": 32,
      "metadata": {
        "colab": {
          "base_uri": "https://localhost:8080/",
          "height": 90
        },
        "id": "u3_E_TWgePGh",
        "outputId": "6d996da2-1934-4c6f-8a58-ce49ddcddb5e"
      },
      "outputs": [
        {
          "output_type": "stream",
          "name": "stdout",
          "text": [
            "[jovian] Detected Colab notebook...\u001b[0m\n",
            "[jovian] Uploading colab notebook to Jovian...\u001b[0m\n",
            "Committed successfully! https://jovian.ai/akshay270802/python-practice-assignment\n"
          ]
        },
        {
          "output_type": "execute_result",
          "data": {
            "application/vnd.google.colaboratory.intrinsic+json": {
              "type": "string"
            },
            "text/plain": [
              "'https://jovian.ai/akshay270802/python-practice-assignment'"
            ]
          },
          "metadata": {},
          "execution_count": 32
        }
      ],
      "source": [
        "jovian.commit(project=project_name,environment=None)"
      ]
    },
    {
      "cell_type": "markdown",
      "metadata": {
        "id": "as9ghekiePGh"
      },
      "source": [
        "## Problem 3 - Conditions and loops\n",
        "\n",
        "**Q10: Calculate and display the sum of all the numbers divisible by 7 between 18 and 534 i.e. `21+28+35+...+525+532`**.\n",
        "\n",
        "*Hint*: One way to do this is to loop over a `range` using `for` and use an `if` statement inside it."
      ]
    },
    {
      "cell_type": "code",
      "execution_count": 33,
      "metadata": {
        "colab": {
          "base_uri": "https://localhost:8080/"
        },
        "id": "nUmyQenzePGi",
        "outputId": "17e79db1-01b5-48ab-d477-8bcd7b7031aa"
      },
      "outputs": [
        {
          "output_type": "stream",
          "name": "stdout",
          "text": [
            "21,49,84,126,175,231,294,364,441,525,616,714,819,931,1050,1176,1309,1449,1596,1750,1911,2079,2254,2436,2625,2821,3024,3234,3451,3675,3906,4144,4389,4641,4900,5166,5439,5719,6006,6300,6601,6909,7224,7546,7875,8211,8554,8904,9261,9625,9996,10374,10759,11151,11550,11956,12369,12789,13216,13650,14091,14539,14994,15456,15925,16401,16884,17374,17871,18375,18886,19404,19929,20461,"
          ]
        }
      ],
      "source": [
        "# store the final answer in this variable\n",
        "sum_of_numbers = 0\n",
        "for i in range(18,534):\n",
        "  if (i%7==0):\n",
        "    sum_of_numbers+=i\n",
        "    print(sum_of_numbers,end=\",\")"
      ]
    },
    {
      "cell_type": "code",
      "execution_count": 34,
      "metadata": {
        "colab": {
          "base_uri": "https://localhost:8080/"
        },
        "id": "07yAE6ifePGi",
        "outputId": "1ac36d91-0e9d-4782-8ec1-ee28a4a11491"
      },
      "outputs": [
        {
          "output_type": "stream",
          "name": "stdout",
          "text": [
            "The sum of all the numbers divisible by 7 between 18 and 534 is 20461\n"
          ]
        }
      ],
      "source": [
        "print('The sum of all the numbers divisible by 7 between 18 and 534 is', sum_of_numbers)"
      ]
    },
    {
      "cell_type": "markdown",
      "metadata": {
        "id": "e_qgqU36ePGi"
      },
      "source": [
        "If you are not able to figure out the solution to this problem, you can ask for hints on the community forum: https://jovian.ml/forum/t/assignment-1-python-practice/7761 . Remember to save your work before moving forward."
      ]
    },
    {
      "cell_type": "code",
      "execution_count": 35,
      "metadata": {
        "colab": {
          "base_uri": "https://localhost:8080/",
          "height": 90
        },
        "id": "-SNO2dmzePGi",
        "outputId": "2a565c2e-7d0e-425a-a386-c8b00f878782"
      },
      "outputs": [
        {
          "output_type": "stream",
          "name": "stdout",
          "text": [
            "[jovian] Detected Colab notebook...\u001b[0m\n",
            "[jovian] Uploading colab notebook to Jovian...\u001b[0m\n",
            "Committed successfully! https://jovian.ai/akshay270802/python-practice-assignment\n"
          ]
        },
        {
          "output_type": "execute_result",
          "data": {
            "application/vnd.google.colaboratory.intrinsic+json": {
              "type": "string"
            },
            "text/plain": [
              "'https://jovian.ai/akshay270802/python-practice-assignment'"
            ]
          },
          "metadata": {},
          "execution_count": 35
        }
      ],
      "source": [
        "jovian.commit(project=project_name,environment=None)"
      ]
    },
    {
      "cell_type": "markdown",
      "metadata": {
        "id": "iEyXuUuSePGi"
      },
      "source": [
        "## Problem 4 - Flying to the Bahamas\n",
        "\n",
        "**Q11: A travel company wants to fly a plane to the Bahamas. Flying the plane costs 5000 dollars. So far, 29 people have signed up for the trip. If the company charges 200 dollars per ticket, what is the profit made by the company?**\n",
        "\n",
        "Fill in values or arithmetic expressions for the variables below."
      ]
    },
    {
      "cell_type": "code",
      "execution_count": 36,
      "metadata": {
        "id": "3LDJ3g33ePGi"
      },
      "outputs": [],
      "source": [
        "cost_of_flying_plane = 5000"
      ]
    },
    {
      "cell_type": "code",
      "execution_count": 37,
      "metadata": {
        "id": "w1xDC9PEePGj"
      },
      "outputs": [],
      "source": [
        "number_of_passengers = 29"
      ]
    },
    {
      "cell_type": "code",
      "execution_count": 38,
      "metadata": {
        "id": "5oEongXmePGj"
      },
      "outputs": [],
      "source": [
        "price_of_ticket = 200"
      ]
    },
    {
      "cell_type": "code",
      "execution_count": 39,
      "metadata": {
        "id": "RQC0GRT9ePGj"
      },
      "outputs": [],
      "source": [
        "profit = price_of_ticket* number_of_passengers-cost_of_flying_plane "
      ]
    },
    {
      "cell_type": "code",
      "execution_count": 40,
      "metadata": {
        "colab": {
          "base_uri": "https://localhost:8080/"
        },
        "id": "3ZiA6w_JePGj",
        "outputId": "cc2ae9c9-837e-40ec-aa75-d19b8e601ebd"
      },
      "outputs": [
        {
          "output_type": "stream",
          "name": "stdout",
          "text": [
            "The company makes of a profit of 800 dollars\n"
          ]
        }
      ],
      "source": [
        "print('The company makes of a profit of {} dollars'.format(profit))"
      ]
    },
    {
      "cell_type": "markdown",
      "metadata": {
        "id": "5wwpW8veePGj"
      },
      "source": [
        "**Q11b (Optional): Out of the 29 people who took the flight, only 12 buy tickets to return from the Bahamas on the same plane. If the flying the plane back also costs 5000 dollars, and does the company make an overall profit or loss? The company charges the same fee of 200 dollars per ticket for the return flight.**\n",
        "\n",
        "Use an `if` statement to display the result."
      ]
    },
    {
      "cell_type": "code",
      "execution_count": 41,
      "metadata": {
        "id": "uX3-KKkVePGk"
      },
      "outputs": [],
      "source": [
        "# this is optional\n",
        "number_of_passengers = 12\n",
        "cost_of_flying_plane = 5000\n",
        "price_of_ticket = 200\n",
        "profit2 =  price_of_ticket* number_of_passengers-cost_of_flying_plane \n",
        "overall=profit + profit2\n"
      ]
    },
    {
      "cell_type": "code",
      "execution_count": null,
      "metadata": {
        "id": "x1RFV7I4ePGk"
      },
      "outputs": [],
      "source": [
        "# this is optional\n",
        "if overall>0:\n",
        "    print(\"The company makes an overall profit of {} dollars\".format(overall))\n",
        "else:\n",
        "    print(\"The company makes an overall loss of {} dollars\".format(overall))"
      ]
    },
    {
      "cell_type": "markdown",
      "metadata": {
        "id": "c0ZxMPymePGk"
      },
      "source": [
        "Great work so far! Want to take a break? Remember to save and upload your notebook to record your progress."
      ]
    },
    {
      "cell_type": "code",
      "execution_count": 42,
      "metadata": {
        "colab": {
          "base_uri": "https://localhost:8080/",
          "height": 90
        },
        "id": "nYqZHwRsePGk",
        "outputId": "97bf067b-d32e-4f78-8e17-72c1e86a3873"
      },
      "outputs": [
        {
          "output_type": "stream",
          "name": "stdout",
          "text": [
            "[jovian] Detected Colab notebook...\u001b[0m\n",
            "[jovian] Uploading colab notebook to Jovian...\u001b[0m\n",
            "Committed successfully! https://jovian.ai/akshay270802/python-practice-assignment\n"
          ]
        },
        {
          "output_type": "execute_result",
          "data": {
            "application/vnd.google.colaboratory.intrinsic+json": {
              "type": "string"
            },
            "text/plain": [
              "'https://jovian.ai/akshay270802/python-practice-assignment'"
            ]
          },
          "metadata": {},
          "execution_count": 42
        }
      ],
      "source": [
        "jovian.commit(project=project_name,environment=None)"
      ]
    },
    {
      "cell_type": "markdown",
      "metadata": {
        "id": "oA_TgVo2ePGk"
      },
      "source": [
        "## Problem 5 - Twitter Sentiment Analysis\n",
        "\n",
        "Are your ready to perform some *Data Analysis with Python*? In this problem, we'll analyze some fictional tweets and find out whether the overall sentiment of Twitter users is happy or sad. This is a simplified version of an important real world problem called *sentiment analysis*.\n",
        "\n",
        "Before we begin, we need a list of tweets to analyze. We're picking a small number of tweets here, but the exact same analysis can also be done for thousands, or even millions of tweets. The collection of data that we perform analysis on is often called a *dataset*."
      ]
    },
    {
      "cell_type": "code",
      "execution_count": 43,
      "metadata": {
        "id": "4-60I9RiePGl"
      },
      "outputs": [],
      "source": [
        "tweets = [\n",
        "    \"Wow, what a great day today!! #sunshine\",\n",
        "    \"I feel sad about the things going on around us. #covid19\",\n",
        "    \"I'm really excited to learn Python with @JovianML #zerotopandas\",\n",
        "    \"This is a really nice song. #linkinpark\",\n",
        "    \"The python programming language is useful for data science\",\n",
        "    \"Why do bad things happen to me?\",\n",
        "    \"Apple announces the release of the new iPhone 12. Fans are excited.\",\n",
        "    \"Spent my day with family!! #happy\",\n",
        "    \"Check out my blog post on common string operations in Python. #zerotopandas\",\n",
        "    \"Freecodecamp has great coding tutorials. #skillup\"\n",
        "]"
      ]
    },
    {
      "cell_type": "markdown",
      "metadata": {
        "id": "fMGD0XfCePGl"
      },
      "source": [
        "Let's begin by answering a very simple but important question about our dataset.\n",
        "\n",
        "**Q12: How many tweets does the dataset contain?**"
      ]
    },
    {
      "cell_type": "code",
      "execution_count": 44,
      "metadata": {
        "id": "Ahas6BrcePGl"
      },
      "outputs": [],
      "source": [
        "number_of_tweets = len(tweets)"
      ]
    },
    {
      "cell_type": "markdown",
      "metadata": {
        "id": "8PXgrRfdePGl"
      },
      "source": [
        "Let's create two lists of words: `happy_words` and `sad_words`. We will use these to check if a tweet is happy or sad."
      ]
    },
    {
      "cell_type": "code",
      "execution_count": 45,
      "metadata": {
        "id": "h_cCJsp1ePGl"
      },
      "outputs": [],
      "source": [
        "happy_words = ['great', 'excited', 'happy', 'nice', 'wonderful', 'amazing', 'good', 'best']"
      ]
    },
    {
      "cell_type": "code",
      "execution_count": 46,
      "metadata": {
        "id": "kF16BSeSePGl"
      },
      "outputs": [],
      "source": [
        "sad_words = ['sad', 'bad', 'tragic', 'unhappy', 'worst']"
      ]
    },
    {
      "cell_type": "markdown",
      "metadata": {
        "id": "zrTJXDKcePGm"
      },
      "source": [
        "To identify whether a tweet is happy, we can simply check if contains any of the words from `happy_words`. Here's an example:"
      ]
    },
    {
      "cell_type": "code",
      "execution_count": 47,
      "metadata": {
        "id": "gtA_r-LFePGm"
      },
      "outputs": [],
      "source": [
        "sample_tweet = tweets[0]"
      ]
    },
    {
      "cell_type": "code",
      "execution_count": 48,
      "metadata": {
        "colab": {
          "base_uri": "https://localhost:8080/",
          "height": 35
        },
        "id": "Tvy9YeoZePGm",
        "outputId": "16bbe9a0-eac4-48d8-d284-e64a81075743"
      },
      "outputs": [
        {
          "output_type": "execute_result",
          "data": {
            "application/vnd.google.colaboratory.intrinsic+json": {
              "type": "string"
            },
            "text/plain": [
              "'Wow, what a great day today!! #sunshine'"
            ]
          },
          "metadata": {},
          "execution_count": 48
        }
      ],
      "source": [
        "sample_tweet"
      ]
    },
    {
      "cell_type": "code",
      "execution_count": 49,
      "metadata": {
        "id": "690jMQKqePGm"
      },
      "outputs": [],
      "source": [
        "is_tweet_happy = False\n",
        "\n",
        "# Get a word from happy_words\n",
        "for word in happy_words:\n",
        "    # Check if the tweet contains the word\n",
        "    if word in sample_tweet:\n",
        "        # Word found! Mark the tweet as happy\n",
        "        is_tweet_happy = True"
      ]
    },
    {
      "cell_type": "markdown",
      "metadata": {
        "id": "vJF3A733ePGn"
      },
      "source": [
        "Do you understand what we're doing above? \n",
        "\n",
        "> For each word in the list of happy words, we check if is a part of the selected tweet. If the word is indded a part of the tweet, we set the variable `is_tweet_happy` to `True`. "
      ]
    },
    {
      "cell_type": "code",
      "execution_count": 50,
      "metadata": {
        "colab": {
          "base_uri": "https://localhost:8080/"
        },
        "id": "cLFYBH9VePGn",
        "outputId": "508edbbd-c6a7-4cca-8f77-7e43cc00be6d"
      },
      "outputs": [
        {
          "output_type": "execute_result",
          "data": {
            "text/plain": [
              "True"
            ]
          },
          "metadata": {},
          "execution_count": 50
        }
      ],
      "source": [
        "is_tweet_happy"
      ]
    },
    {
      "cell_type": "markdown",
      "metadata": {
        "id": "f13mo0C9ePGn"
      },
      "source": [
        "**Q13: Determine the number of tweets in the dataset that can be classified as happy.**\n",
        "\n",
        "*Hint*: You'll need to use a loop inside another loop to do this. Use the code from the example shown above."
      ]
    },
    {
      "cell_type": "code",
      "execution_count": 51,
      "metadata": {
        "id": "ltA6beXNePGn"
      },
      "outputs": [],
      "source": [
        "# store the final answer in this variable\n",
        "number_of_happy_tweets = 0\n",
        "\n",
        "# perform the calculations here\n",
        "for tweet in tweets:\n",
        "    for word in happy_words:\n",
        "        if word in tweet:\n",
        "            is_tweet_happy = True\n",
        "            number_of_happy_tweets += 1"
      ]
    },
    {
      "cell_type": "code",
      "execution_count": 52,
      "metadata": {
        "colab": {
          "base_uri": "https://localhost:8080/"
        },
        "id": "VYf2i4-5ePGn",
        "outputId": "9dfabee5-4151-47b2-b25a-2b1e643a835a"
      },
      "outputs": [
        {
          "output_type": "stream",
          "name": "stdout",
          "text": [
            "Number of happy tweets: 6\n"
          ]
        }
      ],
      "source": [
        "print(\"Number of happy tweets:\", number_of_happy_tweets)"
      ]
    },
    {
      "cell_type": "markdown",
      "metadata": {
        "id": "jgMRKvTGePGn"
      },
      "source": [
        "If you are not able to figure out the solution to this problem, you can ask for hints on the community forum: https://jovian.ml/forum/t/assignment-1-python-practice/7761 . Also try adding `print` statements inside your loops to inspect variables and make sure your logic is correct."
      ]
    },
    {
      "cell_type": "markdown",
      "metadata": {
        "id": "T5JB-I7aePGo"
      },
      "source": [
        "**Q14: What fraction of the total number of tweets are happy?**\n",
        "\n",
        "For example, if 2 out of 10 tweets are happy, then the answer is `2/10` i.e. `0.2`."
      ]
    },
    {
      "cell_type": "code",
      "execution_count": 53,
      "metadata": {
        "id": "-HVErYIeePGo"
      },
      "outputs": [],
      "source": [
        "happy_fraction = number_of_happy_tweets/number_of_tweets"
      ]
    },
    {
      "cell_type": "code",
      "execution_count": 54,
      "metadata": {
        "colab": {
          "base_uri": "https://localhost:8080/"
        },
        "id": "9SSstY3RePGo",
        "outputId": "4ccabe35-b6c5-457b-f558-cf7868336cdd"
      },
      "outputs": [
        {
          "output_type": "stream",
          "name": "stdout",
          "text": [
            "The fraction of happy tweets is: 0.6\n"
          ]
        }
      ],
      "source": [
        "print(\"The fraction of happy tweets is:\", happy_fraction)"
      ]
    },
    {
      "cell_type": "markdown",
      "metadata": {
        "id": "QgJkLfsgePGo"
      },
      "source": [
        "To identify whether a tweet is sad, we can simply check if contains any of the words from `sad_words`.\n",
        "\n",
        "**Q15: Determine the number of tweets in the dataset that can be classified as sad.**"
      ]
    },
    {
      "cell_type": "code",
      "execution_count": 55,
      "metadata": {
        "id": "0ltD0PMsePGo"
      },
      "outputs": [],
      "source": [
        "# store the final answer in this variable\n",
        "number_of_sad_tweets = 0\n",
        "\n",
        "# perform the calculations here\n",
        "is_tweet_sad = False\n",
        "for tweet in tweets:\n",
        "    for word in sad_words:\n",
        "        if word in tweet:\n",
        "            is_tweet_sad = True\n",
        "            number_of_sad_tweets += 1"
      ]
    },
    {
      "cell_type": "code",
      "execution_count": 56,
      "metadata": {
        "colab": {
          "base_uri": "https://localhost:8080/"
        },
        "id": "gfZ0IbplePGo",
        "outputId": "db1e5375-39ed-4e95-c89a-a3c38f844ff5"
      },
      "outputs": [
        {
          "output_type": "stream",
          "name": "stdout",
          "text": [
            "Number of sad tweets: 2\n"
          ]
        }
      ],
      "source": [
        "print(\"Number of sad tweets:\", number_of_sad_tweets)"
      ]
    },
    {
      "cell_type": "markdown",
      "metadata": {
        "id": "27s5WuuQePGp"
      },
      "source": [
        "**Q16: What fraction of the total number of tweets are sad?**"
      ]
    },
    {
      "cell_type": "code",
      "execution_count": 57,
      "metadata": {
        "id": "YhJsqIf0ePGp"
      },
      "outputs": [],
      "source": [
        "sad_fraction = number_of_sad_tweets/number_of_tweets"
      ]
    },
    {
      "cell_type": "code",
      "execution_count": 58,
      "metadata": {
        "colab": {
          "base_uri": "https://localhost:8080/"
        },
        "id": "cS4c5f0JePGp",
        "outputId": "62c26eec-e11a-4b40-a3db-ba4ec5d0043d"
      },
      "outputs": [
        {
          "output_type": "stream",
          "name": "stdout",
          "text": [
            "The fraction of sad tweets is: 0.2\n"
          ]
        }
      ],
      "source": [
        "print(\"The fraction of sad tweets is:\", sad_fraction)"
      ]
    },
    {
      "cell_type": "markdown",
      "metadata": {
        "id": "e-6q-HdsePGp"
      },
      "source": [
        "The rest of this problem is optional. Let's save your work before continuing."
      ]
    },
    {
      "cell_type": "code",
      "execution_count": 59,
      "metadata": {
        "colab": {
          "base_uri": "https://localhost:8080/",
          "height": 90
        },
        "id": "jDaw7Sw6ePGp",
        "outputId": "146daa3c-a304-434b-be7b-0d2fdea11753"
      },
      "outputs": [
        {
          "output_type": "stream",
          "name": "stdout",
          "text": [
            "[jovian] Detected Colab notebook...\u001b[0m\n",
            "[jovian] Uploading colab notebook to Jovian...\u001b[0m\n",
            "Committed successfully! https://jovian.ai/akshay270802/python-practice-assignment\n"
          ]
        },
        {
          "output_type": "execute_result",
          "data": {
            "application/vnd.google.colaboratory.intrinsic+json": {
              "type": "string"
            },
            "text/plain": [
              "'https://jovian.ai/akshay270802/python-practice-assignment'"
            ]
          },
          "metadata": {},
          "execution_count": 59
        }
      ],
      "source": [
        "jovian.commit(project=project_name,environment=None)"
      ]
    },
    {
      "cell_type": "markdown",
      "metadata": {
        "id": "LPn1Mn_yePGp"
      },
      "source": [
        "Great work, even with some basic analysis, we already know a lot about the sentiment of the tweets given to us. Let us now define a metric called \"sentiment score\", to summarize the overall sentiment of the tweets.\n",
        "\n",
        "**Q16b (Optional): Calculate the sentiment score, which is defined as the difference betweek the fraction of happy tweets and the fraction of sad tweets.**"
      ]
    },
    {
      "cell_type": "code",
      "execution_count": 60,
      "metadata": {
        "id": "Lc0ayXANePGq"
      },
      "outputs": [],
      "source": [
        "sentiment_score = happy_fraction-sad_fraction"
      ]
    },
    {
      "cell_type": "code",
      "execution_count": 61,
      "metadata": {
        "colab": {
          "base_uri": "https://localhost:8080/"
        },
        "id": "5mX5RL92ePGq",
        "outputId": "65f5e99a-1c13-4c38-f6a6-87b64ea17e3d"
      },
      "outputs": [
        {
          "output_type": "stream",
          "name": "stdout",
          "text": [
            "The sentiment score for the given tweets is 0.39999999999999997\n"
          ]
        }
      ],
      "source": [
        "print(\"The sentiment score for the given tweets is\", sentiment_score)"
      ]
    },
    {
      "cell_type": "markdown",
      "metadata": {
        "id": "7mN5ADmBePGq"
      },
      "source": [
        "In a real world scenario, we could calculate & record the sentiment score for all the tweets sent out every day. This information can be used to plot a graph and study the trends in the changing sentiment of the world. The following graph was creating using the Python data visualization library `matplotlib`, which we'll cover later in the course.\n",
        "\n",
        "<img src=\"https://i.imgur.com/6CCIwCb.png\" style=\"width:400px\">\n",
        "\n",
        "What does the sentiment score represent? Based on the value of the sentiment score, can you identify if the overall sentiment of the dataset is happy or sad?\n",
        "\n",
        "**Q16c (Optional): Display whether the overall sentiment of the given dataset of tweets is happy or sad, using the sentiment score.**"
      ]
    },
    {
      "cell_type": "code",
      "execution_count": 62,
      "metadata": {
        "colab": {
          "base_uri": "https://localhost:8080/"
        },
        "id": "hdnfJCJqePGq",
        "outputId": "68c899db-b553-4fd0-b0f8-526f4cc1c1ea"
      },
      "outputs": [
        {
          "output_type": "stream",
          "name": "stdout",
          "text": [
            "The overall sentiment is happy\n"
          ]
        }
      ],
      "source": [
        "if sentiment_score>0:\n",
        "    print(\"The overall sentiment is happy\")\n",
        "else:\n",
        "    print(\"The overall sentiment is sad\")"
      ]
    },
    {
      "cell_type": "markdown",
      "metadata": {
        "id": "51hcKE-WePGq"
      },
      "source": [
        "Finally, it's also important to track how many tweets are neutral i.e. neither happy nor sad. If a large fraction of tweets are marked neutral, maybe we need to improve our lists of happy and sad words. \n",
        "\n",
        "**Q16d (Optional): What is the fraction of tweets that are neutral i.e. neither happy nor sad.**"
      ]
    },
    {
      "cell_type": "code",
      "execution_count": 64,
      "metadata": {
        "colab": {
          "base_uri": "https://localhost:8080/"
        },
        "id": "hDxk-eNfePGr",
        "outputId": "b39806af-9f4f-4088-afcf-0493ec5ffc0d"
      },
      "outputs": [
        {
          "output_type": "stream",
          "name": "stdout",
          "text": [
            "The number of neutral tweets is 2\n"
          ]
        }
      ],
      "source": [
        "# store the final answer in this variable\n",
        "number_of_neutral_tweets = 0\n",
        "\n",
        "# perform the calculation here\n",
        "number_of_neutral_tweets = number_of_tweets - number_of_happy_tweets - number_of_sad_tweets\n",
        "print(\"The number of neutral tweets is {}\".format(number_of_neutral_tweets))"
      ]
    },
    {
      "cell_type": "code",
      "execution_count": 65,
      "metadata": {
        "id": "wR6rxxVtePGr"
      },
      "outputs": [],
      "source": [
        "neutral_fraction = number_of_tweets - number_of_happy_tweets - number_of_sad_tweets"
      ]
    },
    {
      "cell_type": "code",
      "execution_count": 66,
      "metadata": {
        "colab": {
          "base_uri": "https://localhost:8080/"
        },
        "id": "UshLttUMePGr",
        "outputId": "c2a94608-f390-4813-e732-882bfdd36b98"
      },
      "outputs": [
        {
          "output_type": "stream",
          "name": "stdout",
          "text": [
            "The fraction of neutral tweets is 2\n"
          ]
        }
      ],
      "source": [
        "print('The fraction of neutral tweets is', neutral_fraction)"
      ]
    },
    {
      "cell_type": "markdown",
      "metadata": {
        "id": "NQML-JxpePGr"
      },
      "source": [
        "Ponder upon these questions and try some experiments to hone your skills further:\n",
        "\n",
        "* What are the limitations of our approach? When will it go wrong or give incorrect results?\n",
        "* How can we improve our approach to address the limitations?\n",
        "* What are some other questions you would like to ask, given a list of tweets?\n",
        "* Try collecting some real tweets from your Twitter timeline and repeat this analysis. Do the results make sense?\n",
        "\n",
        "**IMPORTANT NOTE**: If you want to try out these experiments, please create a new notebook using the \"New Notebook\" button on your Jovian.ml profile, to avoid making unintended changes to your assignment submission notebook."
      ]
    },
    {
      "cell_type": "markdown",
      "metadata": {
        "id": "-CbHDmCOePGr"
      },
      "source": [
        "## Submission \n",
        "\n",
        "Congratulations on making it this far! You've reached the end of this assignment, and you just completed your first data analysis problem. It's time to record one final version of your notebook for submission.\n",
        "\n",
        "Make a submission here by filling the submission form: https://jovian.ml/learn/data-analysis-with-python-zero-to-pandas/assignment/assignment-1-python-basics-practice"
      ]
    },
    {
      "cell_type": "code",
      "execution_count": 67,
      "metadata": {
        "scrolled": false,
        "colab": {
          "base_uri": "https://localhost:8080/",
          "height": 90
        },
        "id": "Cedx79gZePGr",
        "outputId": "2d806306-ac33-4b4e-9d9a-6e0ac5b6daa3"
      },
      "outputs": [
        {
          "output_type": "stream",
          "name": "stdout",
          "text": [
            "[jovian] Detected Colab notebook...\u001b[0m\n",
            "[jovian] Uploading colab notebook to Jovian...\u001b[0m\n",
            "Committed successfully! https://jovian.ai/akshay270802/python-practice-assignment\n"
          ]
        },
        {
          "output_type": "execute_result",
          "data": {
            "application/vnd.google.colaboratory.intrinsic+json": {
              "type": "string"
            },
            "text/plain": [
              "'https://jovian.ai/akshay270802/python-practice-assignment'"
            ]
          },
          "metadata": {},
          "execution_count": 67
        }
      ],
      "source": [
        "jovian.commit(project=project_name,environment=None)"
      ]
    }
  ],
  "metadata": {
    "kernelspec": {
      "display_name": "Python 3",
      "language": "python",
      "name": "python3"
    },
    "language_info": {
      "codemirror_mode": {
        "name": "ipython",
        "version": 3
      },
      "file_extension": ".py",
      "mimetype": "text/x-python",
      "name": "python",
      "nbconvert_exporter": "python",
      "pygments_lexer": "ipython3",
      "version": "3.6.13"
    },
    "colab": {
      "name": "python-practice-assignment.ipynb",
      "provenance": [],
      "collapsed_sections": []
    }
  },
  "nbformat": 4,
  "nbformat_minor": 0
}